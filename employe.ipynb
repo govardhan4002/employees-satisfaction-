{
 "cells": [
  {
   "cell_type": "code",
   "execution_count": 3,
   "id": "90c3ec85-ca92-45ab-be5b-9aa50d124049",
   "metadata": {},
   "outputs": [],
   "source": [
    "import pandas as pd\n",
    "import numpy as np\n",
    "import matplotlib.pyplot as plt\n",
    "import seaborn as sns\n",
    "from scipy import stats"
   ]
  },
  {
   "cell_type": "code",
   "execution_count": 4,
   "id": "5ec7b276-b311-49da-8171-accdc7c9f81c",
   "metadata": {},
   "outputs": [],
   "source": [
    "df=pd.read_csv(\"employee_survey.csv\")"
   ]
  },
  {
   "cell_type": "code",
   "execution_count": 5,
   "id": "714302c7-47b3-4532-abf0-62bf2bee96f3",
   "metadata": {},
   "outputs": [
    {
     "data": {
      "text/html": [
       "<div>\n",
       "<style scoped>\n",
       "    .dataframe tbody tr th:only-of-type {\n",
       "        vertical-align: middle;\n",
       "    }\n",
       "\n",
       "    .dataframe tbody tr th {\n",
       "        vertical-align: top;\n",
       "    }\n",
       "\n",
       "    .dataframe thead th {\n",
       "        text-align: right;\n",
       "    }\n",
       "</style>\n",
       "<table border=\"1\" class=\"dataframe\">\n",
       "  <thead>\n",
       "    <tr style=\"text-align: right;\">\n",
       "      <th></th>\n",
       "      <th>EmpID</th>\n",
       "      <th>Gender</th>\n",
       "      <th>Age</th>\n",
       "      <th>MaritalStatus</th>\n",
       "      <th>JobLevel</th>\n",
       "      <th>Experience</th>\n",
       "      <th>Dept</th>\n",
       "      <th>EmpType</th>\n",
       "      <th>WLB</th>\n",
       "      <th>WorkEnv</th>\n",
       "      <th>...</th>\n",
       "      <th>SleepHours</th>\n",
       "      <th>CommuteMode</th>\n",
       "      <th>CommuteDistance</th>\n",
       "      <th>NumCompanies</th>\n",
       "      <th>TeamSize</th>\n",
       "      <th>NumReports</th>\n",
       "      <th>EduLevel</th>\n",
       "      <th>haveOT</th>\n",
       "      <th>TrainingHoursPerYear</th>\n",
       "      <th>JobSatisfaction</th>\n",
       "    </tr>\n",
       "  </thead>\n",
       "  <tbody>\n",
       "    <tr>\n",
       "      <th>0</th>\n",
       "      <td>6</td>\n",
       "      <td>Male</td>\n",
       "      <td>32</td>\n",
       "      <td>Married</td>\n",
       "      <td>Mid</td>\n",
       "      <td>7</td>\n",
       "      <td>IT</td>\n",
       "      <td>Full-Time</td>\n",
       "      <td>1</td>\n",
       "      <td>1</td>\n",
       "      <td>...</td>\n",
       "      <td>7.6</td>\n",
       "      <td>Car</td>\n",
       "      <td>20</td>\n",
       "      <td>3</td>\n",
       "      <td>12</td>\n",
       "      <td>0</td>\n",
       "      <td>Bachelor</td>\n",
       "      <td>True</td>\n",
       "      <td>33.5</td>\n",
       "      <td>5</td>\n",
       "    </tr>\n",
       "    <tr>\n",
       "      <th>1</th>\n",
       "      <td>11</td>\n",
       "      <td>Female</td>\n",
       "      <td>34</td>\n",
       "      <td>Married</td>\n",
       "      <td>Mid</td>\n",
       "      <td>12</td>\n",
       "      <td>Finance</td>\n",
       "      <td>Full-Time</td>\n",
       "      <td>1</td>\n",
       "      <td>1</td>\n",
       "      <td>...</td>\n",
       "      <td>7.9</td>\n",
       "      <td>Car</td>\n",
       "      <td>15</td>\n",
       "      <td>4</td>\n",
       "      <td>11</td>\n",
       "      <td>0</td>\n",
       "      <td>Bachelor</td>\n",
       "      <td>False</td>\n",
       "      <td>36.0</td>\n",
       "      <td>5</td>\n",
       "    </tr>\n",
       "    <tr>\n",
       "      <th>2</th>\n",
       "      <td>33</td>\n",
       "      <td>Female</td>\n",
       "      <td>23</td>\n",
       "      <td>Single</td>\n",
       "      <td>Intern/Fresher</td>\n",
       "      <td>1</td>\n",
       "      <td>Marketing</td>\n",
       "      <td>Full-Time</td>\n",
       "      <td>2</td>\n",
       "      <td>4</td>\n",
       "      <td>...</td>\n",
       "      <td>6.5</td>\n",
       "      <td>Motorbike</td>\n",
       "      <td>17</td>\n",
       "      <td>0</td>\n",
       "      <td>30</td>\n",
       "      <td>0</td>\n",
       "      <td>Bachelor</td>\n",
       "      <td>True</td>\n",
       "      <td>10.5</td>\n",
       "      <td>5</td>\n",
       "    </tr>\n",
       "    <tr>\n",
       "      <th>3</th>\n",
       "      <td>20</td>\n",
       "      <td>Female</td>\n",
       "      <td>29</td>\n",
       "      <td>Married</td>\n",
       "      <td>Junior</td>\n",
       "      <td>6</td>\n",
       "      <td>IT</td>\n",
       "      <td>Contract</td>\n",
       "      <td>2</td>\n",
       "      <td>2</td>\n",
       "      <td>...</td>\n",
       "      <td>7.5</td>\n",
       "      <td>Public Transport</td>\n",
       "      <td>13</td>\n",
       "      <td>2</td>\n",
       "      <td>9</td>\n",
       "      <td>0</td>\n",
       "      <td>Bachelor</td>\n",
       "      <td>True</td>\n",
       "      <td>23.0</td>\n",
       "      <td>5</td>\n",
       "    </tr>\n",
       "    <tr>\n",
       "      <th>4</th>\n",
       "      <td>28</td>\n",
       "      <td>Other</td>\n",
       "      <td>23</td>\n",
       "      <td>Single</td>\n",
       "      <td>Junior</td>\n",
       "      <td>1</td>\n",
       "      <td>Sales</td>\n",
       "      <td>Part-Time</td>\n",
       "      <td>3</td>\n",
       "      <td>1</td>\n",
       "      <td>...</td>\n",
       "      <td>4.9</td>\n",
       "      <td>Car</td>\n",
       "      <td>20</td>\n",
       "      <td>0</td>\n",
       "      <td>7</td>\n",
       "      <td>0</td>\n",
       "      <td>Bachelor</td>\n",
       "      <td>False</td>\n",
       "      <td>20.5</td>\n",
       "      <td>5</td>\n",
       "    </tr>\n",
       "    <tr>\n",
       "      <th>...</th>\n",
       "      <td>...</td>\n",
       "      <td>...</td>\n",
       "      <td>...</td>\n",
       "      <td>...</td>\n",
       "      <td>...</td>\n",
       "      <td>...</td>\n",
       "      <td>...</td>\n",
       "      <td>...</td>\n",
       "      <td>...</td>\n",
       "      <td>...</td>\n",
       "      <td>...</td>\n",
       "      <td>...</td>\n",
       "      <td>...</td>\n",
       "      <td>...</td>\n",
       "      <td>...</td>\n",
       "      <td>...</td>\n",
       "      <td>...</td>\n",
       "      <td>...</td>\n",
       "      <td>...</td>\n",
       "      <td>...</td>\n",
       "      <td>...</td>\n",
       "    </tr>\n",
       "    <tr>\n",
       "      <th>3020</th>\n",
       "      <td>2070</td>\n",
       "      <td>Male</td>\n",
       "      <td>47</td>\n",
       "      <td>Married</td>\n",
       "      <td>Lead</td>\n",
       "      <td>16</td>\n",
       "      <td>Marketing</td>\n",
       "      <td>Part-Time</td>\n",
       "      <td>1</td>\n",
       "      <td>3</td>\n",
       "      <td>...</td>\n",
       "      <td>6.8</td>\n",
       "      <td>Public Transport</td>\n",
       "      <td>15</td>\n",
       "      <td>8</td>\n",
       "      <td>28</td>\n",
       "      <td>8</td>\n",
       "      <td>Master</td>\n",
       "      <td>False</td>\n",
       "      <td>58.0</td>\n",
       "      <td>1</td>\n",
       "    </tr>\n",
       "    <tr>\n",
       "      <th>3021</th>\n",
       "      <td>2072</td>\n",
       "      <td>Female</td>\n",
       "      <td>47</td>\n",
       "      <td>Married</td>\n",
       "      <td>Lead</td>\n",
       "      <td>8</td>\n",
       "      <td>IT</td>\n",
       "      <td>Contract</td>\n",
       "      <td>3</td>\n",
       "      <td>1</td>\n",
       "      <td>...</td>\n",
       "      <td>6.9</td>\n",
       "      <td>Car</td>\n",
       "      <td>28</td>\n",
       "      <td>8</td>\n",
       "      <td>21</td>\n",
       "      <td>8</td>\n",
       "      <td>Master</td>\n",
       "      <td>True</td>\n",
       "      <td>54.0</td>\n",
       "      <td>1</td>\n",
       "    </tr>\n",
       "    <tr>\n",
       "      <th>3022</th>\n",
       "      <td>2145</td>\n",
       "      <td>Male</td>\n",
       "      <td>41</td>\n",
       "      <td>Married</td>\n",
       "      <td>Lead</td>\n",
       "      <td>17</td>\n",
       "      <td>IT</td>\n",
       "      <td>Full-Time</td>\n",
       "      <td>1</td>\n",
       "      <td>1</td>\n",
       "      <td>...</td>\n",
       "      <td>6.1</td>\n",
       "      <td>Public Transport</td>\n",
       "      <td>9</td>\n",
       "      <td>6</td>\n",
       "      <td>23</td>\n",
       "      <td>3</td>\n",
       "      <td>Master</td>\n",
       "      <td>True</td>\n",
       "      <td>58.5</td>\n",
       "      <td>1</td>\n",
       "    </tr>\n",
       "    <tr>\n",
       "      <th>3023</th>\n",
       "      <td>2168</td>\n",
       "      <td>Female</td>\n",
       "      <td>54</td>\n",
       "      <td>Married</td>\n",
       "      <td>Lead</td>\n",
       "      <td>16</td>\n",
       "      <td>IT</td>\n",
       "      <td>Full-Time</td>\n",
       "      <td>1</td>\n",
       "      <td>5</td>\n",
       "      <td>...</td>\n",
       "      <td>7.7</td>\n",
       "      <td>Public Transport</td>\n",
       "      <td>18</td>\n",
       "      <td>10</td>\n",
       "      <td>30</td>\n",
       "      <td>7</td>\n",
       "      <td>Master</td>\n",
       "      <td>True</td>\n",
       "      <td>58.0</td>\n",
       "      <td>1</td>\n",
       "    </tr>\n",
       "    <tr>\n",
       "      <th>3024</th>\n",
       "      <td>2183</td>\n",
       "      <td>Female</td>\n",
       "      <td>44</td>\n",
       "      <td>Married</td>\n",
       "      <td>Lead</td>\n",
       "      <td>22</td>\n",
       "      <td>Marketing</td>\n",
       "      <td>Full-Time</td>\n",
       "      <td>3</td>\n",
       "      <td>3</td>\n",
       "      <td>...</td>\n",
       "      <td>6.2</td>\n",
       "      <td>Car</td>\n",
       "      <td>10</td>\n",
       "      <td>7</td>\n",
       "      <td>29</td>\n",
       "      <td>4</td>\n",
       "      <td>PhD</td>\n",
       "      <td>False</td>\n",
       "      <td>61.0</td>\n",
       "      <td>1</td>\n",
       "    </tr>\n",
       "  </tbody>\n",
       "</table>\n",
       "<p>3025 rows × 23 columns</p>\n",
       "</div>"
      ],
      "text/plain": [
       "      EmpID  Gender  Age MaritalStatus        JobLevel  Experience       Dept  \\\n",
       "0         6    Male   32       Married             Mid           7         IT   \n",
       "1        11  Female   34       Married             Mid          12    Finance   \n",
       "2        33  Female   23        Single  Intern/Fresher           1  Marketing   \n",
       "3        20  Female   29       Married          Junior           6         IT   \n",
       "4        28   Other   23        Single          Junior           1      Sales   \n",
       "...     ...     ...  ...           ...             ...         ...        ...   \n",
       "3020   2070    Male   47       Married            Lead          16  Marketing   \n",
       "3021   2072  Female   47       Married            Lead           8         IT   \n",
       "3022   2145    Male   41       Married            Lead          17         IT   \n",
       "3023   2168  Female   54       Married            Lead          16         IT   \n",
       "3024   2183  Female   44       Married            Lead          22  Marketing   \n",
       "\n",
       "        EmpType  WLB  WorkEnv  ...  SleepHours       CommuteMode  \\\n",
       "0     Full-Time    1        1  ...         7.6               Car   \n",
       "1     Full-Time    1        1  ...         7.9               Car   \n",
       "2     Full-Time    2        4  ...         6.5         Motorbike   \n",
       "3      Contract    2        2  ...         7.5  Public Transport   \n",
       "4     Part-Time    3        1  ...         4.9               Car   \n",
       "...         ...  ...      ...  ...         ...               ...   \n",
       "3020  Part-Time    1        3  ...         6.8  Public Transport   \n",
       "3021   Contract    3        1  ...         6.9               Car   \n",
       "3022  Full-Time    1        1  ...         6.1  Public Transport   \n",
       "3023  Full-Time    1        5  ...         7.7  Public Transport   \n",
       "3024  Full-Time    3        3  ...         6.2               Car   \n",
       "\n",
       "      CommuteDistance  NumCompanies TeamSize  NumReports  EduLevel  haveOT  \\\n",
       "0                  20             3       12           0  Bachelor    True   \n",
       "1                  15             4       11           0  Bachelor   False   \n",
       "2                  17             0       30           0  Bachelor    True   \n",
       "3                  13             2        9           0  Bachelor    True   \n",
       "4                  20             0        7           0  Bachelor   False   \n",
       "...               ...           ...      ...         ...       ...     ...   \n",
       "3020               15             8       28           8    Master   False   \n",
       "3021               28             8       21           8    Master    True   \n",
       "3022                9             6       23           3    Master    True   \n",
       "3023               18            10       30           7    Master    True   \n",
       "3024               10             7       29           4       PhD   False   \n",
       "\n",
       "      TrainingHoursPerYear JobSatisfaction  \n",
       "0                     33.5               5  \n",
       "1                     36.0               5  \n",
       "2                     10.5               5  \n",
       "3                     23.0               5  \n",
       "4                     20.5               5  \n",
       "...                    ...             ...  \n",
       "3020                  58.0               1  \n",
       "3021                  54.0               1  \n",
       "3022                  58.5               1  \n",
       "3023                  58.0               1  \n",
       "3024                  61.0               1  \n",
       "\n",
       "[3025 rows x 23 columns]"
      ]
     },
     "execution_count": 5,
     "metadata": {},
     "output_type": "execute_result"
    }
   ],
   "source": [
    "df"
   ]
  },
  {
   "cell_type": "code",
   "execution_count": 6,
   "id": "ffb4b681-12f3-43a0-9fbb-0db3d375e94a",
   "metadata": {},
   "outputs": [
    {
     "data": {
      "text/html": [
       "<div>\n",
       "<style scoped>\n",
       "    .dataframe tbody tr th:only-of-type {\n",
       "        vertical-align: middle;\n",
       "    }\n",
       "\n",
       "    .dataframe tbody tr th {\n",
       "        vertical-align: top;\n",
       "    }\n",
       "\n",
       "    .dataframe thead th {\n",
       "        text-align: right;\n",
       "    }\n",
       "</style>\n",
       "<table border=\"1\" class=\"dataframe\">\n",
       "  <thead>\n",
       "    <tr style=\"text-align: right;\">\n",
       "      <th></th>\n",
       "      <th>EmpID</th>\n",
       "      <th>Gender</th>\n",
       "      <th>Age</th>\n",
       "      <th>MaritalStatus</th>\n",
       "      <th>JobLevel</th>\n",
       "      <th>Experience</th>\n",
       "      <th>Dept</th>\n",
       "      <th>EmpType</th>\n",
       "      <th>WLB</th>\n",
       "      <th>WorkEnv</th>\n",
       "      <th>...</th>\n",
       "      <th>SleepHours</th>\n",
       "      <th>CommuteMode</th>\n",
       "      <th>CommuteDistance</th>\n",
       "      <th>NumCompanies</th>\n",
       "      <th>TeamSize</th>\n",
       "      <th>NumReports</th>\n",
       "      <th>EduLevel</th>\n",
       "      <th>haveOT</th>\n",
       "      <th>TrainingHoursPerYear</th>\n",
       "      <th>JobSatisfaction</th>\n",
       "    </tr>\n",
       "  </thead>\n",
       "  <tbody>\n",
       "    <tr>\n",
       "      <th>0</th>\n",
       "      <td>6</td>\n",
       "      <td>Male</td>\n",
       "      <td>32</td>\n",
       "      <td>Married</td>\n",
       "      <td>Mid</td>\n",
       "      <td>7</td>\n",
       "      <td>IT</td>\n",
       "      <td>Full-Time</td>\n",
       "      <td>1</td>\n",
       "      <td>1</td>\n",
       "      <td>...</td>\n",
       "      <td>7.6</td>\n",
       "      <td>Car</td>\n",
       "      <td>20</td>\n",
       "      <td>3</td>\n",
       "      <td>12</td>\n",
       "      <td>0</td>\n",
       "      <td>Bachelor</td>\n",
       "      <td>True</td>\n",
       "      <td>33.5</td>\n",
       "      <td>5</td>\n",
       "    </tr>\n",
       "    <tr>\n",
       "      <th>1</th>\n",
       "      <td>11</td>\n",
       "      <td>Female</td>\n",
       "      <td>34</td>\n",
       "      <td>Married</td>\n",
       "      <td>Mid</td>\n",
       "      <td>12</td>\n",
       "      <td>Finance</td>\n",
       "      <td>Full-Time</td>\n",
       "      <td>1</td>\n",
       "      <td>1</td>\n",
       "      <td>...</td>\n",
       "      <td>7.9</td>\n",
       "      <td>Car</td>\n",
       "      <td>15</td>\n",
       "      <td>4</td>\n",
       "      <td>11</td>\n",
       "      <td>0</td>\n",
       "      <td>Bachelor</td>\n",
       "      <td>False</td>\n",
       "      <td>36.0</td>\n",
       "      <td>5</td>\n",
       "    </tr>\n",
       "    <tr>\n",
       "      <th>2</th>\n",
       "      <td>33</td>\n",
       "      <td>Female</td>\n",
       "      <td>23</td>\n",
       "      <td>Single</td>\n",
       "      <td>Intern/Fresher</td>\n",
       "      <td>1</td>\n",
       "      <td>Marketing</td>\n",
       "      <td>Full-Time</td>\n",
       "      <td>2</td>\n",
       "      <td>4</td>\n",
       "      <td>...</td>\n",
       "      <td>6.5</td>\n",
       "      <td>Motorbike</td>\n",
       "      <td>17</td>\n",
       "      <td>0</td>\n",
       "      <td>30</td>\n",
       "      <td>0</td>\n",
       "      <td>Bachelor</td>\n",
       "      <td>True</td>\n",
       "      <td>10.5</td>\n",
       "      <td>5</td>\n",
       "    </tr>\n",
       "    <tr>\n",
       "      <th>3</th>\n",
       "      <td>20</td>\n",
       "      <td>Female</td>\n",
       "      <td>29</td>\n",
       "      <td>Married</td>\n",
       "      <td>Junior</td>\n",
       "      <td>6</td>\n",
       "      <td>IT</td>\n",
       "      <td>Contract</td>\n",
       "      <td>2</td>\n",
       "      <td>2</td>\n",
       "      <td>...</td>\n",
       "      <td>7.5</td>\n",
       "      <td>Public Transport</td>\n",
       "      <td>13</td>\n",
       "      <td>2</td>\n",
       "      <td>9</td>\n",
       "      <td>0</td>\n",
       "      <td>Bachelor</td>\n",
       "      <td>True</td>\n",
       "      <td>23.0</td>\n",
       "      <td>5</td>\n",
       "    </tr>\n",
       "    <tr>\n",
       "      <th>4</th>\n",
       "      <td>28</td>\n",
       "      <td>Other</td>\n",
       "      <td>23</td>\n",
       "      <td>Single</td>\n",
       "      <td>Junior</td>\n",
       "      <td>1</td>\n",
       "      <td>Sales</td>\n",
       "      <td>Part-Time</td>\n",
       "      <td>3</td>\n",
       "      <td>1</td>\n",
       "      <td>...</td>\n",
       "      <td>4.9</td>\n",
       "      <td>Car</td>\n",
       "      <td>20</td>\n",
       "      <td>0</td>\n",
       "      <td>7</td>\n",
       "      <td>0</td>\n",
       "      <td>Bachelor</td>\n",
       "      <td>False</td>\n",
       "      <td>20.5</td>\n",
       "      <td>5</td>\n",
       "    </tr>\n",
       "  </tbody>\n",
       "</table>\n",
       "<p>5 rows × 23 columns</p>\n",
       "</div>"
      ],
      "text/plain": [
       "   EmpID  Gender  Age MaritalStatus        JobLevel  Experience       Dept  \\\n",
       "0      6    Male   32       Married             Mid           7         IT   \n",
       "1     11  Female   34       Married             Mid          12    Finance   \n",
       "2     33  Female   23        Single  Intern/Fresher           1  Marketing   \n",
       "3     20  Female   29       Married          Junior           6         IT   \n",
       "4     28   Other   23        Single          Junior           1      Sales   \n",
       "\n",
       "     EmpType  WLB  WorkEnv  ...  SleepHours       CommuteMode  \\\n",
       "0  Full-Time    1        1  ...         7.6               Car   \n",
       "1  Full-Time    1        1  ...         7.9               Car   \n",
       "2  Full-Time    2        4  ...         6.5         Motorbike   \n",
       "3   Contract    2        2  ...         7.5  Public Transport   \n",
       "4  Part-Time    3        1  ...         4.9               Car   \n",
       "\n",
       "   CommuteDistance  NumCompanies TeamSize  NumReports  EduLevel  haveOT  \\\n",
       "0               20             3       12           0  Bachelor    True   \n",
       "1               15             4       11           0  Bachelor   False   \n",
       "2               17             0       30           0  Bachelor    True   \n",
       "3               13             2        9           0  Bachelor    True   \n",
       "4               20             0        7           0  Bachelor   False   \n",
       "\n",
       "   TrainingHoursPerYear JobSatisfaction  \n",
       "0                  33.5               5  \n",
       "1                  36.0               5  \n",
       "2                  10.5               5  \n",
       "3                  23.0               5  \n",
       "4                  20.5               5  \n",
       "\n",
       "[5 rows x 23 columns]"
      ]
     },
     "execution_count": 6,
     "metadata": {},
     "output_type": "execute_result"
    }
   ],
   "source": [
    "df.head()"
   ]
  },
  {
   "cell_type": "code",
   "execution_count": 7,
   "id": "cd91843e-58e7-45d8-8c7a-e4c6b8fbce9d",
   "metadata": {},
   "outputs": [
    {
     "data": {
      "text/html": [
       "<div>\n",
       "<style scoped>\n",
       "    .dataframe tbody tr th:only-of-type {\n",
       "        vertical-align: middle;\n",
       "    }\n",
       "\n",
       "    .dataframe tbody tr th {\n",
       "        vertical-align: top;\n",
       "    }\n",
       "\n",
       "    .dataframe thead th {\n",
       "        text-align: right;\n",
       "    }\n",
       "</style>\n",
       "<table border=\"1\" class=\"dataframe\">\n",
       "  <thead>\n",
       "    <tr style=\"text-align: right;\">\n",
       "      <th></th>\n",
       "      <th>EmpID</th>\n",
       "      <th>Gender</th>\n",
       "      <th>Age</th>\n",
       "      <th>MaritalStatus</th>\n",
       "      <th>JobLevel</th>\n",
       "      <th>Experience</th>\n",
       "      <th>Dept</th>\n",
       "      <th>EmpType</th>\n",
       "      <th>WLB</th>\n",
       "      <th>WorkEnv</th>\n",
       "      <th>...</th>\n",
       "      <th>SleepHours</th>\n",
       "      <th>CommuteMode</th>\n",
       "      <th>CommuteDistance</th>\n",
       "      <th>NumCompanies</th>\n",
       "      <th>TeamSize</th>\n",
       "      <th>NumReports</th>\n",
       "      <th>EduLevel</th>\n",
       "      <th>haveOT</th>\n",
       "      <th>TrainingHoursPerYear</th>\n",
       "      <th>JobSatisfaction</th>\n",
       "    </tr>\n",
       "  </thead>\n",
       "  <tbody>\n",
       "    <tr>\n",
       "      <th>3020</th>\n",
       "      <td>2070</td>\n",
       "      <td>Male</td>\n",
       "      <td>47</td>\n",
       "      <td>Married</td>\n",
       "      <td>Lead</td>\n",
       "      <td>16</td>\n",
       "      <td>Marketing</td>\n",
       "      <td>Part-Time</td>\n",
       "      <td>1</td>\n",
       "      <td>3</td>\n",
       "      <td>...</td>\n",
       "      <td>6.8</td>\n",
       "      <td>Public Transport</td>\n",
       "      <td>15</td>\n",
       "      <td>8</td>\n",
       "      <td>28</td>\n",
       "      <td>8</td>\n",
       "      <td>Master</td>\n",
       "      <td>False</td>\n",
       "      <td>58.0</td>\n",
       "      <td>1</td>\n",
       "    </tr>\n",
       "    <tr>\n",
       "      <th>3021</th>\n",
       "      <td>2072</td>\n",
       "      <td>Female</td>\n",
       "      <td>47</td>\n",
       "      <td>Married</td>\n",
       "      <td>Lead</td>\n",
       "      <td>8</td>\n",
       "      <td>IT</td>\n",
       "      <td>Contract</td>\n",
       "      <td>3</td>\n",
       "      <td>1</td>\n",
       "      <td>...</td>\n",
       "      <td>6.9</td>\n",
       "      <td>Car</td>\n",
       "      <td>28</td>\n",
       "      <td>8</td>\n",
       "      <td>21</td>\n",
       "      <td>8</td>\n",
       "      <td>Master</td>\n",
       "      <td>True</td>\n",
       "      <td>54.0</td>\n",
       "      <td>1</td>\n",
       "    </tr>\n",
       "    <tr>\n",
       "      <th>3022</th>\n",
       "      <td>2145</td>\n",
       "      <td>Male</td>\n",
       "      <td>41</td>\n",
       "      <td>Married</td>\n",
       "      <td>Lead</td>\n",
       "      <td>17</td>\n",
       "      <td>IT</td>\n",
       "      <td>Full-Time</td>\n",
       "      <td>1</td>\n",
       "      <td>1</td>\n",
       "      <td>...</td>\n",
       "      <td>6.1</td>\n",
       "      <td>Public Transport</td>\n",
       "      <td>9</td>\n",
       "      <td>6</td>\n",
       "      <td>23</td>\n",
       "      <td>3</td>\n",
       "      <td>Master</td>\n",
       "      <td>True</td>\n",
       "      <td>58.5</td>\n",
       "      <td>1</td>\n",
       "    </tr>\n",
       "    <tr>\n",
       "      <th>3023</th>\n",
       "      <td>2168</td>\n",
       "      <td>Female</td>\n",
       "      <td>54</td>\n",
       "      <td>Married</td>\n",
       "      <td>Lead</td>\n",
       "      <td>16</td>\n",
       "      <td>IT</td>\n",
       "      <td>Full-Time</td>\n",
       "      <td>1</td>\n",
       "      <td>5</td>\n",
       "      <td>...</td>\n",
       "      <td>7.7</td>\n",
       "      <td>Public Transport</td>\n",
       "      <td>18</td>\n",
       "      <td>10</td>\n",
       "      <td>30</td>\n",
       "      <td>7</td>\n",
       "      <td>Master</td>\n",
       "      <td>True</td>\n",
       "      <td>58.0</td>\n",
       "      <td>1</td>\n",
       "    </tr>\n",
       "    <tr>\n",
       "      <th>3024</th>\n",
       "      <td>2183</td>\n",
       "      <td>Female</td>\n",
       "      <td>44</td>\n",
       "      <td>Married</td>\n",
       "      <td>Lead</td>\n",
       "      <td>22</td>\n",
       "      <td>Marketing</td>\n",
       "      <td>Full-Time</td>\n",
       "      <td>3</td>\n",
       "      <td>3</td>\n",
       "      <td>...</td>\n",
       "      <td>6.2</td>\n",
       "      <td>Car</td>\n",
       "      <td>10</td>\n",
       "      <td>7</td>\n",
       "      <td>29</td>\n",
       "      <td>4</td>\n",
       "      <td>PhD</td>\n",
       "      <td>False</td>\n",
       "      <td>61.0</td>\n",
       "      <td>1</td>\n",
       "    </tr>\n",
       "  </tbody>\n",
       "</table>\n",
       "<p>5 rows × 23 columns</p>\n",
       "</div>"
      ],
      "text/plain": [
       "      EmpID  Gender  Age MaritalStatus JobLevel  Experience       Dept  \\\n",
       "3020   2070    Male   47       Married     Lead          16  Marketing   \n",
       "3021   2072  Female   47       Married     Lead           8         IT   \n",
       "3022   2145    Male   41       Married     Lead          17         IT   \n",
       "3023   2168  Female   54       Married     Lead          16         IT   \n",
       "3024   2183  Female   44       Married     Lead          22  Marketing   \n",
       "\n",
       "        EmpType  WLB  WorkEnv  ...  SleepHours       CommuteMode  \\\n",
       "3020  Part-Time    1        3  ...         6.8  Public Transport   \n",
       "3021   Contract    3        1  ...         6.9               Car   \n",
       "3022  Full-Time    1        1  ...         6.1  Public Transport   \n",
       "3023  Full-Time    1        5  ...         7.7  Public Transport   \n",
       "3024  Full-Time    3        3  ...         6.2               Car   \n",
       "\n",
       "      CommuteDistance  NumCompanies TeamSize  NumReports  EduLevel  haveOT  \\\n",
       "3020               15             8       28           8    Master   False   \n",
       "3021               28             8       21           8    Master    True   \n",
       "3022                9             6       23           3    Master    True   \n",
       "3023               18            10       30           7    Master    True   \n",
       "3024               10             7       29           4       PhD   False   \n",
       "\n",
       "      TrainingHoursPerYear JobSatisfaction  \n",
       "3020                  58.0               1  \n",
       "3021                  54.0               1  \n",
       "3022                  58.5               1  \n",
       "3023                  58.0               1  \n",
       "3024                  61.0               1  \n",
       "\n",
       "[5 rows x 23 columns]"
      ]
     },
     "execution_count": 7,
     "metadata": {},
     "output_type": "execute_result"
    }
   ],
   "source": [
    "df.tail()"
   ]
  },
  {
   "cell_type": "code",
   "execution_count": 8,
   "id": "c028cb61-4884-493b-beeb-5fbb5208b421",
   "metadata": {},
   "outputs": [
    {
     "name": "stdout",
     "output_type": "stream",
     "text": [
      "<class 'pandas.core.frame.DataFrame'>\n",
      "RangeIndex: 3025 entries, 0 to 3024\n",
      "Data columns (total 23 columns):\n",
      " #   Column                 Non-Null Count  Dtype  \n",
      "---  ------                 --------------  -----  \n",
      " 0   EmpID                  3025 non-null   int64  \n",
      " 1   Gender                 3025 non-null   object \n",
      " 2   Age                    3025 non-null   int64  \n",
      " 3   MaritalStatus          3025 non-null   object \n",
      " 4   JobLevel               3025 non-null   object \n",
      " 5   Experience             3025 non-null   int64  \n",
      " 6   Dept                   3025 non-null   object \n",
      " 7   EmpType                3025 non-null   object \n",
      " 8   WLB                    3025 non-null   int64  \n",
      " 9   WorkEnv                3025 non-null   int64  \n",
      " 10  PhysicalActivityHours  3025 non-null   float64\n",
      " 11  Workload               3025 non-null   int64  \n",
      " 12  Stress                 3025 non-null   int64  \n",
      " 13  SleepHours             3025 non-null   float64\n",
      " 14  CommuteMode            3025 non-null   object \n",
      " 15  CommuteDistance        3025 non-null   int64  \n",
      " 16  NumCompanies           3025 non-null   int64  \n",
      " 17  TeamSize               3025 non-null   int64  \n",
      " 18  NumReports             3025 non-null   int64  \n",
      " 19  EduLevel               3025 non-null   object \n",
      " 20  haveOT                 3025 non-null   bool   \n",
      " 21  TrainingHoursPerYear   3025 non-null   float64\n",
      " 22  JobSatisfaction        3025 non-null   int64  \n",
      "dtypes: bool(1), float64(3), int64(12), object(7)\n",
      "memory usage: 523.0+ KB\n"
     ]
    }
   ],
   "source": [
    "df.info()"
   ]
  },
  {
   "cell_type": "code",
   "execution_count": 9,
   "id": "3721ae7d-bac4-4a3b-9019-8ae5035c3d46",
   "metadata": {},
   "outputs": [
    {
     "data": {
      "text/plain": [
       "(3025, 23)"
      ]
     },
     "execution_count": 9,
     "metadata": {},
     "output_type": "execute_result"
    }
   ],
   "source": [
    "df.shape"
   ]
  },
  {
   "cell_type": "code",
   "execution_count": 10,
   "id": "2070d7a6-30d9-401b-baee-51ae37236434",
   "metadata": {},
   "outputs": [
    {
     "data": {
      "text/plain": [
       "array([   6,   11,   33, ..., 2145, 2168, 2183])"
      ]
     },
     "execution_count": 10,
     "metadata": {},
     "output_type": "execute_result"
    }
   ],
   "source": [
    "df[\"EmpID\"].unique()"
   ]
  },
  {
   "cell_type": "code",
   "execution_count": 11,
   "id": "5742efad-aee8-492e-a83a-a5595c58d9a9",
   "metadata": {},
   "outputs": [
    {
     "data": {
      "text/plain": [
       "3025"
      ]
     },
     "execution_count": 11,
     "metadata": {},
     "output_type": "execute_result"
    }
   ],
   "source": [
    "df[\"EmpID\"].nunique()"
   ]
  },
  {
   "cell_type": "code",
   "execution_count": 12,
   "id": "fffa510e-7cc5-4579-862f-46daaba6a018",
   "metadata": {},
   "outputs": [
    {
     "name": "stdout",
     "output_type": "stream",
     "text": [
      "int64\n"
     ]
    }
   ],
   "source": [
    "print(df.dtypes[\"EmpID\"])"
   ]
  },
  {
   "cell_type": "code",
   "execution_count": 13,
   "id": "b812333a-706f-4af9-a668-0a44b4e3cf01",
   "metadata": {},
   "outputs": [
    {
     "data": {
      "text/plain": [
       "array(['Male', 'Female', 'Other'], dtype=object)"
      ]
     },
     "execution_count": 13,
     "metadata": {},
     "output_type": "execute_result"
    }
   ],
   "source": [
    "df[\"Gender\"].unique()"
   ]
  },
  {
   "cell_type": "code",
   "execution_count": 14,
   "id": "49ff8fa9-7903-4f1f-920d-f18845ca4e5a",
   "metadata": {},
   "outputs": [
    {
     "data": {
      "text/plain": [
       "3"
      ]
     },
     "execution_count": 14,
     "metadata": {},
     "output_type": "execute_result"
    }
   ],
   "source": [
    "df[\"Gender\"].nunique()"
   ]
  },
  {
   "cell_type": "code",
   "execution_count": 15,
   "id": "cbd22152-4e6f-410b-9c4e-a0eed991a1c1",
   "metadata": {},
   "outputs": [
    {
     "data": {
      "text/plain": [
       "Gender\n",
       "Male      1528\n",
       "Female    1240\n",
       "Other      257\n",
       "Name: count, dtype: int64"
      ]
     },
     "execution_count": 15,
     "metadata": {},
     "output_type": "execute_result"
    }
   ],
   "source": [
    "df[\"Gender\"].value_counts()"
   ]
  },
  {
   "cell_type": "code",
   "execution_count": 16,
   "id": "8766336a-efb2-4471-a960-fc0b966e2f07",
   "metadata": {},
   "outputs": [
    {
     "name": "stdout",
     "output_type": "stream",
     "text": [
      "object\n"
     ]
    }
   ],
   "source": [
    "print(df['Gender'].dtype)\n"
   ]
  },
  {
   "cell_type": "code",
   "execution_count": 17,
   "id": "d1fd2795-e65c-455a-b606-a87911d81280",
   "metadata": {},
   "outputs": [
    {
     "data": {
      "text/plain": [
       "array(['Married', 'Single', 'Divorced', 'Widowed'], dtype=object)"
      ]
     },
     "execution_count": 17,
     "metadata": {},
     "output_type": "execute_result"
    }
   ],
   "source": [
    "df[\"MaritalStatus\"].unique()"
   ]
  },
  {
   "cell_type": "code",
   "execution_count": 18,
   "id": "220c044f-2353-4244-81d9-65ab44d0c0bf",
   "metadata": {},
   "outputs": [
    {
     "data": {
      "text/plain": [
       "4"
      ]
     },
     "execution_count": 18,
     "metadata": {},
     "output_type": "execute_result"
    }
   ],
   "source": [
    "df[\"MaritalStatus\"].nunique()"
   ]
  },
  {
   "cell_type": "code",
   "execution_count": 19,
   "id": "b0f17ed4-0e1e-4652-9a88-7e1be13fc86b",
   "metadata": {},
   "outputs": [
    {
     "data": {
      "text/plain": [
       "MaritalStatus\n",
       "Single      1437\n",
       "Married     1397\n",
       "Divorced     189\n",
       "Widowed        2\n",
       "Name: count, dtype: int64"
      ]
     },
     "execution_count": 19,
     "metadata": {},
     "output_type": "execute_result"
    }
   ],
   "source": [
    "df[\"MaritalStatus\"].value_counts()"
   ]
  },
  {
   "cell_type": "code",
   "execution_count": 20,
   "id": "ad392c56-1e45-4bdc-91c9-b1b0cb6a4b87",
   "metadata": {},
   "outputs": [
    {
     "name": "stdout",
     "output_type": "stream",
     "text": [
      "object\n"
     ]
    }
   ],
   "source": [
    "print(df[\"MaritalStatus\"].dtypes)"
   ]
  },
  {
   "cell_type": "code",
   "execution_count": 21,
   "id": "4898da49-8a57-43fe-a0d0-a3b4131ddd58",
   "metadata": {},
   "outputs": [
    {
     "data": {
      "text/plain": [
       "array(['Mid', 'Intern/Fresher', 'Junior', 'Senior', 'Lead'], dtype=object)"
      ]
     },
     "execution_count": 21,
     "metadata": {},
     "output_type": "execute_result"
    }
   ],
   "source": [
    "df[\"JobLevel\"].unique()"
   ]
  },
  {
   "cell_type": "code",
   "execution_count": 22,
   "id": "ccb74b86-dd3b-45db-a5f0-b82f0ecdb1a9",
   "metadata": {},
   "outputs": [
    {
     "data": {
      "text/plain": [
       "5"
      ]
     },
     "execution_count": 22,
     "metadata": {},
     "output_type": "execute_result"
    }
   ],
   "source": [
    "df[\"JobLevel\"].nunique()"
   ]
  },
  {
   "cell_type": "code",
   "execution_count": 23,
   "id": "bdeb2c61-a025-4e91-866a-28d95155e907",
   "metadata": {},
   "outputs": [
    {
     "data": {
      "text/plain": [
       "JobLevel\n",
       "Senior            1069\n",
       "Mid                766\n",
       "Junior             602\n",
       "Lead               386\n",
       "Intern/Fresher     202\n",
       "Name: count, dtype: int64"
      ]
     },
     "execution_count": 23,
     "metadata": {},
     "output_type": "execute_result"
    }
   ],
   "source": [
    "df[\"JobLevel\"].value_counts()"
   ]
  },
  {
   "cell_type": "code",
   "execution_count": 24,
   "id": "4cfb25f8-925c-4ab8-a52d-7f31e195a175",
   "metadata": {},
   "outputs": [
    {
     "name": "stdout",
     "output_type": "stream",
     "text": [
      "object\n"
     ]
    }
   ],
   "source": [
    "print(df[\"JobLevel\"].dtypes)"
   ]
  },
  {
   "cell_type": "code",
   "execution_count": 25,
   "id": "917129d7-8966-42b0-9c01-f088a9f4276e",
   "metadata": {},
   "outputs": [
    {
     "data": {
      "text/plain": [
       "array(['IT', 'Finance', 'Marketing', 'Sales', 'Operations',\n",
       "       'Customer Service', 'Legal', 'HR'], dtype=object)"
      ]
     },
     "execution_count": 25,
     "metadata": {},
     "output_type": "execute_result"
    }
   ],
   "source": [
    "df[\"Dept\"].unique()"
   ]
  },
  {
   "cell_type": "code",
   "execution_count": 26,
   "id": "89c9ac21-983c-4a67-a14d-dc1471b92f8d",
   "metadata": {},
   "outputs": [
    {
     "data": {
      "text/plain": [
       "8"
      ]
     },
     "execution_count": 26,
     "metadata": {},
     "output_type": "execute_result"
    }
   ],
   "source": [
    "df[\"Dept\"].nunique()"
   ]
  },
  {
   "cell_type": "code",
   "execution_count": 27,
   "id": "0f0d2bbc-13f7-4cac-ba0e-359ae41e0a43",
   "metadata": {},
   "outputs": [
    {
     "data": {
      "text/plain": [
       "Dept\n",
       "IT                  774\n",
       "Finance             637\n",
       "Operations          455\n",
       "Marketing           316\n",
       "Sales               281\n",
       "Legal               272\n",
       "Customer Service    147\n",
       "HR                  143\n",
       "Name: count, dtype: int64"
      ]
     },
     "execution_count": 27,
     "metadata": {},
     "output_type": "execute_result"
    }
   ],
   "source": [
    "df[\"Dept\"].value_counts()"
   ]
  },
  {
   "cell_type": "code",
   "execution_count": 28,
   "id": "e084a898-457d-4e6b-a48b-a38e7d5edfdd",
   "metadata": {},
   "outputs": [
    {
     "name": "stdout",
     "output_type": "stream",
     "text": [
      "object\n"
     ]
    }
   ],
   "source": [
    "print(df[\"Dept\"].dtypes)"
   ]
  },
  {
   "cell_type": "code",
   "execution_count": 29,
   "id": "36dbf2dd-6d42-43d1-9703-cb3544b21395",
   "metadata": {},
   "outputs": [
    {
     "data": {
      "text/plain": [
       "array(['Full-Time', 'Contract', 'Part-Time'], dtype=object)"
      ]
     },
     "execution_count": 29,
     "metadata": {},
     "output_type": "execute_result"
    }
   ],
   "source": [
    "df[\"EmpType\"].unique()#.nunique().value_counts()"
   ]
  },
  {
   "cell_type": "code",
   "execution_count": 30,
   "id": "4cfd972b-658c-4dd7-888b-f0a47000a117",
   "metadata": {},
   "outputs": [
    {
     "data": {
      "text/plain": [
       "3"
      ]
     },
     "execution_count": 30,
     "metadata": {},
     "output_type": "execute_result"
    }
   ],
   "source": [
    "df[\"EmpType\"].nunique()"
   ]
  },
  {
   "cell_type": "code",
   "execution_count": 31,
   "id": "fc296a8a-3ea6-4630-af48-ca9b944a8faf",
   "metadata": {},
   "outputs": [
    {
     "data": {
      "text/plain": [
       "EmpType\n",
       "Full-Time    2077\n",
       "Part-Time     640\n",
       "Contract      308\n",
       "Name: count, dtype: int64"
      ]
     },
     "execution_count": 31,
     "metadata": {},
     "output_type": "execute_result"
    }
   ],
   "source": [
    "df[\"EmpType\"].value_counts()"
   ]
  },
  {
   "cell_type": "code",
   "execution_count": 32,
   "id": "e78db526-ea26-49bd-b33e-7f41e16f13d3",
   "metadata": {},
   "outputs": [
    {
     "name": "stdout",
     "output_type": "stream",
     "text": [
      "object\n"
     ]
    }
   ],
   "source": [
    "print(df[\"EmpType\"].dtypes)"
   ]
  },
  {
   "cell_type": "code",
   "execution_count": 33,
   "id": "027cc29d-e466-4e47-8b48-9aa83800cd52",
   "metadata": {},
   "outputs": [
    {
     "data": {
      "text/plain": [
       "array([1, 2, 3, 4, 5])"
      ]
     },
     "execution_count": 33,
     "metadata": {},
     "output_type": "execute_result"
    }
   ],
   "source": [
    "df[\"WLB\"].unique()"
   ]
  },
  {
   "cell_type": "code",
   "execution_count": 34,
   "id": "3166f492-604a-4359-a0c2-189f505b60a2",
   "metadata": {},
   "outputs": [
    {
     "data": {
      "text/plain": [
       "5"
      ]
     },
     "execution_count": 34,
     "metadata": {},
     "output_type": "execute_result"
    }
   ],
   "source": [
    "df[\"WLB\"].nunique()"
   ]
  },
  {
   "cell_type": "code",
   "execution_count": 35,
   "id": "12d7c4e0-2047-4331-a49d-60fa2a8c0743",
   "metadata": {},
   "outputs": [
    {
     "data": {
      "text/plain": [
       "WLB\n",
       "5    671\n",
       "4    633\n",
       "1    618\n",
       "2    554\n",
       "3    549\n",
       "Name: count, dtype: int64"
      ]
     },
     "execution_count": 35,
     "metadata": {},
     "output_type": "execute_result"
    }
   ],
   "source": [
    "df[\"WLB\"].value_counts()"
   ]
  },
  {
   "cell_type": "code",
   "execution_count": 36,
   "id": "1dd8c8cb-2fac-4133-a18f-1429419e0eb8",
   "metadata": {},
   "outputs": [
    {
     "name": "stdout",
     "output_type": "stream",
     "text": [
      "int64\n"
     ]
    }
   ],
   "source": [
    "print(df[\"WLB\"].dtypes)"
   ]
  },
  {
   "cell_type": "code",
   "execution_count": 37,
   "id": "b659dfd7-976a-4abc-b3be-3b85e5ae7522",
   "metadata": {},
   "outputs": [
    {
     "data": {
      "text/plain": [
       "array([1, 4, 2, 3, 5])"
      ]
     },
     "execution_count": 37,
     "metadata": {},
     "output_type": "execute_result"
    }
   ],
   "source": [
    "df[\"WorkEnv\"].unique()"
   ]
  },
  {
   "cell_type": "code",
   "execution_count": 38,
   "id": "b8008bb1-7a6c-4f34-b51a-43a99a479a71",
   "metadata": {},
   "outputs": [
    {
     "data": {
      "text/plain": [
       "5"
      ]
     },
     "execution_count": 38,
     "metadata": {},
     "output_type": "execute_result"
    }
   ],
   "source": [
    "df[\"WorkEnv\"].nunique()"
   ]
  },
  {
   "cell_type": "code",
   "execution_count": 39,
   "id": "234a41c3-77a6-4462-8fd3-5234224228fe",
   "metadata": {},
   "outputs": [
    {
     "data": {
      "text/plain": [
       "WorkEnv\n",
       "5    642\n",
       "3    631\n",
       "2    604\n",
       "1    580\n",
       "4    568\n",
       "Name: count, dtype: int64"
      ]
     },
     "execution_count": 39,
     "metadata": {},
     "output_type": "execute_result"
    }
   ],
   "source": [
    "df[\"WorkEnv\"].value_counts()"
   ]
  },
  {
   "cell_type": "code",
   "execution_count": 40,
   "id": "ad6409bd-e4c5-495b-9a4c-7cb2b96db42b",
   "metadata": {},
   "outputs": [
    {
     "name": "stdout",
     "output_type": "stream",
     "text": [
      "int64\n"
     ]
    }
   ],
   "source": [
    "print(df[\"WorkEnv\"].dtypes)"
   ]
  },
  {
   "cell_type": "code",
   "execution_count": 41,
   "id": "82c074f8-a13d-444b-bea1-9ddccaed7e12",
   "metadata": {},
   "outputs": [
    {
     "data": {
      "text/plain": [
       "array(['Car', 'Motorbike', 'Public Transport', 'Bike', 'Walk'],\n",
       "      dtype=object)"
      ]
     },
     "execution_count": 41,
     "metadata": {},
     "output_type": "execute_result"
    }
   ],
   "source": [
    "df[\"CommuteMode\"].unique()"
   ]
  },
  {
   "cell_type": "code",
   "execution_count": 42,
   "id": "a77db5e1-bd80-42a7-96ac-9ad8ae7244ea",
   "metadata": {},
   "outputs": [
    {
     "data": {
      "text/plain": [
       "5"
      ]
     },
     "execution_count": 42,
     "metadata": {},
     "output_type": "execute_result"
    }
   ],
   "source": [
    "df[\"CommuteMode\"].nunique()"
   ]
  },
  {
   "cell_type": "code",
   "execution_count": 43,
   "id": "394b6df6-5510-4e61-83ed-5ce904282d4e",
   "metadata": {},
   "outputs": [
    {
     "data": {
      "text/plain": [
       "CommuteMode\n",
       "Car                 1087\n",
       "Public Transport     895\n",
       "Bike                 436\n",
       "Motorbike            310\n",
       "Walk                 297\n",
       "Name: count, dtype: int64"
      ]
     },
     "execution_count": 43,
     "metadata": {},
     "output_type": "execute_result"
    }
   ],
   "source": [
    "df[\"CommuteMode\"].value_counts()"
   ]
  },
  {
   "cell_type": "code",
   "execution_count": 44,
   "id": "1edc26be-844c-4041-9b7b-5c6411e35b3d",
   "metadata": {},
   "outputs": [
    {
     "name": "stdout",
     "output_type": "stream",
     "text": [
      "object\n"
     ]
    }
   ],
   "source": [
    "print(df[\"CommuteMode\"].dtypes)"
   ]
  },
  {
   "cell_type": "code",
   "execution_count": 45,
   "id": "a75cd272-cced-4d5d-9cbb-f8c70ded7a43",
   "metadata": {},
   "outputs": [
    {
     "data": {
      "text/plain": [
       "array([ 3,  4,  0,  2,  1,  6,  7,  9, 11,  8,  5, 12, 10])"
      ]
     },
     "execution_count": 45,
     "metadata": {},
     "output_type": "execute_result"
    }
   ],
   "source": [
    "df[\"NumCompanies\"].unique()"
   ]
  },
  {
   "cell_type": "code",
   "execution_count": 46,
   "id": "de8fcd4e-4070-48c6-8060-a5a9085358b9",
   "metadata": {},
   "outputs": [
    {
     "data": {
      "text/plain": [
       "13"
      ]
     },
     "execution_count": 46,
     "metadata": {},
     "output_type": "execute_result"
    }
   ],
   "source": [
    "df[\"NumCompanies\"].nunique()"
   ]
  },
  {
   "cell_type": "code",
   "execution_count": 47,
   "id": "2c402b11-0a3e-4293-b919-be5e1de61025",
   "metadata": {},
   "outputs": [
    {
     "data": {
      "text/plain": [
       "NumCompanies\n",
       "0     483\n",
       "3     327\n",
       "4     325\n",
       "2     321\n",
       "1     307\n",
       "5     299\n",
       "6     191\n",
       "10    168\n",
       "9     162\n",
       "8     161\n",
       "7     150\n",
       "12     79\n",
       "11     52\n",
       "Name: count, dtype: int64"
      ]
     },
     "execution_count": 47,
     "metadata": {},
     "output_type": "execute_result"
    }
   ],
   "source": [
    "df[\"NumCompanies\"].value_counts()"
   ]
  },
  {
   "cell_type": "code",
   "execution_count": 48,
   "id": "d324de25-7d44-4b41-aad0-7b65d24abdb3",
   "metadata": {},
   "outputs": [
    {
     "name": "stdout",
     "output_type": "stream",
     "text": [
      "int64\n"
     ]
    }
   ],
   "source": [
    "print(df[\"NumCompanies\"].dtypes)"
   ]
  },
  {
   "cell_type": "code",
   "execution_count": 49,
   "id": "84eb83bf-90f9-477a-8447-8ca45a78a3dd",
   "metadata": {},
   "outputs": [
    {
     "data": {
      "text/plain": [
       "array([0, 2, 7, 6, 1, 4, 8, 3, 5, 9])"
      ]
     },
     "execution_count": 49,
     "metadata": {},
     "output_type": "execute_result"
    }
   ],
   "source": [
    "df[\"NumReports\"].unique()"
   ]
  },
  {
   "cell_type": "code",
   "execution_count": 50,
   "id": "d8457a72-a62d-4909-a72b-0602efe230a9",
   "metadata": {},
   "outputs": [
    {
     "data": {
      "text/plain": [
       "10"
      ]
     },
     "execution_count": 50,
     "metadata": {},
     "output_type": "execute_result"
    }
   ],
   "source": [
    "df[\"NumReports\"].nunique()"
   ]
  },
  {
   "cell_type": "code",
   "execution_count": 51,
   "id": "57fb05e0-639c-4a98-9062-1e6ef870d91d",
   "metadata": {},
   "outputs": [
    {
     "data": {
      "text/plain": [
       "NumReports\n",
       "0    1570\n",
       "4     185\n",
       "1     173\n",
       "7     171\n",
       "6     167\n",
       "2     158\n",
       "9     158\n",
       "3     156\n",
       "8     152\n",
       "5     135\n",
       "Name: count, dtype: int64"
      ]
     },
     "execution_count": 51,
     "metadata": {},
     "output_type": "execute_result"
    }
   ],
   "source": [
    "df[\"NumReports\"].value_counts()"
   ]
  },
  {
   "cell_type": "code",
   "execution_count": 52,
   "id": "32f30e8a-b372-408c-83f5-bb4924532e31",
   "metadata": {},
   "outputs": [
    {
     "name": "stdout",
     "output_type": "stream",
     "text": [
      "int64\n"
     ]
    }
   ],
   "source": [
    "print(df[\"NumReports\"].dtypes)"
   ]
  },
  {
   "cell_type": "code",
   "execution_count": 53,
   "id": "51696b4e-2f1a-4155-a03b-9ba3330ff8bf",
   "metadata": {},
   "outputs": [
    {
     "data": {
      "text/plain": [
       "array(['Bachelor', 'High School', 'Master', 'PhD'], dtype=object)"
      ]
     },
     "execution_count": 53,
     "metadata": {},
     "output_type": "execute_result"
    }
   ],
   "source": [
    "df[\"EduLevel\"].unique()"
   ]
  },
  {
   "cell_type": "code",
   "execution_count": 54,
   "id": "17224225-88fa-479f-928e-ed3cc1d86873",
   "metadata": {},
   "outputs": [
    {
     "data": {
      "text/plain": [
       "4"
      ]
     },
     "execution_count": 54,
     "metadata": {},
     "output_type": "execute_result"
    }
   ],
   "source": [
    "df[\"EduLevel\"].nunique()"
   ]
  },
  {
   "cell_type": "code",
   "execution_count": 55,
   "id": "e048a7ed-8d79-4d7c-a333-374d8efeadb6",
   "metadata": {},
   "outputs": [
    {
     "data": {
      "text/plain": [
       "EduLevel\n",
       "Bachelor       2300\n",
       "Master          380\n",
       "High School     245\n",
       "PhD             100\n",
       "Name: count, dtype: int64"
      ]
     },
     "execution_count": 55,
     "metadata": {},
     "output_type": "execute_result"
    }
   ],
   "source": [
    "df[\"EduLevel\"].value_counts()"
   ]
  },
  {
   "cell_type": "code",
   "execution_count": 56,
   "id": "b4341471-e9b0-4db8-ae89-2346fe75d075",
   "metadata": {},
   "outputs": [
    {
     "name": "stdout",
     "output_type": "stream",
     "text": [
      "object\n"
     ]
    }
   ],
   "source": [
    "print(df[\"EduLevel\"].dtypes)"
   ]
  },
  {
   "cell_type": "code",
   "execution_count": 57,
   "id": "85af7703-701a-4da0-b207-e2d263267c11",
   "metadata": {},
   "outputs": [
    {
     "data": {
      "text/plain": [
       "array([ True, False])"
      ]
     },
     "execution_count": 57,
     "metadata": {},
     "output_type": "execute_result"
    }
   ],
   "source": [
    "df[\"haveOT\"].unique()"
   ]
  },
  {
   "cell_type": "code",
   "execution_count": 58,
   "id": "e77b9ef9-0c91-4658-a3ed-e068bea2ae23",
   "metadata": {},
   "outputs": [
    {
     "data": {
      "text/plain": [
       "2"
      ]
     },
     "execution_count": 58,
     "metadata": {},
     "output_type": "execute_result"
    }
   ],
   "source": [
    "df[\"haveOT\"].nunique()"
   ]
  },
  {
   "cell_type": "code",
   "execution_count": 59,
   "id": "195f311b-ecdb-4a25-b499-40643d37eb37",
   "metadata": {},
   "outputs": [
    {
     "data": {
      "text/plain": [
       "haveOT\n",
       "False    2089\n",
       "True      936\n",
       "Name: count, dtype: int64"
      ]
     },
     "execution_count": 59,
     "metadata": {},
     "output_type": "execute_result"
    }
   ],
   "source": [
    "df[\"haveOT\"].value_counts()"
   ]
  },
  {
   "cell_type": "code",
   "execution_count": 60,
   "id": "0ab20b20-6858-42a4-bccd-3a2d11f07fb8",
   "metadata": {},
   "outputs": [
    {
     "name": "stdout",
     "output_type": "stream",
     "text": [
      "bool\n"
     ]
    }
   ],
   "source": [
    "print(df[\"haveOT\"].dtypes)"
   ]
  },
  {
   "cell_type": "code",
   "execution_count": 61,
   "id": "ae51a669-72d0-4fad-99fc-8a52da4e503f",
   "metadata": {},
   "outputs": [
    {
     "data": {
      "text/plain": [
       "array([5, 4, 3, 2, 1])"
      ]
     },
     "execution_count": 61,
     "metadata": {},
     "output_type": "execute_result"
    }
   ],
   "source": [
    "df[\"JobSatisfaction\"].unique()"
   ]
  },
  {
   "cell_type": "code",
   "execution_count": 62,
   "id": "f0fa2632-1bb9-4210-b3fa-19b114981b0c",
   "metadata": {},
   "outputs": [
    {
     "data": {
      "text/plain": [
       "5"
      ]
     },
     "execution_count": 62,
     "metadata": {},
     "output_type": "execute_result"
    }
   ],
   "source": [
    "df[\"JobSatisfaction\"].nunique()"
   ]
  },
  {
   "cell_type": "code",
   "execution_count": 63,
   "id": "96900438-3e01-4438-b353-728af95de2ba",
   "metadata": {},
   "outputs": [
    {
     "data": {
      "text/plain": [
       "JobSatisfaction\n",
       "4    1249\n",
       "3     566\n",
       "5     516\n",
       "1     417\n",
       "2     277\n",
       "Name: count, dtype: int64"
      ]
     },
     "execution_count": 63,
     "metadata": {},
     "output_type": "execute_result"
    }
   ],
   "source": [
    "df[\"JobSatisfaction\"].value_counts()"
   ]
  },
  {
   "cell_type": "code",
   "execution_count": 64,
   "id": "3138dc67-f512-4dbd-b853-fd149a64f3aa",
   "metadata": {},
   "outputs": [
    {
     "name": "stdout",
     "output_type": "stream",
     "text": [
      "int64\n"
     ]
    }
   ],
   "source": [
    "print(df[\"JobSatisfaction\"].dtypes)"
   ]
  },
  {
   "cell_type": "code",
   "execution_count": 65,
   "id": "4c5c7ca2-e2be-4c73-b25b-d2587cdef2c2",
   "metadata": {},
   "outputs": [
    {
     "data": {
      "text/plain": [
       "EmpID                    0\n",
       "Gender                   0\n",
       "Age                      0\n",
       "MaritalStatus            0\n",
       "JobLevel                 0\n",
       "Experience               0\n",
       "Dept                     0\n",
       "EmpType                  0\n",
       "WLB                      0\n",
       "WorkEnv                  0\n",
       "PhysicalActivityHours    0\n",
       "Workload                 0\n",
       "Stress                   0\n",
       "SleepHours               0\n",
       "CommuteMode              0\n",
       "CommuteDistance          0\n",
       "NumCompanies             0\n",
       "TeamSize                 0\n",
       "NumReports               0\n",
       "EduLevel                 0\n",
       "haveOT                   0\n",
       "TrainingHoursPerYear     0\n",
       "JobSatisfaction          0\n",
       "dtype: int64"
      ]
     },
     "execution_count": 65,
     "metadata": {},
     "output_type": "execute_result"
    }
   ],
   "source": [
    "df.isnull().sum()"
   ]
  },
  {
   "cell_type": "code",
   "execution_count": 66,
   "id": "0068f4c7-8248-4cc7-8d51-2e899540fe99",
   "metadata": {},
   "outputs": [
    {
     "data": {
      "text/plain": [
       "EmpID                      int64\n",
       "Gender                    object\n",
       "Age                        int64\n",
       "MaritalStatus             object\n",
       "JobLevel                  object\n",
       "Experience                 int64\n",
       "Dept                      object\n",
       "EmpType                   object\n",
       "WLB                        int64\n",
       "WorkEnv                    int64\n",
       "PhysicalActivityHours    float64\n",
       "Workload                   int64\n",
       "Stress                     int64\n",
       "SleepHours               float64\n",
       "CommuteMode               object\n",
       "CommuteDistance            int64\n",
       "NumCompanies               int64\n",
       "TeamSize                   int64\n",
       "NumReports                 int64\n",
       "EduLevel                  object\n",
       "haveOT                      bool\n",
       "TrainingHoursPerYear     float64\n",
       "JobSatisfaction            int64\n",
       "dtype: object"
      ]
     },
     "execution_count": 66,
     "metadata": {},
     "output_type": "execute_result"
    }
   ],
   "source": [
    "df.dtypes"
   ]
  },
  {
   "cell_type": "code",
   "execution_count": 67,
   "id": "aacff79a-493a-462d-98ce-90d69693dd16",
   "metadata": {},
   "outputs": [
    {
     "data": {
      "text/plain": [
       "np.int64(0)"
      ]
     },
     "execution_count": 67,
     "metadata": {},
     "output_type": "execute_result"
    }
   ],
   "source": [
    "df.duplicated().sum()"
   ]
  },
  {
   "cell_type": "code",
   "execution_count": 68,
   "id": "f78cee34-628c-4685-86fe-d47b84a1dbd0",
   "metadata": {},
   "outputs": [],
   "source": [
    "continuous_variables=[\"Age\",\"Experience\",\"PhysicalActivityHours\",\"Workload\",\"Stress\",\"SleepHours\",\"CommuteDistance\",\"TrainingHoursPerYear\",\"JobSatisfaction\"]\n",
    "count_variables =[\"TeamSize\",\"NumReports\",\"TeamSize\"]\n",
    "categorical_variables=[\"Gender\",\"MaritalStatus\",\"JobLevel\",\"Dept\",\"EmpType\",\"CommuteMode\",\"EduLevel\",\"haveOT\"]"
   ]
  },
  {
   "cell_type": "markdown",
   "id": "a26717fb-cecc-4c16-b110-d938d1897c9b",
   "metadata": {},
   "source": [
    "**Checking Outliers**"
   ]
  },
  {
   "cell_type": "code",
   "execution_count": 69,
   "id": "e28b9069-d50f-4312-aad5-cfdc365e08d1",
   "metadata": {},
   "outputs": [],
   "source": [
    "Q1= df[\"Age\"].quantile(0.25)\n",
    "Q3 = df[\"Age\"].quantile(0.75)"
   ]
  },
  {
   "cell_type": "code",
   "execution_count": 70,
   "id": "85762d5e-b098-47d1-ba4c-bc846e07fe46",
   "metadata": {},
   "outputs": [],
   "source": [
    "IQR=Q3-Q1"
   ]
  },
  {
   "cell_type": "code",
   "execution_count": 71,
   "id": "9ea43b0e-8119-46f1-b001-21f80e90532c",
   "metadata": {},
   "outputs": [],
   "source": [
    "Lower_Bound = Q1-1.5*IQR\n",
    "\n",
    "Upper_Bound = Q3+1.5*IQR"
   ]
  },
  {
   "cell_type": "code",
   "execution_count": 72,
   "id": "40b53745-b55c-4c7e-a9d1-1e6eb2745385",
   "metadata": {},
   "outputs": [
    {
     "data": {
      "text/plain": [
       "np.float64(3.0)"
      ]
     },
     "execution_count": 72,
     "metadata": {},
     "output_type": "execute_result"
    }
   ],
   "source": [
    "Lower_Bound"
   ]
  },
  {
   "cell_type": "code",
   "execution_count": 73,
   "id": "e0d18efd-6a22-4bd1-8ef7-b28124027ed5",
   "metadata": {},
   "outputs": [
    {
     "data": {
      "text/plain": [
       "np.float64(67.0)"
      ]
     },
     "execution_count": 73,
     "metadata": {},
     "output_type": "execute_result"
    }
   ],
   "source": [
    "Upper_Bound"
   ]
  },
  {
   "cell_type": "code",
   "execution_count": 74,
   "id": "4cf14482-3244-4c34-8bb0-b3caa050717c",
   "metadata": {},
   "outputs": [],
   "source": [
    "outliers = df[(df[\"Age\"]<Lower_Bound)  |  (df[\"Age\"]>Upper_Bound)]"
   ]
  },
  {
   "cell_type": "code",
   "execution_count": 75,
   "id": "65917413-11c6-4f0d-a4c3-893def949fee",
   "metadata": {},
   "outputs": [
    {
     "data": {
      "text/html": [
       "<div>\n",
       "<style scoped>\n",
       "    .dataframe tbody tr th:only-of-type {\n",
       "        vertical-align: middle;\n",
       "    }\n",
       "\n",
       "    .dataframe tbody tr th {\n",
       "        vertical-align: top;\n",
       "    }\n",
       "\n",
       "    .dataframe thead th {\n",
       "        text-align: right;\n",
       "    }\n",
       "</style>\n",
       "<table border=\"1\" class=\"dataframe\">\n",
       "  <thead>\n",
       "    <tr style=\"text-align: right;\">\n",
       "      <th></th>\n",
       "      <th>EmpID</th>\n",
       "      <th>Gender</th>\n",
       "      <th>Age</th>\n",
       "      <th>MaritalStatus</th>\n",
       "      <th>JobLevel</th>\n",
       "      <th>Experience</th>\n",
       "      <th>Dept</th>\n",
       "      <th>EmpType</th>\n",
       "      <th>WLB</th>\n",
       "      <th>WorkEnv</th>\n",
       "      <th>...</th>\n",
       "      <th>SleepHours</th>\n",
       "      <th>CommuteMode</th>\n",
       "      <th>CommuteDistance</th>\n",
       "      <th>NumCompanies</th>\n",
       "      <th>TeamSize</th>\n",
       "      <th>NumReports</th>\n",
       "      <th>EduLevel</th>\n",
       "      <th>haveOT</th>\n",
       "      <th>TrainingHoursPerYear</th>\n",
       "      <th>JobSatisfaction</th>\n",
       "    </tr>\n",
       "  </thead>\n",
       "  <tbody>\n",
       "  </tbody>\n",
       "</table>\n",
       "<p>0 rows × 23 columns</p>\n",
       "</div>"
      ],
      "text/plain": [
       "Empty DataFrame\n",
       "Columns: [EmpID, Gender, Age, MaritalStatus, JobLevel, Experience, Dept, EmpType, WLB, WorkEnv, PhysicalActivityHours, Workload, Stress, SleepHours, CommuteMode, CommuteDistance, NumCompanies, TeamSize, NumReports, EduLevel, haveOT, TrainingHoursPerYear, JobSatisfaction]\n",
       "Index: []\n",
       "\n",
       "[0 rows x 23 columns]"
      ]
     },
     "execution_count": 75,
     "metadata": {},
     "output_type": "execute_result"
    }
   ],
   "source": [
    "outliers"
   ]
  },
  {
   "cell_type": "code",
   "execution_count": 76,
   "id": "ad2a757f-1322-4f80-a22f-e940f15658aa",
   "metadata": {},
   "outputs": [],
   "source": [
    "Q1= df[\"Experience\"].quantile(0.25)\n",
    "Q3 = df[\"Experience\"].quantile(0.75)\n",
    "IQR  = Q3-Q1"
   ]
  },
  {
   "cell_type": "code",
   "execution_count": 77,
   "id": "8af25300-555a-47f8-a5e3-1f0bbcd13a4e",
   "metadata": {},
   "outputs": [],
   "source": [
    "Lower_Bound = Q1-1.5*IQR\n",
    "Upper_Bound = Q3+1.5*IQR"
   ]
  },
  {
   "cell_type": "code",
   "execution_count": 78,
   "id": "af5bea50-173b-4a68-8991-6e9ca84a5ac7",
   "metadata": {},
   "outputs": [
    {
     "data": {
      "text/plain": [
       "np.float64(-13.5)"
      ]
     },
     "execution_count": 78,
     "metadata": {},
     "output_type": "execute_result"
    }
   ],
   "source": [
    "Lower_Bound"
   ]
  },
  {
   "cell_type": "code",
   "execution_count": 79,
   "id": "5415fd2e-40a0-44f9-abe7-110f1a8eb5f8",
   "metadata": {},
   "outputs": [
    {
     "data": {
      "text/plain": [
       "np.float64(30.5)"
      ]
     },
     "execution_count": 79,
     "metadata": {},
     "output_type": "execute_result"
    }
   ],
   "source": [
    "Upper_Bound"
   ]
  },
  {
   "cell_type": "code",
   "execution_count": 80,
   "id": "b07af0e6-d446-4d7e-8bb2-03063e6f4932",
   "metadata": {},
   "outputs": [],
   "source": [
    "outliers2 = df[(df[\"Experience\"]<Lower_Bound) | (df[\"Experience\"])]"
   ]
  },
  {
   "cell_type": "code",
   "execution_count": 81,
   "id": "36740a0e-b920-413d-a668-a4e0456103ad",
   "metadata": {},
   "outputs": [
    {
     "data": {
      "text/html": [
       "<div>\n",
       "<style scoped>\n",
       "    .dataframe tbody tr th:only-of-type {\n",
       "        vertical-align: middle;\n",
       "    }\n",
       "\n",
       "    .dataframe tbody tr th {\n",
       "        vertical-align: top;\n",
       "    }\n",
       "\n",
       "    .dataframe thead th {\n",
       "        text-align: right;\n",
       "    }\n",
       "</style>\n",
       "<table border=\"1\" class=\"dataframe\">\n",
       "  <thead>\n",
       "    <tr style=\"text-align: right;\">\n",
       "      <th></th>\n",
       "      <th>EmpID</th>\n",
       "      <th>Gender</th>\n",
       "      <th>Age</th>\n",
       "      <th>MaritalStatus</th>\n",
       "      <th>JobLevel</th>\n",
       "      <th>Experience</th>\n",
       "      <th>Dept</th>\n",
       "      <th>EmpType</th>\n",
       "      <th>WLB</th>\n",
       "      <th>WorkEnv</th>\n",
       "      <th>...</th>\n",
       "      <th>SleepHours</th>\n",
       "      <th>CommuteMode</th>\n",
       "      <th>CommuteDistance</th>\n",
       "      <th>NumCompanies</th>\n",
       "      <th>TeamSize</th>\n",
       "      <th>NumReports</th>\n",
       "      <th>EduLevel</th>\n",
       "      <th>haveOT</th>\n",
       "      <th>TrainingHoursPerYear</th>\n",
       "      <th>JobSatisfaction</th>\n",
       "    </tr>\n",
       "  </thead>\n",
       "  <tbody>\n",
       "    <tr>\n",
       "      <th>0</th>\n",
       "      <td>6</td>\n",
       "      <td>Male</td>\n",
       "      <td>32</td>\n",
       "      <td>Married</td>\n",
       "      <td>Mid</td>\n",
       "      <td>7</td>\n",
       "      <td>IT</td>\n",
       "      <td>Full-Time</td>\n",
       "      <td>1</td>\n",
       "      <td>1</td>\n",
       "      <td>...</td>\n",
       "      <td>7.6</td>\n",
       "      <td>Car</td>\n",
       "      <td>20</td>\n",
       "      <td>3</td>\n",
       "      <td>12</td>\n",
       "      <td>0</td>\n",
       "      <td>Bachelor</td>\n",
       "      <td>True</td>\n",
       "      <td>33.5</td>\n",
       "      <td>5</td>\n",
       "    </tr>\n",
       "    <tr>\n",
       "      <th>1</th>\n",
       "      <td>11</td>\n",
       "      <td>Female</td>\n",
       "      <td>34</td>\n",
       "      <td>Married</td>\n",
       "      <td>Mid</td>\n",
       "      <td>12</td>\n",
       "      <td>Finance</td>\n",
       "      <td>Full-Time</td>\n",
       "      <td>1</td>\n",
       "      <td>1</td>\n",
       "      <td>...</td>\n",
       "      <td>7.9</td>\n",
       "      <td>Car</td>\n",
       "      <td>15</td>\n",
       "      <td>4</td>\n",
       "      <td>11</td>\n",
       "      <td>0</td>\n",
       "      <td>Bachelor</td>\n",
       "      <td>False</td>\n",
       "      <td>36.0</td>\n",
       "      <td>5</td>\n",
       "    </tr>\n",
       "    <tr>\n",
       "      <th>2</th>\n",
       "      <td>33</td>\n",
       "      <td>Female</td>\n",
       "      <td>23</td>\n",
       "      <td>Single</td>\n",
       "      <td>Intern/Fresher</td>\n",
       "      <td>1</td>\n",
       "      <td>Marketing</td>\n",
       "      <td>Full-Time</td>\n",
       "      <td>2</td>\n",
       "      <td>4</td>\n",
       "      <td>...</td>\n",
       "      <td>6.5</td>\n",
       "      <td>Motorbike</td>\n",
       "      <td>17</td>\n",
       "      <td>0</td>\n",
       "      <td>30</td>\n",
       "      <td>0</td>\n",
       "      <td>Bachelor</td>\n",
       "      <td>True</td>\n",
       "      <td>10.5</td>\n",
       "      <td>5</td>\n",
       "    </tr>\n",
       "    <tr>\n",
       "      <th>3</th>\n",
       "      <td>20</td>\n",
       "      <td>Female</td>\n",
       "      <td>29</td>\n",
       "      <td>Married</td>\n",
       "      <td>Junior</td>\n",
       "      <td>6</td>\n",
       "      <td>IT</td>\n",
       "      <td>Contract</td>\n",
       "      <td>2</td>\n",
       "      <td>2</td>\n",
       "      <td>...</td>\n",
       "      <td>7.5</td>\n",
       "      <td>Public Transport</td>\n",
       "      <td>13</td>\n",
       "      <td>2</td>\n",
       "      <td>9</td>\n",
       "      <td>0</td>\n",
       "      <td>Bachelor</td>\n",
       "      <td>True</td>\n",
       "      <td>23.0</td>\n",
       "      <td>5</td>\n",
       "    </tr>\n",
       "    <tr>\n",
       "      <th>4</th>\n",
       "      <td>28</td>\n",
       "      <td>Other</td>\n",
       "      <td>23</td>\n",
       "      <td>Single</td>\n",
       "      <td>Junior</td>\n",
       "      <td>1</td>\n",
       "      <td>Sales</td>\n",
       "      <td>Part-Time</td>\n",
       "      <td>3</td>\n",
       "      <td>1</td>\n",
       "      <td>...</td>\n",
       "      <td>4.9</td>\n",
       "      <td>Car</td>\n",
       "      <td>20</td>\n",
       "      <td>0</td>\n",
       "      <td>7</td>\n",
       "      <td>0</td>\n",
       "      <td>Bachelor</td>\n",
       "      <td>False</td>\n",
       "      <td>20.5</td>\n",
       "      <td>5</td>\n",
       "    </tr>\n",
       "    <tr>\n",
       "      <th>...</th>\n",
       "      <td>...</td>\n",
       "      <td>...</td>\n",
       "      <td>...</td>\n",
       "      <td>...</td>\n",
       "      <td>...</td>\n",
       "      <td>...</td>\n",
       "      <td>...</td>\n",
       "      <td>...</td>\n",
       "      <td>...</td>\n",
       "      <td>...</td>\n",
       "      <td>...</td>\n",
       "      <td>...</td>\n",
       "      <td>...</td>\n",
       "      <td>...</td>\n",
       "      <td>...</td>\n",
       "      <td>...</td>\n",
       "      <td>...</td>\n",
       "      <td>...</td>\n",
       "      <td>...</td>\n",
       "      <td>...</td>\n",
       "      <td>...</td>\n",
       "    </tr>\n",
       "    <tr>\n",
       "      <th>3020</th>\n",
       "      <td>2070</td>\n",
       "      <td>Male</td>\n",
       "      <td>47</td>\n",
       "      <td>Married</td>\n",
       "      <td>Lead</td>\n",
       "      <td>16</td>\n",
       "      <td>Marketing</td>\n",
       "      <td>Part-Time</td>\n",
       "      <td>1</td>\n",
       "      <td>3</td>\n",
       "      <td>...</td>\n",
       "      <td>6.8</td>\n",
       "      <td>Public Transport</td>\n",
       "      <td>15</td>\n",
       "      <td>8</td>\n",
       "      <td>28</td>\n",
       "      <td>8</td>\n",
       "      <td>Master</td>\n",
       "      <td>False</td>\n",
       "      <td>58.0</td>\n",
       "      <td>1</td>\n",
       "    </tr>\n",
       "    <tr>\n",
       "      <th>3021</th>\n",
       "      <td>2072</td>\n",
       "      <td>Female</td>\n",
       "      <td>47</td>\n",
       "      <td>Married</td>\n",
       "      <td>Lead</td>\n",
       "      <td>8</td>\n",
       "      <td>IT</td>\n",
       "      <td>Contract</td>\n",
       "      <td>3</td>\n",
       "      <td>1</td>\n",
       "      <td>...</td>\n",
       "      <td>6.9</td>\n",
       "      <td>Car</td>\n",
       "      <td>28</td>\n",
       "      <td>8</td>\n",
       "      <td>21</td>\n",
       "      <td>8</td>\n",
       "      <td>Master</td>\n",
       "      <td>True</td>\n",
       "      <td>54.0</td>\n",
       "      <td>1</td>\n",
       "    </tr>\n",
       "    <tr>\n",
       "      <th>3022</th>\n",
       "      <td>2145</td>\n",
       "      <td>Male</td>\n",
       "      <td>41</td>\n",
       "      <td>Married</td>\n",
       "      <td>Lead</td>\n",
       "      <td>17</td>\n",
       "      <td>IT</td>\n",
       "      <td>Full-Time</td>\n",
       "      <td>1</td>\n",
       "      <td>1</td>\n",
       "      <td>...</td>\n",
       "      <td>6.1</td>\n",
       "      <td>Public Transport</td>\n",
       "      <td>9</td>\n",
       "      <td>6</td>\n",
       "      <td>23</td>\n",
       "      <td>3</td>\n",
       "      <td>Master</td>\n",
       "      <td>True</td>\n",
       "      <td>58.5</td>\n",
       "      <td>1</td>\n",
       "    </tr>\n",
       "    <tr>\n",
       "      <th>3023</th>\n",
       "      <td>2168</td>\n",
       "      <td>Female</td>\n",
       "      <td>54</td>\n",
       "      <td>Married</td>\n",
       "      <td>Lead</td>\n",
       "      <td>16</td>\n",
       "      <td>IT</td>\n",
       "      <td>Full-Time</td>\n",
       "      <td>1</td>\n",
       "      <td>5</td>\n",
       "      <td>...</td>\n",
       "      <td>7.7</td>\n",
       "      <td>Public Transport</td>\n",
       "      <td>18</td>\n",
       "      <td>10</td>\n",
       "      <td>30</td>\n",
       "      <td>7</td>\n",
       "      <td>Master</td>\n",
       "      <td>True</td>\n",
       "      <td>58.0</td>\n",
       "      <td>1</td>\n",
       "    </tr>\n",
       "    <tr>\n",
       "      <th>3024</th>\n",
       "      <td>2183</td>\n",
       "      <td>Female</td>\n",
       "      <td>44</td>\n",
       "      <td>Married</td>\n",
       "      <td>Lead</td>\n",
       "      <td>22</td>\n",
       "      <td>Marketing</td>\n",
       "      <td>Full-Time</td>\n",
       "      <td>3</td>\n",
       "      <td>3</td>\n",
       "      <td>...</td>\n",
       "      <td>6.2</td>\n",
       "      <td>Car</td>\n",
       "      <td>10</td>\n",
       "      <td>7</td>\n",
       "      <td>29</td>\n",
       "      <td>4</td>\n",
       "      <td>PhD</td>\n",
       "      <td>False</td>\n",
       "      <td>61.0</td>\n",
       "      <td>1</td>\n",
       "    </tr>\n",
       "  </tbody>\n",
       "</table>\n",
       "<p>2866 rows × 23 columns</p>\n",
       "</div>"
      ],
      "text/plain": [
       "      EmpID  Gender  Age MaritalStatus        JobLevel  Experience       Dept  \\\n",
       "0         6    Male   32       Married             Mid           7         IT   \n",
       "1        11  Female   34       Married             Mid          12    Finance   \n",
       "2        33  Female   23        Single  Intern/Fresher           1  Marketing   \n",
       "3        20  Female   29       Married          Junior           6         IT   \n",
       "4        28   Other   23        Single          Junior           1      Sales   \n",
       "...     ...     ...  ...           ...             ...         ...        ...   \n",
       "3020   2070    Male   47       Married            Lead          16  Marketing   \n",
       "3021   2072  Female   47       Married            Lead           8         IT   \n",
       "3022   2145    Male   41       Married            Lead          17         IT   \n",
       "3023   2168  Female   54       Married            Lead          16         IT   \n",
       "3024   2183  Female   44       Married            Lead          22  Marketing   \n",
       "\n",
       "        EmpType  WLB  WorkEnv  ...  SleepHours       CommuteMode  \\\n",
       "0     Full-Time    1        1  ...         7.6               Car   \n",
       "1     Full-Time    1        1  ...         7.9               Car   \n",
       "2     Full-Time    2        4  ...         6.5         Motorbike   \n",
       "3      Contract    2        2  ...         7.5  Public Transport   \n",
       "4     Part-Time    3        1  ...         4.9               Car   \n",
       "...         ...  ...      ...  ...         ...               ...   \n",
       "3020  Part-Time    1        3  ...         6.8  Public Transport   \n",
       "3021   Contract    3        1  ...         6.9               Car   \n",
       "3022  Full-Time    1        1  ...         6.1  Public Transport   \n",
       "3023  Full-Time    1        5  ...         7.7  Public Transport   \n",
       "3024  Full-Time    3        3  ...         6.2               Car   \n",
       "\n",
       "      CommuteDistance  NumCompanies TeamSize  NumReports  EduLevel  haveOT  \\\n",
       "0                  20             3       12           0  Bachelor    True   \n",
       "1                  15             4       11           0  Bachelor   False   \n",
       "2                  17             0       30           0  Bachelor    True   \n",
       "3                  13             2        9           0  Bachelor    True   \n",
       "4                  20             0        7           0  Bachelor   False   \n",
       "...               ...           ...      ...         ...       ...     ...   \n",
       "3020               15             8       28           8    Master   False   \n",
       "3021               28             8       21           8    Master    True   \n",
       "3022                9             6       23           3    Master    True   \n",
       "3023               18            10       30           7    Master    True   \n",
       "3024               10             7       29           4       PhD   False   \n",
       "\n",
       "      TrainingHoursPerYear JobSatisfaction  \n",
       "0                     33.5               5  \n",
       "1                     36.0               5  \n",
       "2                     10.5               5  \n",
       "3                     23.0               5  \n",
       "4                     20.5               5  \n",
       "...                    ...             ...  \n",
       "3020                  58.0               1  \n",
       "3021                  54.0               1  \n",
       "3022                  58.5               1  \n",
       "3023                  58.0               1  \n",
       "3024                  61.0               1  \n",
       "\n",
       "[2866 rows x 23 columns]"
      ]
     },
     "execution_count": 81,
     "metadata": {},
     "output_type": "execute_result"
    }
   ],
   "source": [
    "outliers2"
   ]
  },
  {
   "cell_type": "code",
   "execution_count": 82,
   "id": "f863a9d5-c5a5-4870-9c10-5a32c055c772",
   "metadata": {},
   "outputs": [],
   "source": [
    "Q1= df[\"PhysicalActivityHours\"].quantile(0.25)\n",
    "Q3 = df[\"PhysicalActivityHours\"].quantile(0.75)\n",
    "IQR  = Q3-Q1"
   ]
  },
  {
   "cell_type": "code",
   "execution_count": 83,
   "id": "d8ea8254-e8bf-4b05-81f0-9229fad56028",
   "metadata": {},
   "outputs": [],
   "source": [
    "Lower_Bound=Q1-1.5*IQR\n",
    "Upper_Bound = Q3-1.5*IQR"
   ]
  },
  {
   "cell_type": "code",
   "execution_count": 84,
   "id": "79a6fbf8-7852-4a29-808d-e16ceae4bc63",
   "metadata": {},
   "outputs": [
    {
     "data": {
      "text/plain": [
       "np.float64(-0.8)"
      ]
     },
     "execution_count": 84,
     "metadata": {},
     "output_type": "execute_result"
    }
   ],
   "source": [
    "Lower_Bound"
   ]
  },
  {
   "cell_type": "code",
   "execution_count": 85,
   "id": "c0110ba4-11d8-41ee-9dc2-3de8e445da90",
   "metadata": {},
   "outputs": [
    {
     "data": {
      "text/plain": [
       "np.float64(0.6000000000000001)"
      ]
     },
     "execution_count": 85,
     "metadata": {},
     "output_type": "execute_result"
    }
   ],
   "source": [
    "Upper_Bound"
   ]
  },
  {
   "cell_type": "code",
   "execution_count": 86,
   "id": "4d247918-889a-47aa-b947-a09d7c4f5bb0",
   "metadata": {},
   "outputs": [],
   "source": [
    "out3=df[(df[\"PhysicalActivityHours\"]<Lower_Bound) | (df[\"PhysicalActivityHours\"]>Upper_Bound)]"
   ]
  },
  {
   "cell_type": "code",
   "execution_count": 87,
   "id": "a3b89acc-6da1-40b8-9369-206c3b08019a",
   "metadata": {},
   "outputs": [
    {
     "data": {
      "text/html": [
       "<div>\n",
       "<style scoped>\n",
       "    .dataframe tbody tr th:only-of-type {\n",
       "        vertical-align: middle;\n",
       "    }\n",
       "\n",
       "    .dataframe tbody tr th {\n",
       "        vertical-align: top;\n",
       "    }\n",
       "\n",
       "    .dataframe thead th {\n",
       "        text-align: right;\n",
       "    }\n",
       "</style>\n",
       "<table border=\"1\" class=\"dataframe\">\n",
       "  <thead>\n",
       "    <tr style=\"text-align: right;\">\n",
       "      <th></th>\n",
       "      <th>EmpID</th>\n",
       "      <th>Gender</th>\n",
       "      <th>Age</th>\n",
       "      <th>MaritalStatus</th>\n",
       "      <th>JobLevel</th>\n",
       "      <th>Experience</th>\n",
       "      <th>Dept</th>\n",
       "      <th>EmpType</th>\n",
       "      <th>WLB</th>\n",
       "      <th>WorkEnv</th>\n",
       "      <th>...</th>\n",
       "      <th>SleepHours</th>\n",
       "      <th>CommuteMode</th>\n",
       "      <th>CommuteDistance</th>\n",
       "      <th>NumCompanies</th>\n",
       "      <th>TeamSize</th>\n",
       "      <th>NumReports</th>\n",
       "      <th>EduLevel</th>\n",
       "      <th>haveOT</th>\n",
       "      <th>TrainingHoursPerYear</th>\n",
       "      <th>JobSatisfaction</th>\n",
       "    </tr>\n",
       "  </thead>\n",
       "  <tbody>\n",
       "    <tr>\n",
       "      <th>0</th>\n",
       "      <td>6</td>\n",
       "      <td>Male</td>\n",
       "      <td>32</td>\n",
       "      <td>Married</td>\n",
       "      <td>Mid</td>\n",
       "      <td>7</td>\n",
       "      <td>IT</td>\n",
       "      <td>Full-Time</td>\n",
       "      <td>1</td>\n",
       "      <td>1</td>\n",
       "      <td>...</td>\n",
       "      <td>7.6</td>\n",
       "      <td>Car</td>\n",
       "      <td>20</td>\n",
       "      <td>3</td>\n",
       "      <td>12</td>\n",
       "      <td>0</td>\n",
       "      <td>Bachelor</td>\n",
       "      <td>True</td>\n",
       "      <td>33.5</td>\n",
       "      <td>5</td>\n",
       "    </tr>\n",
       "    <tr>\n",
       "      <th>1</th>\n",
       "      <td>11</td>\n",
       "      <td>Female</td>\n",
       "      <td>34</td>\n",
       "      <td>Married</td>\n",
       "      <td>Mid</td>\n",
       "      <td>12</td>\n",
       "      <td>Finance</td>\n",
       "      <td>Full-Time</td>\n",
       "      <td>1</td>\n",
       "      <td>1</td>\n",
       "      <td>...</td>\n",
       "      <td>7.9</td>\n",
       "      <td>Car</td>\n",
       "      <td>15</td>\n",
       "      <td>4</td>\n",
       "      <td>11</td>\n",
       "      <td>0</td>\n",
       "      <td>Bachelor</td>\n",
       "      <td>False</td>\n",
       "      <td>36.0</td>\n",
       "      <td>5</td>\n",
       "    </tr>\n",
       "    <tr>\n",
       "      <th>2</th>\n",
       "      <td>33</td>\n",
       "      <td>Female</td>\n",
       "      <td>23</td>\n",
       "      <td>Single</td>\n",
       "      <td>Intern/Fresher</td>\n",
       "      <td>1</td>\n",
       "      <td>Marketing</td>\n",
       "      <td>Full-Time</td>\n",
       "      <td>2</td>\n",
       "      <td>4</td>\n",
       "      <td>...</td>\n",
       "      <td>6.5</td>\n",
       "      <td>Motorbike</td>\n",
       "      <td>17</td>\n",
       "      <td>0</td>\n",
       "      <td>30</td>\n",
       "      <td>0</td>\n",
       "      <td>Bachelor</td>\n",
       "      <td>True</td>\n",
       "      <td>10.5</td>\n",
       "      <td>5</td>\n",
       "    </tr>\n",
       "    <tr>\n",
       "      <th>3</th>\n",
       "      <td>20</td>\n",
       "      <td>Female</td>\n",
       "      <td>29</td>\n",
       "      <td>Married</td>\n",
       "      <td>Junior</td>\n",
       "      <td>6</td>\n",
       "      <td>IT</td>\n",
       "      <td>Contract</td>\n",
       "      <td>2</td>\n",
       "      <td>2</td>\n",
       "      <td>...</td>\n",
       "      <td>7.5</td>\n",
       "      <td>Public Transport</td>\n",
       "      <td>13</td>\n",
       "      <td>2</td>\n",
       "      <td>9</td>\n",
       "      <td>0</td>\n",
       "      <td>Bachelor</td>\n",
       "      <td>True</td>\n",
       "      <td>23.0</td>\n",
       "      <td>5</td>\n",
       "    </tr>\n",
       "    <tr>\n",
       "      <th>4</th>\n",
       "      <td>28</td>\n",
       "      <td>Other</td>\n",
       "      <td>23</td>\n",
       "      <td>Single</td>\n",
       "      <td>Junior</td>\n",
       "      <td>1</td>\n",
       "      <td>Sales</td>\n",
       "      <td>Part-Time</td>\n",
       "      <td>3</td>\n",
       "      <td>1</td>\n",
       "      <td>...</td>\n",
       "      <td>4.9</td>\n",
       "      <td>Car</td>\n",
       "      <td>20</td>\n",
       "      <td>0</td>\n",
       "      <td>7</td>\n",
       "      <td>0</td>\n",
       "      <td>Bachelor</td>\n",
       "      <td>False</td>\n",
       "      <td>20.5</td>\n",
       "      <td>5</td>\n",
       "    </tr>\n",
       "    <tr>\n",
       "      <th>...</th>\n",
       "      <td>...</td>\n",
       "      <td>...</td>\n",
       "      <td>...</td>\n",
       "      <td>...</td>\n",
       "      <td>...</td>\n",
       "      <td>...</td>\n",
       "      <td>...</td>\n",
       "      <td>...</td>\n",
       "      <td>...</td>\n",
       "      <td>...</td>\n",
       "      <td>...</td>\n",
       "      <td>...</td>\n",
       "      <td>...</td>\n",
       "      <td>...</td>\n",
       "      <td>...</td>\n",
       "      <td>...</td>\n",
       "      <td>...</td>\n",
       "      <td>...</td>\n",
       "      <td>...</td>\n",
       "      <td>...</td>\n",
       "      <td>...</td>\n",
       "    </tr>\n",
       "    <tr>\n",
       "      <th>3020</th>\n",
       "      <td>2070</td>\n",
       "      <td>Male</td>\n",
       "      <td>47</td>\n",
       "      <td>Married</td>\n",
       "      <td>Lead</td>\n",
       "      <td>16</td>\n",
       "      <td>Marketing</td>\n",
       "      <td>Part-Time</td>\n",
       "      <td>1</td>\n",
       "      <td>3</td>\n",
       "      <td>...</td>\n",
       "      <td>6.8</td>\n",
       "      <td>Public Transport</td>\n",
       "      <td>15</td>\n",
       "      <td>8</td>\n",
       "      <td>28</td>\n",
       "      <td>8</td>\n",
       "      <td>Master</td>\n",
       "      <td>False</td>\n",
       "      <td>58.0</td>\n",
       "      <td>1</td>\n",
       "    </tr>\n",
       "    <tr>\n",
       "      <th>3021</th>\n",
       "      <td>2072</td>\n",
       "      <td>Female</td>\n",
       "      <td>47</td>\n",
       "      <td>Married</td>\n",
       "      <td>Lead</td>\n",
       "      <td>8</td>\n",
       "      <td>IT</td>\n",
       "      <td>Contract</td>\n",
       "      <td>3</td>\n",
       "      <td>1</td>\n",
       "      <td>...</td>\n",
       "      <td>6.9</td>\n",
       "      <td>Car</td>\n",
       "      <td>28</td>\n",
       "      <td>8</td>\n",
       "      <td>21</td>\n",
       "      <td>8</td>\n",
       "      <td>Master</td>\n",
       "      <td>True</td>\n",
       "      <td>54.0</td>\n",
       "      <td>1</td>\n",
       "    </tr>\n",
       "    <tr>\n",
       "      <th>3022</th>\n",
       "      <td>2145</td>\n",
       "      <td>Male</td>\n",
       "      <td>41</td>\n",
       "      <td>Married</td>\n",
       "      <td>Lead</td>\n",
       "      <td>17</td>\n",
       "      <td>IT</td>\n",
       "      <td>Full-Time</td>\n",
       "      <td>1</td>\n",
       "      <td>1</td>\n",
       "      <td>...</td>\n",
       "      <td>6.1</td>\n",
       "      <td>Public Transport</td>\n",
       "      <td>9</td>\n",
       "      <td>6</td>\n",
       "      <td>23</td>\n",
       "      <td>3</td>\n",
       "      <td>Master</td>\n",
       "      <td>True</td>\n",
       "      <td>58.5</td>\n",
       "      <td>1</td>\n",
       "    </tr>\n",
       "    <tr>\n",
       "      <th>3023</th>\n",
       "      <td>2168</td>\n",
       "      <td>Female</td>\n",
       "      <td>54</td>\n",
       "      <td>Married</td>\n",
       "      <td>Lead</td>\n",
       "      <td>16</td>\n",
       "      <td>IT</td>\n",
       "      <td>Full-Time</td>\n",
       "      <td>1</td>\n",
       "      <td>5</td>\n",
       "      <td>...</td>\n",
       "      <td>7.7</td>\n",
       "      <td>Public Transport</td>\n",
       "      <td>18</td>\n",
       "      <td>10</td>\n",
       "      <td>30</td>\n",
       "      <td>7</td>\n",
       "      <td>Master</td>\n",
       "      <td>True</td>\n",
       "      <td>58.0</td>\n",
       "      <td>1</td>\n",
       "    </tr>\n",
       "    <tr>\n",
       "      <th>3024</th>\n",
       "      <td>2183</td>\n",
       "      <td>Female</td>\n",
       "      <td>44</td>\n",
       "      <td>Married</td>\n",
       "      <td>Lead</td>\n",
       "      <td>22</td>\n",
       "      <td>Marketing</td>\n",
       "      <td>Full-Time</td>\n",
       "      <td>3</td>\n",
       "      <td>3</td>\n",
       "      <td>...</td>\n",
       "      <td>6.2</td>\n",
       "      <td>Car</td>\n",
       "      <td>10</td>\n",
       "      <td>7</td>\n",
       "      <td>29</td>\n",
       "      <td>4</td>\n",
       "      <td>PhD</td>\n",
       "      <td>False</td>\n",
       "      <td>61.0</td>\n",
       "      <td>1</td>\n",
       "    </tr>\n",
       "  </tbody>\n",
       "</table>\n",
       "<p>2772 rows × 23 columns</p>\n",
       "</div>"
      ],
      "text/plain": [
       "      EmpID  Gender  Age MaritalStatus        JobLevel  Experience       Dept  \\\n",
       "0         6    Male   32       Married             Mid           7         IT   \n",
       "1        11  Female   34       Married             Mid          12    Finance   \n",
       "2        33  Female   23        Single  Intern/Fresher           1  Marketing   \n",
       "3        20  Female   29       Married          Junior           6         IT   \n",
       "4        28   Other   23        Single          Junior           1      Sales   \n",
       "...     ...     ...  ...           ...             ...         ...        ...   \n",
       "3020   2070    Male   47       Married            Lead          16  Marketing   \n",
       "3021   2072  Female   47       Married            Lead           8         IT   \n",
       "3022   2145    Male   41       Married            Lead          17         IT   \n",
       "3023   2168  Female   54       Married            Lead          16         IT   \n",
       "3024   2183  Female   44       Married            Lead          22  Marketing   \n",
       "\n",
       "        EmpType  WLB  WorkEnv  ...  SleepHours       CommuteMode  \\\n",
       "0     Full-Time    1        1  ...         7.6               Car   \n",
       "1     Full-Time    1        1  ...         7.9               Car   \n",
       "2     Full-Time    2        4  ...         6.5         Motorbike   \n",
       "3      Contract    2        2  ...         7.5  Public Transport   \n",
       "4     Part-Time    3        1  ...         4.9               Car   \n",
       "...         ...  ...      ...  ...         ...               ...   \n",
       "3020  Part-Time    1        3  ...         6.8  Public Transport   \n",
       "3021   Contract    3        1  ...         6.9               Car   \n",
       "3022  Full-Time    1        1  ...         6.1  Public Transport   \n",
       "3023  Full-Time    1        5  ...         7.7  Public Transport   \n",
       "3024  Full-Time    3        3  ...         6.2               Car   \n",
       "\n",
       "      CommuteDistance  NumCompanies TeamSize  NumReports  EduLevel  haveOT  \\\n",
       "0                  20             3       12           0  Bachelor    True   \n",
       "1                  15             4       11           0  Bachelor   False   \n",
       "2                  17             0       30           0  Bachelor    True   \n",
       "3                  13             2        9           0  Bachelor    True   \n",
       "4                  20             0        7           0  Bachelor   False   \n",
       "...               ...           ...      ...         ...       ...     ...   \n",
       "3020               15             8       28           8    Master   False   \n",
       "3021               28             8       21           8    Master    True   \n",
       "3022                9             6       23           3    Master    True   \n",
       "3023               18            10       30           7    Master    True   \n",
       "3024               10             7       29           4       PhD   False   \n",
       "\n",
       "      TrainingHoursPerYear JobSatisfaction  \n",
       "0                     33.5               5  \n",
       "1                     36.0               5  \n",
       "2                     10.5               5  \n",
       "3                     23.0               5  \n",
       "4                     20.5               5  \n",
       "...                    ...             ...  \n",
       "3020                  58.0               1  \n",
       "3021                  54.0               1  \n",
       "3022                  58.5               1  \n",
       "3023                  58.0               1  \n",
       "3024                  61.0               1  \n",
       "\n",
       "[2772 rows x 23 columns]"
      ]
     },
     "execution_count": 87,
     "metadata": {},
     "output_type": "execute_result"
    }
   ],
   "source": [
    "out3"
   ]
  },
  {
   "cell_type": "code",
   "execution_count": null,
   "id": "c40087d1-8f14-49ad-a61b-102d928cc07b",
   "metadata": {},
   "outputs": [],
   "source": []
  },
  {
   "cell_type": "code",
   "execution_count": 88,
   "id": "632bb071-5eb2-49ae-81ce-d9ab3e67254d",
   "metadata": {},
   "outputs": [],
   "source": [
    "Q1= df[\"Stress\"].quantile(0.25)\n",
    "Q3 = df[\"Stress\"].quantile(0.75)\n",
    "IQR  = Q3-Q1\n",
    "\n",
    "Lower_Bound=Q1-1.5*IQR\n",
    "Upper_Bound = Q3-1.5*IQR\n"
   ]
  },
  {
   "cell_type": "code",
   "execution_count": 89,
   "id": "61c884d4-a3b9-46d5-83b7-143907ab5c2a",
   "metadata": {},
   "outputs": [
    {
     "name": "stdout",
     "output_type": "stream",
     "text": [
      "-0.5\n",
      "0.5\n"
     ]
    }
   ],
   "source": [
    "print(Lower_Bound)\n",
    "print(Upper_Bound)\n",
    "\n",
    "out4=df[(df[\"Stress\"]<Lower_Bound) | (df[\"Stress\"]>Upper_Bound)]"
   ]
  },
  {
   "cell_type": "code",
   "execution_count": 90,
   "id": "d6bf517f-7512-4ac7-bff2-4d9cb0fc1945",
   "metadata": {},
   "outputs": [
    {
     "data": {
      "text/html": [
       "<div>\n",
       "<style scoped>\n",
       "    .dataframe tbody tr th:only-of-type {\n",
       "        vertical-align: middle;\n",
       "    }\n",
       "\n",
       "    .dataframe tbody tr th {\n",
       "        vertical-align: top;\n",
       "    }\n",
       "\n",
       "    .dataframe thead th {\n",
       "        text-align: right;\n",
       "    }\n",
       "</style>\n",
       "<table border=\"1\" class=\"dataframe\">\n",
       "  <thead>\n",
       "    <tr style=\"text-align: right;\">\n",
       "      <th></th>\n",
       "      <th>EmpID</th>\n",
       "      <th>Gender</th>\n",
       "      <th>Age</th>\n",
       "      <th>MaritalStatus</th>\n",
       "      <th>JobLevel</th>\n",
       "      <th>Experience</th>\n",
       "      <th>Dept</th>\n",
       "      <th>EmpType</th>\n",
       "      <th>WLB</th>\n",
       "      <th>WorkEnv</th>\n",
       "      <th>...</th>\n",
       "      <th>SleepHours</th>\n",
       "      <th>CommuteMode</th>\n",
       "      <th>CommuteDistance</th>\n",
       "      <th>NumCompanies</th>\n",
       "      <th>TeamSize</th>\n",
       "      <th>NumReports</th>\n",
       "      <th>EduLevel</th>\n",
       "      <th>haveOT</th>\n",
       "      <th>TrainingHoursPerYear</th>\n",
       "      <th>JobSatisfaction</th>\n",
       "    </tr>\n",
       "  </thead>\n",
       "  <tbody>\n",
       "    <tr>\n",
       "      <th>0</th>\n",
       "      <td>6</td>\n",
       "      <td>Male</td>\n",
       "      <td>32</td>\n",
       "      <td>Married</td>\n",
       "      <td>Mid</td>\n",
       "      <td>7</td>\n",
       "      <td>IT</td>\n",
       "      <td>Full-Time</td>\n",
       "      <td>1</td>\n",
       "      <td>1</td>\n",
       "      <td>...</td>\n",
       "      <td>7.6</td>\n",
       "      <td>Car</td>\n",
       "      <td>20</td>\n",
       "      <td>3</td>\n",
       "      <td>12</td>\n",
       "      <td>0</td>\n",
       "      <td>Bachelor</td>\n",
       "      <td>True</td>\n",
       "      <td>33.5</td>\n",
       "      <td>5</td>\n",
       "    </tr>\n",
       "    <tr>\n",
       "      <th>1</th>\n",
       "      <td>11</td>\n",
       "      <td>Female</td>\n",
       "      <td>34</td>\n",
       "      <td>Married</td>\n",
       "      <td>Mid</td>\n",
       "      <td>12</td>\n",
       "      <td>Finance</td>\n",
       "      <td>Full-Time</td>\n",
       "      <td>1</td>\n",
       "      <td>1</td>\n",
       "      <td>...</td>\n",
       "      <td>7.9</td>\n",
       "      <td>Car</td>\n",
       "      <td>15</td>\n",
       "      <td>4</td>\n",
       "      <td>11</td>\n",
       "      <td>0</td>\n",
       "      <td>Bachelor</td>\n",
       "      <td>False</td>\n",
       "      <td>36.0</td>\n",
       "      <td>5</td>\n",
       "    </tr>\n",
       "    <tr>\n",
       "      <th>2</th>\n",
       "      <td>33</td>\n",
       "      <td>Female</td>\n",
       "      <td>23</td>\n",
       "      <td>Single</td>\n",
       "      <td>Intern/Fresher</td>\n",
       "      <td>1</td>\n",
       "      <td>Marketing</td>\n",
       "      <td>Full-Time</td>\n",
       "      <td>2</td>\n",
       "      <td>4</td>\n",
       "      <td>...</td>\n",
       "      <td>6.5</td>\n",
       "      <td>Motorbike</td>\n",
       "      <td>17</td>\n",
       "      <td>0</td>\n",
       "      <td>30</td>\n",
       "      <td>0</td>\n",
       "      <td>Bachelor</td>\n",
       "      <td>True</td>\n",
       "      <td>10.5</td>\n",
       "      <td>5</td>\n",
       "    </tr>\n",
       "    <tr>\n",
       "      <th>3</th>\n",
       "      <td>20</td>\n",
       "      <td>Female</td>\n",
       "      <td>29</td>\n",
       "      <td>Married</td>\n",
       "      <td>Junior</td>\n",
       "      <td>6</td>\n",
       "      <td>IT</td>\n",
       "      <td>Contract</td>\n",
       "      <td>2</td>\n",
       "      <td>2</td>\n",
       "      <td>...</td>\n",
       "      <td>7.5</td>\n",
       "      <td>Public Transport</td>\n",
       "      <td>13</td>\n",
       "      <td>2</td>\n",
       "      <td>9</td>\n",
       "      <td>0</td>\n",
       "      <td>Bachelor</td>\n",
       "      <td>True</td>\n",
       "      <td>23.0</td>\n",
       "      <td>5</td>\n",
       "    </tr>\n",
       "    <tr>\n",
       "      <th>4</th>\n",
       "      <td>28</td>\n",
       "      <td>Other</td>\n",
       "      <td>23</td>\n",
       "      <td>Single</td>\n",
       "      <td>Junior</td>\n",
       "      <td>1</td>\n",
       "      <td>Sales</td>\n",
       "      <td>Part-Time</td>\n",
       "      <td>3</td>\n",
       "      <td>1</td>\n",
       "      <td>...</td>\n",
       "      <td>4.9</td>\n",
       "      <td>Car</td>\n",
       "      <td>20</td>\n",
       "      <td>0</td>\n",
       "      <td>7</td>\n",
       "      <td>0</td>\n",
       "      <td>Bachelor</td>\n",
       "      <td>False</td>\n",
       "      <td>20.5</td>\n",
       "      <td>5</td>\n",
       "    </tr>\n",
       "    <tr>\n",
       "      <th>...</th>\n",
       "      <td>...</td>\n",
       "      <td>...</td>\n",
       "      <td>...</td>\n",
       "      <td>...</td>\n",
       "      <td>...</td>\n",
       "      <td>...</td>\n",
       "      <td>...</td>\n",
       "      <td>...</td>\n",
       "      <td>...</td>\n",
       "      <td>...</td>\n",
       "      <td>...</td>\n",
       "      <td>...</td>\n",
       "      <td>...</td>\n",
       "      <td>...</td>\n",
       "      <td>...</td>\n",
       "      <td>...</td>\n",
       "      <td>...</td>\n",
       "      <td>...</td>\n",
       "      <td>...</td>\n",
       "      <td>...</td>\n",
       "      <td>...</td>\n",
       "    </tr>\n",
       "    <tr>\n",
       "      <th>3020</th>\n",
       "      <td>2070</td>\n",
       "      <td>Male</td>\n",
       "      <td>47</td>\n",
       "      <td>Married</td>\n",
       "      <td>Lead</td>\n",
       "      <td>16</td>\n",
       "      <td>Marketing</td>\n",
       "      <td>Part-Time</td>\n",
       "      <td>1</td>\n",
       "      <td>3</td>\n",
       "      <td>...</td>\n",
       "      <td>6.8</td>\n",
       "      <td>Public Transport</td>\n",
       "      <td>15</td>\n",
       "      <td>8</td>\n",
       "      <td>28</td>\n",
       "      <td>8</td>\n",
       "      <td>Master</td>\n",
       "      <td>False</td>\n",
       "      <td>58.0</td>\n",
       "      <td>1</td>\n",
       "    </tr>\n",
       "    <tr>\n",
       "      <th>3021</th>\n",
       "      <td>2072</td>\n",
       "      <td>Female</td>\n",
       "      <td>47</td>\n",
       "      <td>Married</td>\n",
       "      <td>Lead</td>\n",
       "      <td>8</td>\n",
       "      <td>IT</td>\n",
       "      <td>Contract</td>\n",
       "      <td>3</td>\n",
       "      <td>1</td>\n",
       "      <td>...</td>\n",
       "      <td>6.9</td>\n",
       "      <td>Car</td>\n",
       "      <td>28</td>\n",
       "      <td>8</td>\n",
       "      <td>21</td>\n",
       "      <td>8</td>\n",
       "      <td>Master</td>\n",
       "      <td>True</td>\n",
       "      <td>54.0</td>\n",
       "      <td>1</td>\n",
       "    </tr>\n",
       "    <tr>\n",
       "      <th>3022</th>\n",
       "      <td>2145</td>\n",
       "      <td>Male</td>\n",
       "      <td>41</td>\n",
       "      <td>Married</td>\n",
       "      <td>Lead</td>\n",
       "      <td>17</td>\n",
       "      <td>IT</td>\n",
       "      <td>Full-Time</td>\n",
       "      <td>1</td>\n",
       "      <td>1</td>\n",
       "      <td>...</td>\n",
       "      <td>6.1</td>\n",
       "      <td>Public Transport</td>\n",
       "      <td>9</td>\n",
       "      <td>6</td>\n",
       "      <td>23</td>\n",
       "      <td>3</td>\n",
       "      <td>Master</td>\n",
       "      <td>True</td>\n",
       "      <td>58.5</td>\n",
       "      <td>1</td>\n",
       "    </tr>\n",
       "    <tr>\n",
       "      <th>3023</th>\n",
       "      <td>2168</td>\n",
       "      <td>Female</td>\n",
       "      <td>54</td>\n",
       "      <td>Married</td>\n",
       "      <td>Lead</td>\n",
       "      <td>16</td>\n",
       "      <td>IT</td>\n",
       "      <td>Full-Time</td>\n",
       "      <td>1</td>\n",
       "      <td>5</td>\n",
       "      <td>...</td>\n",
       "      <td>7.7</td>\n",
       "      <td>Public Transport</td>\n",
       "      <td>18</td>\n",
       "      <td>10</td>\n",
       "      <td>30</td>\n",
       "      <td>7</td>\n",
       "      <td>Master</td>\n",
       "      <td>True</td>\n",
       "      <td>58.0</td>\n",
       "      <td>1</td>\n",
       "    </tr>\n",
       "    <tr>\n",
       "      <th>3024</th>\n",
       "      <td>2183</td>\n",
       "      <td>Female</td>\n",
       "      <td>44</td>\n",
       "      <td>Married</td>\n",
       "      <td>Lead</td>\n",
       "      <td>22</td>\n",
       "      <td>Marketing</td>\n",
       "      <td>Full-Time</td>\n",
       "      <td>3</td>\n",
       "      <td>3</td>\n",
       "      <td>...</td>\n",
       "      <td>6.2</td>\n",
       "      <td>Car</td>\n",
       "      <td>10</td>\n",
       "      <td>7</td>\n",
       "      <td>29</td>\n",
       "      <td>4</td>\n",
       "      <td>PhD</td>\n",
       "      <td>False</td>\n",
       "      <td>61.0</td>\n",
       "      <td>1</td>\n",
       "    </tr>\n",
       "  </tbody>\n",
       "</table>\n",
       "<p>3025 rows × 23 columns</p>\n",
       "</div>"
      ],
      "text/plain": [
       "      EmpID  Gender  Age MaritalStatus        JobLevel  Experience       Dept  \\\n",
       "0         6    Male   32       Married             Mid           7         IT   \n",
       "1        11  Female   34       Married             Mid          12    Finance   \n",
       "2        33  Female   23        Single  Intern/Fresher           1  Marketing   \n",
       "3        20  Female   29       Married          Junior           6         IT   \n",
       "4        28   Other   23        Single          Junior           1      Sales   \n",
       "...     ...     ...  ...           ...             ...         ...        ...   \n",
       "3020   2070    Male   47       Married            Lead          16  Marketing   \n",
       "3021   2072  Female   47       Married            Lead           8         IT   \n",
       "3022   2145    Male   41       Married            Lead          17         IT   \n",
       "3023   2168  Female   54       Married            Lead          16         IT   \n",
       "3024   2183  Female   44       Married            Lead          22  Marketing   \n",
       "\n",
       "        EmpType  WLB  WorkEnv  ...  SleepHours       CommuteMode  \\\n",
       "0     Full-Time    1        1  ...         7.6               Car   \n",
       "1     Full-Time    1        1  ...         7.9               Car   \n",
       "2     Full-Time    2        4  ...         6.5         Motorbike   \n",
       "3      Contract    2        2  ...         7.5  Public Transport   \n",
       "4     Part-Time    3        1  ...         4.9               Car   \n",
       "...         ...  ...      ...  ...         ...               ...   \n",
       "3020  Part-Time    1        3  ...         6.8  Public Transport   \n",
       "3021   Contract    3        1  ...         6.9               Car   \n",
       "3022  Full-Time    1        1  ...         6.1  Public Transport   \n",
       "3023  Full-Time    1        5  ...         7.7  Public Transport   \n",
       "3024  Full-Time    3        3  ...         6.2               Car   \n",
       "\n",
       "      CommuteDistance  NumCompanies TeamSize  NumReports  EduLevel  haveOT  \\\n",
       "0                  20             3       12           0  Bachelor    True   \n",
       "1                  15             4       11           0  Bachelor   False   \n",
       "2                  17             0       30           0  Bachelor    True   \n",
       "3                  13             2        9           0  Bachelor    True   \n",
       "4                  20             0        7           0  Bachelor   False   \n",
       "...               ...           ...      ...         ...       ...     ...   \n",
       "3020               15             8       28           8    Master   False   \n",
       "3021               28             8       21           8    Master    True   \n",
       "3022                9             6       23           3    Master    True   \n",
       "3023               18            10       30           7    Master    True   \n",
       "3024               10             7       29           4       PhD   False   \n",
       "\n",
       "      TrainingHoursPerYear JobSatisfaction  \n",
       "0                     33.5               5  \n",
       "1                     36.0               5  \n",
       "2                     10.5               5  \n",
       "3                     23.0               5  \n",
       "4                     20.5               5  \n",
       "...                    ...             ...  \n",
       "3020                  58.0               1  \n",
       "3021                  54.0               1  \n",
       "3022                  58.5               1  \n",
       "3023                  58.0               1  \n",
       "3024                  61.0               1  \n",
       "\n",
       "[3025 rows x 23 columns]"
      ]
     },
     "execution_count": 90,
     "metadata": {},
     "output_type": "execute_result"
    }
   ],
   "source": [
    "out4"
   ]
  },
  {
   "cell_type": "code",
   "execution_count": 91,
   "id": "8bb47e95-8f77-42b8-b313-c6645ed582be",
   "metadata": {},
   "outputs": [],
   "source": [
    "Q1= df[\"SleepHours\"].quantile(0.25)\n",
    "Q3 = df[\"SleepHours\"].quantile(0.75)\n",
    "IQR  = Q3-Q1\n",
    "\n",
    "Lower_Bound=Q1-1.5*IQR\n",
    "Upper_Bound = Q3-1.5*IQR"
   ]
  },
  {
   "cell_type": "code",
   "execution_count": 92,
   "id": "d5134745-29db-4ce0-a690-bcf624fb0a4b",
   "metadata": {},
   "outputs": [
    {
     "data": {
      "text/plain": [
       "np.float64(4.199999999999999)"
      ]
     },
     "execution_count": 92,
     "metadata": {},
     "output_type": "execute_result"
    }
   ],
   "source": [
    "Lower_Bound"
   ]
  },
  {
   "cell_type": "code",
   "execution_count": 93,
   "id": "e4f87792-d6ef-4816-9c1b-586c022411e1",
   "metadata": {},
   "outputs": [
    {
     "data": {
      "text/plain": [
       "np.float64(5.6)"
      ]
     },
     "execution_count": 93,
     "metadata": {},
     "output_type": "execute_result"
    }
   ],
   "source": [
    "Upper_Bound"
   ]
  },
  {
   "cell_type": "code",
   "execution_count": 94,
   "id": "1feec753-f035-4ace-b46f-f7f8d47bbb22",
   "metadata": {},
   "outputs": [],
   "source": [
    "out5=df[(df[\"SleepHours\"]<Lower_Bound) | (df[\"SleepHours\"]>Upper_Bound)]"
   ]
  },
  {
   "cell_type": "code",
   "execution_count": 95,
   "id": "68fc4103-f2e7-47b4-a823-4133d05a6996",
   "metadata": {},
   "outputs": [
    {
     "data": {
      "text/html": [
       "<div>\n",
       "<style scoped>\n",
       "    .dataframe tbody tr th:only-of-type {\n",
       "        vertical-align: middle;\n",
       "    }\n",
       "\n",
       "    .dataframe tbody tr th {\n",
       "        vertical-align: top;\n",
       "    }\n",
       "\n",
       "    .dataframe thead th {\n",
       "        text-align: right;\n",
       "    }\n",
       "</style>\n",
       "<table border=\"1\" class=\"dataframe\">\n",
       "  <thead>\n",
       "    <tr style=\"text-align: right;\">\n",
       "      <th></th>\n",
       "      <th>EmpID</th>\n",
       "      <th>Gender</th>\n",
       "      <th>Age</th>\n",
       "      <th>MaritalStatus</th>\n",
       "      <th>JobLevel</th>\n",
       "      <th>Experience</th>\n",
       "      <th>Dept</th>\n",
       "      <th>EmpType</th>\n",
       "      <th>WLB</th>\n",
       "      <th>WorkEnv</th>\n",
       "      <th>...</th>\n",
       "      <th>SleepHours</th>\n",
       "      <th>CommuteMode</th>\n",
       "      <th>CommuteDistance</th>\n",
       "      <th>NumCompanies</th>\n",
       "      <th>TeamSize</th>\n",
       "      <th>NumReports</th>\n",
       "      <th>EduLevel</th>\n",
       "      <th>haveOT</th>\n",
       "      <th>TrainingHoursPerYear</th>\n",
       "      <th>JobSatisfaction</th>\n",
       "    </tr>\n",
       "  </thead>\n",
       "  <tbody>\n",
       "    <tr>\n",
       "      <th>0</th>\n",
       "      <td>6</td>\n",
       "      <td>Male</td>\n",
       "      <td>32</td>\n",
       "      <td>Married</td>\n",
       "      <td>Mid</td>\n",
       "      <td>7</td>\n",
       "      <td>IT</td>\n",
       "      <td>Full-Time</td>\n",
       "      <td>1</td>\n",
       "      <td>1</td>\n",
       "      <td>...</td>\n",
       "      <td>7.6</td>\n",
       "      <td>Car</td>\n",
       "      <td>20</td>\n",
       "      <td>3</td>\n",
       "      <td>12</td>\n",
       "      <td>0</td>\n",
       "      <td>Bachelor</td>\n",
       "      <td>True</td>\n",
       "      <td>33.5</td>\n",
       "      <td>5</td>\n",
       "    </tr>\n",
       "    <tr>\n",
       "      <th>1</th>\n",
       "      <td>11</td>\n",
       "      <td>Female</td>\n",
       "      <td>34</td>\n",
       "      <td>Married</td>\n",
       "      <td>Mid</td>\n",
       "      <td>12</td>\n",
       "      <td>Finance</td>\n",
       "      <td>Full-Time</td>\n",
       "      <td>1</td>\n",
       "      <td>1</td>\n",
       "      <td>...</td>\n",
       "      <td>7.9</td>\n",
       "      <td>Car</td>\n",
       "      <td>15</td>\n",
       "      <td>4</td>\n",
       "      <td>11</td>\n",
       "      <td>0</td>\n",
       "      <td>Bachelor</td>\n",
       "      <td>False</td>\n",
       "      <td>36.0</td>\n",
       "      <td>5</td>\n",
       "    </tr>\n",
       "    <tr>\n",
       "      <th>2</th>\n",
       "      <td>33</td>\n",
       "      <td>Female</td>\n",
       "      <td>23</td>\n",
       "      <td>Single</td>\n",
       "      <td>Intern/Fresher</td>\n",
       "      <td>1</td>\n",
       "      <td>Marketing</td>\n",
       "      <td>Full-Time</td>\n",
       "      <td>2</td>\n",
       "      <td>4</td>\n",
       "      <td>...</td>\n",
       "      <td>6.5</td>\n",
       "      <td>Motorbike</td>\n",
       "      <td>17</td>\n",
       "      <td>0</td>\n",
       "      <td>30</td>\n",
       "      <td>0</td>\n",
       "      <td>Bachelor</td>\n",
       "      <td>True</td>\n",
       "      <td>10.5</td>\n",
       "      <td>5</td>\n",
       "    </tr>\n",
       "    <tr>\n",
       "      <th>3</th>\n",
       "      <td>20</td>\n",
       "      <td>Female</td>\n",
       "      <td>29</td>\n",
       "      <td>Married</td>\n",
       "      <td>Junior</td>\n",
       "      <td>6</td>\n",
       "      <td>IT</td>\n",
       "      <td>Contract</td>\n",
       "      <td>2</td>\n",
       "      <td>2</td>\n",
       "      <td>...</td>\n",
       "      <td>7.5</td>\n",
       "      <td>Public Transport</td>\n",
       "      <td>13</td>\n",
       "      <td>2</td>\n",
       "      <td>9</td>\n",
       "      <td>0</td>\n",
       "      <td>Bachelor</td>\n",
       "      <td>True</td>\n",
       "      <td>23.0</td>\n",
       "      <td>5</td>\n",
       "    </tr>\n",
       "    <tr>\n",
       "      <th>5</th>\n",
       "      <td>45</td>\n",
       "      <td>Female</td>\n",
       "      <td>33</td>\n",
       "      <td>Married</td>\n",
       "      <td>Mid</td>\n",
       "      <td>10</td>\n",
       "      <td>Operations</td>\n",
       "      <td>Part-Time</td>\n",
       "      <td>2</td>\n",
       "      <td>3</td>\n",
       "      <td>...</td>\n",
       "      <td>6.2</td>\n",
       "      <td>Car</td>\n",
       "      <td>8</td>\n",
       "      <td>3</td>\n",
       "      <td>13</td>\n",
       "      <td>0</td>\n",
       "      <td>Bachelor</td>\n",
       "      <td>False</td>\n",
       "      <td>35.0</td>\n",
       "      <td>5</td>\n",
       "    </tr>\n",
       "    <tr>\n",
       "      <th>...</th>\n",
       "      <td>...</td>\n",
       "      <td>...</td>\n",
       "      <td>...</td>\n",
       "      <td>...</td>\n",
       "      <td>...</td>\n",
       "      <td>...</td>\n",
       "      <td>...</td>\n",
       "      <td>...</td>\n",
       "      <td>...</td>\n",
       "      <td>...</td>\n",
       "      <td>...</td>\n",
       "      <td>...</td>\n",
       "      <td>...</td>\n",
       "      <td>...</td>\n",
       "      <td>...</td>\n",
       "      <td>...</td>\n",
       "      <td>...</td>\n",
       "      <td>...</td>\n",
       "      <td>...</td>\n",
       "      <td>...</td>\n",
       "      <td>...</td>\n",
       "    </tr>\n",
       "    <tr>\n",
       "      <th>3020</th>\n",
       "      <td>2070</td>\n",
       "      <td>Male</td>\n",
       "      <td>47</td>\n",
       "      <td>Married</td>\n",
       "      <td>Lead</td>\n",
       "      <td>16</td>\n",
       "      <td>Marketing</td>\n",
       "      <td>Part-Time</td>\n",
       "      <td>1</td>\n",
       "      <td>3</td>\n",
       "      <td>...</td>\n",
       "      <td>6.8</td>\n",
       "      <td>Public Transport</td>\n",
       "      <td>15</td>\n",
       "      <td>8</td>\n",
       "      <td>28</td>\n",
       "      <td>8</td>\n",
       "      <td>Master</td>\n",
       "      <td>False</td>\n",
       "      <td>58.0</td>\n",
       "      <td>1</td>\n",
       "    </tr>\n",
       "    <tr>\n",
       "      <th>3021</th>\n",
       "      <td>2072</td>\n",
       "      <td>Female</td>\n",
       "      <td>47</td>\n",
       "      <td>Married</td>\n",
       "      <td>Lead</td>\n",
       "      <td>8</td>\n",
       "      <td>IT</td>\n",
       "      <td>Contract</td>\n",
       "      <td>3</td>\n",
       "      <td>1</td>\n",
       "      <td>...</td>\n",
       "      <td>6.9</td>\n",
       "      <td>Car</td>\n",
       "      <td>28</td>\n",
       "      <td>8</td>\n",
       "      <td>21</td>\n",
       "      <td>8</td>\n",
       "      <td>Master</td>\n",
       "      <td>True</td>\n",
       "      <td>54.0</td>\n",
       "      <td>1</td>\n",
       "    </tr>\n",
       "    <tr>\n",
       "      <th>3022</th>\n",
       "      <td>2145</td>\n",
       "      <td>Male</td>\n",
       "      <td>41</td>\n",
       "      <td>Married</td>\n",
       "      <td>Lead</td>\n",
       "      <td>17</td>\n",
       "      <td>IT</td>\n",
       "      <td>Full-Time</td>\n",
       "      <td>1</td>\n",
       "      <td>1</td>\n",
       "      <td>...</td>\n",
       "      <td>6.1</td>\n",
       "      <td>Public Transport</td>\n",
       "      <td>9</td>\n",
       "      <td>6</td>\n",
       "      <td>23</td>\n",
       "      <td>3</td>\n",
       "      <td>Master</td>\n",
       "      <td>True</td>\n",
       "      <td>58.5</td>\n",
       "      <td>1</td>\n",
       "    </tr>\n",
       "    <tr>\n",
       "      <th>3023</th>\n",
       "      <td>2168</td>\n",
       "      <td>Female</td>\n",
       "      <td>54</td>\n",
       "      <td>Married</td>\n",
       "      <td>Lead</td>\n",
       "      <td>16</td>\n",
       "      <td>IT</td>\n",
       "      <td>Full-Time</td>\n",
       "      <td>1</td>\n",
       "      <td>5</td>\n",
       "      <td>...</td>\n",
       "      <td>7.7</td>\n",
       "      <td>Public Transport</td>\n",
       "      <td>18</td>\n",
       "      <td>10</td>\n",
       "      <td>30</td>\n",
       "      <td>7</td>\n",
       "      <td>Master</td>\n",
       "      <td>True</td>\n",
       "      <td>58.0</td>\n",
       "      <td>1</td>\n",
       "    </tr>\n",
       "    <tr>\n",
       "      <th>3024</th>\n",
       "      <td>2183</td>\n",
       "      <td>Female</td>\n",
       "      <td>44</td>\n",
       "      <td>Married</td>\n",
       "      <td>Lead</td>\n",
       "      <td>22</td>\n",
       "      <td>Marketing</td>\n",
       "      <td>Full-Time</td>\n",
       "      <td>3</td>\n",
       "      <td>3</td>\n",
       "      <td>...</td>\n",
       "      <td>6.2</td>\n",
       "      <td>Car</td>\n",
       "      <td>10</td>\n",
       "      <td>7</td>\n",
       "      <td>29</td>\n",
       "      <td>4</td>\n",
       "      <td>PhD</td>\n",
       "      <td>False</td>\n",
       "      <td>61.0</td>\n",
       "      <td>1</td>\n",
       "    </tr>\n",
       "  </tbody>\n",
       "</table>\n",
       "<p>2768 rows × 23 columns</p>\n",
       "</div>"
      ],
      "text/plain": [
       "      EmpID  Gender  Age MaritalStatus        JobLevel  Experience  \\\n",
       "0         6    Male   32       Married             Mid           7   \n",
       "1        11  Female   34       Married             Mid          12   \n",
       "2        33  Female   23        Single  Intern/Fresher           1   \n",
       "3        20  Female   29       Married          Junior           6   \n",
       "5        45  Female   33       Married             Mid          10   \n",
       "...     ...     ...  ...           ...             ...         ...   \n",
       "3020   2070    Male   47       Married            Lead          16   \n",
       "3021   2072  Female   47       Married            Lead           8   \n",
       "3022   2145    Male   41       Married            Lead          17   \n",
       "3023   2168  Female   54       Married            Lead          16   \n",
       "3024   2183  Female   44       Married            Lead          22   \n",
       "\n",
       "            Dept    EmpType  WLB  WorkEnv  ...  SleepHours       CommuteMode  \\\n",
       "0             IT  Full-Time    1        1  ...         7.6               Car   \n",
       "1        Finance  Full-Time    1        1  ...         7.9               Car   \n",
       "2      Marketing  Full-Time    2        4  ...         6.5         Motorbike   \n",
       "3             IT   Contract    2        2  ...         7.5  Public Transport   \n",
       "5     Operations  Part-Time    2        3  ...         6.2               Car   \n",
       "...          ...        ...  ...      ...  ...         ...               ...   \n",
       "3020   Marketing  Part-Time    1        3  ...         6.8  Public Transport   \n",
       "3021          IT   Contract    3        1  ...         6.9               Car   \n",
       "3022          IT  Full-Time    1        1  ...         6.1  Public Transport   \n",
       "3023          IT  Full-Time    1        5  ...         7.7  Public Transport   \n",
       "3024   Marketing  Full-Time    3        3  ...         6.2               Car   \n",
       "\n",
       "      CommuteDistance  NumCompanies TeamSize  NumReports  EduLevel  haveOT  \\\n",
       "0                  20             3       12           0  Bachelor    True   \n",
       "1                  15             4       11           0  Bachelor   False   \n",
       "2                  17             0       30           0  Bachelor    True   \n",
       "3                  13             2        9           0  Bachelor    True   \n",
       "5                   8             3       13           0  Bachelor   False   \n",
       "...               ...           ...      ...         ...       ...     ...   \n",
       "3020               15             8       28           8    Master   False   \n",
       "3021               28             8       21           8    Master    True   \n",
       "3022                9             6       23           3    Master    True   \n",
       "3023               18            10       30           7    Master    True   \n",
       "3024               10             7       29           4       PhD   False   \n",
       "\n",
       "      TrainingHoursPerYear JobSatisfaction  \n",
       "0                     33.5               5  \n",
       "1                     36.0               5  \n",
       "2                     10.5               5  \n",
       "3                     23.0               5  \n",
       "5                     35.0               5  \n",
       "...                    ...             ...  \n",
       "3020                  58.0               1  \n",
       "3021                  54.0               1  \n",
       "3022                  58.5               1  \n",
       "3023                  58.0               1  \n",
       "3024                  61.0               1  \n",
       "\n",
       "[2768 rows x 23 columns]"
      ]
     },
     "execution_count": 95,
     "metadata": {},
     "output_type": "execute_result"
    }
   ],
   "source": [
    "out5"
   ]
  },
  {
   "cell_type": "code",
   "execution_count": 96,
   "id": "b10cca7a-080c-48f9-8068-a6a58c288a29",
   "metadata": {},
   "outputs": [],
   "source": [
    "Q1= df[\"CommuteDistance\"].quantile(0.25)\n",
    "Q3 = df[\"CommuteDistance\"].quantile(0.75)\n",
    "IQR  = Q3-Q1\n",
    "\n",
    "Lower_Bound=Q1-1.5*IQR\n",
    "Upper_Bound = Q3-1.5*IQR"
   ]
  },
  {
   "cell_type": "code",
   "execution_count": 97,
   "id": "0bc31500-1b8b-47d4-9c57-dd078f875145",
   "metadata": {},
   "outputs": [
    {
     "data": {
      "text/plain": [
       "np.float64(-16.5)"
      ]
     },
     "execution_count": 97,
     "metadata": {},
     "output_type": "execute_result"
    }
   ],
   "source": [
    "Lower_Bound"
   ]
  },
  {
   "cell_type": "code",
   "execution_count": 98,
   "id": "3369bf71-924f-4e97-978b-16ef8b7ac710",
   "metadata": {},
   "outputs": [
    {
     "data": {
      "text/plain": [
       "np.float64(-1.5)"
      ]
     },
     "execution_count": 98,
     "metadata": {},
     "output_type": "execute_result"
    }
   ],
   "source": [
    "Upper_Bound"
   ]
  },
  {
   "cell_type": "code",
   "execution_count": 99,
   "id": "cab9f0c8-cee7-478b-a8cd-e4dca967cf4b",
   "metadata": {},
   "outputs": [],
   "source": [
    "out6=df[(df[\"CommuteDistance\"]<Lower_Bound) | (df[\"CommuteDistance\"]>Upper_Bound)]"
   ]
  },
  {
   "cell_type": "code",
   "execution_count": 100,
   "id": "a8175470-f969-4931-9f9e-97678263cd91",
   "metadata": {},
   "outputs": [
    {
     "data": {
      "text/html": [
       "<div>\n",
       "<style scoped>\n",
       "    .dataframe tbody tr th:only-of-type {\n",
       "        vertical-align: middle;\n",
       "    }\n",
       "\n",
       "    .dataframe tbody tr th {\n",
       "        vertical-align: top;\n",
       "    }\n",
       "\n",
       "    .dataframe thead th {\n",
       "        text-align: right;\n",
       "    }\n",
       "</style>\n",
       "<table border=\"1\" class=\"dataframe\">\n",
       "  <thead>\n",
       "    <tr style=\"text-align: right;\">\n",
       "      <th></th>\n",
       "      <th>EmpID</th>\n",
       "      <th>Gender</th>\n",
       "      <th>Age</th>\n",
       "      <th>MaritalStatus</th>\n",
       "      <th>JobLevel</th>\n",
       "      <th>Experience</th>\n",
       "      <th>Dept</th>\n",
       "      <th>EmpType</th>\n",
       "      <th>WLB</th>\n",
       "      <th>WorkEnv</th>\n",
       "      <th>...</th>\n",
       "      <th>SleepHours</th>\n",
       "      <th>CommuteMode</th>\n",
       "      <th>CommuteDistance</th>\n",
       "      <th>NumCompanies</th>\n",
       "      <th>TeamSize</th>\n",
       "      <th>NumReports</th>\n",
       "      <th>EduLevel</th>\n",
       "      <th>haveOT</th>\n",
       "      <th>TrainingHoursPerYear</th>\n",
       "      <th>JobSatisfaction</th>\n",
       "    </tr>\n",
       "  </thead>\n",
       "  <tbody>\n",
       "    <tr>\n",
       "      <th>0</th>\n",
       "      <td>6</td>\n",
       "      <td>Male</td>\n",
       "      <td>32</td>\n",
       "      <td>Married</td>\n",
       "      <td>Mid</td>\n",
       "      <td>7</td>\n",
       "      <td>IT</td>\n",
       "      <td>Full-Time</td>\n",
       "      <td>1</td>\n",
       "      <td>1</td>\n",
       "      <td>...</td>\n",
       "      <td>7.6</td>\n",
       "      <td>Car</td>\n",
       "      <td>20</td>\n",
       "      <td>3</td>\n",
       "      <td>12</td>\n",
       "      <td>0</td>\n",
       "      <td>Bachelor</td>\n",
       "      <td>True</td>\n",
       "      <td>33.5</td>\n",
       "      <td>5</td>\n",
       "    </tr>\n",
       "    <tr>\n",
       "      <th>1</th>\n",
       "      <td>11</td>\n",
       "      <td>Female</td>\n",
       "      <td>34</td>\n",
       "      <td>Married</td>\n",
       "      <td>Mid</td>\n",
       "      <td>12</td>\n",
       "      <td>Finance</td>\n",
       "      <td>Full-Time</td>\n",
       "      <td>1</td>\n",
       "      <td>1</td>\n",
       "      <td>...</td>\n",
       "      <td>7.9</td>\n",
       "      <td>Car</td>\n",
       "      <td>15</td>\n",
       "      <td>4</td>\n",
       "      <td>11</td>\n",
       "      <td>0</td>\n",
       "      <td>Bachelor</td>\n",
       "      <td>False</td>\n",
       "      <td>36.0</td>\n",
       "      <td>5</td>\n",
       "    </tr>\n",
       "    <tr>\n",
       "      <th>2</th>\n",
       "      <td>33</td>\n",
       "      <td>Female</td>\n",
       "      <td>23</td>\n",
       "      <td>Single</td>\n",
       "      <td>Intern/Fresher</td>\n",
       "      <td>1</td>\n",
       "      <td>Marketing</td>\n",
       "      <td>Full-Time</td>\n",
       "      <td>2</td>\n",
       "      <td>4</td>\n",
       "      <td>...</td>\n",
       "      <td>6.5</td>\n",
       "      <td>Motorbike</td>\n",
       "      <td>17</td>\n",
       "      <td>0</td>\n",
       "      <td>30</td>\n",
       "      <td>0</td>\n",
       "      <td>Bachelor</td>\n",
       "      <td>True</td>\n",
       "      <td>10.5</td>\n",
       "      <td>5</td>\n",
       "    </tr>\n",
       "    <tr>\n",
       "      <th>3</th>\n",
       "      <td>20</td>\n",
       "      <td>Female</td>\n",
       "      <td>29</td>\n",
       "      <td>Married</td>\n",
       "      <td>Junior</td>\n",
       "      <td>6</td>\n",
       "      <td>IT</td>\n",
       "      <td>Contract</td>\n",
       "      <td>2</td>\n",
       "      <td>2</td>\n",
       "      <td>...</td>\n",
       "      <td>7.5</td>\n",
       "      <td>Public Transport</td>\n",
       "      <td>13</td>\n",
       "      <td>2</td>\n",
       "      <td>9</td>\n",
       "      <td>0</td>\n",
       "      <td>Bachelor</td>\n",
       "      <td>True</td>\n",
       "      <td>23.0</td>\n",
       "      <td>5</td>\n",
       "    </tr>\n",
       "    <tr>\n",
       "      <th>4</th>\n",
       "      <td>28</td>\n",
       "      <td>Other</td>\n",
       "      <td>23</td>\n",
       "      <td>Single</td>\n",
       "      <td>Junior</td>\n",
       "      <td>1</td>\n",
       "      <td>Sales</td>\n",
       "      <td>Part-Time</td>\n",
       "      <td>3</td>\n",
       "      <td>1</td>\n",
       "      <td>...</td>\n",
       "      <td>4.9</td>\n",
       "      <td>Car</td>\n",
       "      <td>20</td>\n",
       "      <td>0</td>\n",
       "      <td>7</td>\n",
       "      <td>0</td>\n",
       "      <td>Bachelor</td>\n",
       "      <td>False</td>\n",
       "      <td>20.5</td>\n",
       "      <td>5</td>\n",
       "    </tr>\n",
       "    <tr>\n",
       "      <th>...</th>\n",
       "      <td>...</td>\n",
       "      <td>...</td>\n",
       "      <td>...</td>\n",
       "      <td>...</td>\n",
       "      <td>...</td>\n",
       "      <td>...</td>\n",
       "      <td>...</td>\n",
       "      <td>...</td>\n",
       "      <td>...</td>\n",
       "      <td>...</td>\n",
       "      <td>...</td>\n",
       "      <td>...</td>\n",
       "      <td>...</td>\n",
       "      <td>...</td>\n",
       "      <td>...</td>\n",
       "      <td>...</td>\n",
       "      <td>...</td>\n",
       "      <td>...</td>\n",
       "      <td>...</td>\n",
       "      <td>...</td>\n",
       "      <td>...</td>\n",
       "    </tr>\n",
       "    <tr>\n",
       "      <th>3020</th>\n",
       "      <td>2070</td>\n",
       "      <td>Male</td>\n",
       "      <td>47</td>\n",
       "      <td>Married</td>\n",
       "      <td>Lead</td>\n",
       "      <td>16</td>\n",
       "      <td>Marketing</td>\n",
       "      <td>Part-Time</td>\n",
       "      <td>1</td>\n",
       "      <td>3</td>\n",
       "      <td>...</td>\n",
       "      <td>6.8</td>\n",
       "      <td>Public Transport</td>\n",
       "      <td>15</td>\n",
       "      <td>8</td>\n",
       "      <td>28</td>\n",
       "      <td>8</td>\n",
       "      <td>Master</td>\n",
       "      <td>False</td>\n",
       "      <td>58.0</td>\n",
       "      <td>1</td>\n",
       "    </tr>\n",
       "    <tr>\n",
       "      <th>3021</th>\n",
       "      <td>2072</td>\n",
       "      <td>Female</td>\n",
       "      <td>47</td>\n",
       "      <td>Married</td>\n",
       "      <td>Lead</td>\n",
       "      <td>8</td>\n",
       "      <td>IT</td>\n",
       "      <td>Contract</td>\n",
       "      <td>3</td>\n",
       "      <td>1</td>\n",
       "      <td>...</td>\n",
       "      <td>6.9</td>\n",
       "      <td>Car</td>\n",
       "      <td>28</td>\n",
       "      <td>8</td>\n",
       "      <td>21</td>\n",
       "      <td>8</td>\n",
       "      <td>Master</td>\n",
       "      <td>True</td>\n",
       "      <td>54.0</td>\n",
       "      <td>1</td>\n",
       "    </tr>\n",
       "    <tr>\n",
       "      <th>3022</th>\n",
       "      <td>2145</td>\n",
       "      <td>Male</td>\n",
       "      <td>41</td>\n",
       "      <td>Married</td>\n",
       "      <td>Lead</td>\n",
       "      <td>17</td>\n",
       "      <td>IT</td>\n",
       "      <td>Full-Time</td>\n",
       "      <td>1</td>\n",
       "      <td>1</td>\n",
       "      <td>...</td>\n",
       "      <td>6.1</td>\n",
       "      <td>Public Transport</td>\n",
       "      <td>9</td>\n",
       "      <td>6</td>\n",
       "      <td>23</td>\n",
       "      <td>3</td>\n",
       "      <td>Master</td>\n",
       "      <td>True</td>\n",
       "      <td>58.5</td>\n",
       "      <td>1</td>\n",
       "    </tr>\n",
       "    <tr>\n",
       "      <th>3023</th>\n",
       "      <td>2168</td>\n",
       "      <td>Female</td>\n",
       "      <td>54</td>\n",
       "      <td>Married</td>\n",
       "      <td>Lead</td>\n",
       "      <td>16</td>\n",
       "      <td>IT</td>\n",
       "      <td>Full-Time</td>\n",
       "      <td>1</td>\n",
       "      <td>5</td>\n",
       "      <td>...</td>\n",
       "      <td>7.7</td>\n",
       "      <td>Public Transport</td>\n",
       "      <td>18</td>\n",
       "      <td>10</td>\n",
       "      <td>30</td>\n",
       "      <td>7</td>\n",
       "      <td>Master</td>\n",
       "      <td>True</td>\n",
       "      <td>58.0</td>\n",
       "      <td>1</td>\n",
       "    </tr>\n",
       "    <tr>\n",
       "      <th>3024</th>\n",
       "      <td>2183</td>\n",
       "      <td>Female</td>\n",
       "      <td>44</td>\n",
       "      <td>Married</td>\n",
       "      <td>Lead</td>\n",
       "      <td>22</td>\n",
       "      <td>Marketing</td>\n",
       "      <td>Full-Time</td>\n",
       "      <td>3</td>\n",
       "      <td>3</td>\n",
       "      <td>...</td>\n",
       "      <td>6.2</td>\n",
       "      <td>Car</td>\n",
       "      <td>10</td>\n",
       "      <td>7</td>\n",
       "      <td>29</td>\n",
       "      <td>4</td>\n",
       "      <td>PhD</td>\n",
       "      <td>False</td>\n",
       "      <td>61.0</td>\n",
       "      <td>1</td>\n",
       "    </tr>\n",
       "  </tbody>\n",
       "</table>\n",
       "<p>3025 rows × 23 columns</p>\n",
       "</div>"
      ],
      "text/plain": [
       "      EmpID  Gender  Age MaritalStatus        JobLevel  Experience       Dept  \\\n",
       "0         6    Male   32       Married             Mid           7         IT   \n",
       "1        11  Female   34       Married             Mid          12    Finance   \n",
       "2        33  Female   23        Single  Intern/Fresher           1  Marketing   \n",
       "3        20  Female   29       Married          Junior           6         IT   \n",
       "4        28   Other   23        Single          Junior           1      Sales   \n",
       "...     ...     ...  ...           ...             ...         ...        ...   \n",
       "3020   2070    Male   47       Married            Lead          16  Marketing   \n",
       "3021   2072  Female   47       Married            Lead           8         IT   \n",
       "3022   2145    Male   41       Married            Lead          17         IT   \n",
       "3023   2168  Female   54       Married            Lead          16         IT   \n",
       "3024   2183  Female   44       Married            Lead          22  Marketing   \n",
       "\n",
       "        EmpType  WLB  WorkEnv  ...  SleepHours       CommuteMode  \\\n",
       "0     Full-Time    1        1  ...         7.6               Car   \n",
       "1     Full-Time    1        1  ...         7.9               Car   \n",
       "2     Full-Time    2        4  ...         6.5         Motorbike   \n",
       "3      Contract    2        2  ...         7.5  Public Transport   \n",
       "4     Part-Time    3        1  ...         4.9               Car   \n",
       "...         ...  ...      ...  ...         ...               ...   \n",
       "3020  Part-Time    1        3  ...         6.8  Public Transport   \n",
       "3021   Contract    3        1  ...         6.9               Car   \n",
       "3022  Full-Time    1        1  ...         6.1  Public Transport   \n",
       "3023  Full-Time    1        5  ...         7.7  Public Transport   \n",
       "3024  Full-Time    3        3  ...         6.2               Car   \n",
       "\n",
       "      CommuteDistance  NumCompanies TeamSize  NumReports  EduLevel  haveOT  \\\n",
       "0                  20             3       12           0  Bachelor    True   \n",
       "1                  15             4       11           0  Bachelor   False   \n",
       "2                  17             0       30           0  Bachelor    True   \n",
       "3                  13             2        9           0  Bachelor    True   \n",
       "4                  20             0        7           0  Bachelor   False   \n",
       "...               ...           ...      ...         ...       ...     ...   \n",
       "3020               15             8       28           8    Master   False   \n",
       "3021               28             8       21           8    Master    True   \n",
       "3022                9             6       23           3    Master    True   \n",
       "3023               18            10       30           7    Master    True   \n",
       "3024               10             7       29           4       PhD   False   \n",
       "\n",
       "      TrainingHoursPerYear JobSatisfaction  \n",
       "0                     33.5               5  \n",
       "1                     36.0               5  \n",
       "2                     10.5               5  \n",
       "3                     23.0               5  \n",
       "4                     20.5               5  \n",
       "...                    ...             ...  \n",
       "3020                  58.0               1  \n",
       "3021                  54.0               1  \n",
       "3022                  58.5               1  \n",
       "3023                  58.0               1  \n",
       "3024                  61.0               1  \n",
       "\n",
       "[3025 rows x 23 columns]"
      ]
     },
     "execution_count": 100,
     "metadata": {},
     "output_type": "execute_result"
    }
   ],
   "source": [
    "out6"
   ]
  },
  {
   "cell_type": "code",
   "execution_count": 101,
   "id": "275c9d26-dece-457b-ae06-c679b93f1ad8",
   "metadata": {},
   "outputs": [],
   "source": [
    "Q1= df[\"TrainingHoursPerYear\"].quantile(0.25)\n",
    "Q3 = df[\"TrainingHoursPerYear\"].quantile(0.75)\n",
    "IQR  = Q3-Q1\n",
    "\n",
    "Lower_Bound=Q1-1.5*IQR\n",
    "Upper_Bound = Q3-1.5*IQR"
   ]
  },
  {
   "cell_type": "code",
   "execution_count": 102,
   "id": "20229eb9-ff37-4c00-9914-8211b149f673",
   "metadata": {},
   "outputs": [
    {
     "data": {
      "text/plain": [
       "np.float64(-11.0)"
      ]
     },
     "execution_count": 102,
     "metadata": {},
     "output_type": "execute_result"
    }
   ],
   "source": [
    "Lower_Bound"
   ]
  },
  {
   "cell_type": "code",
   "execution_count": 103,
   "id": "52044582-fe63-4dde-b3c7-a8a31c920706",
   "metadata": {},
   "outputs": [
    {
     "data": {
      "text/plain": [
       "np.float64(12.0)"
      ]
     },
     "execution_count": 103,
     "metadata": {},
     "output_type": "execute_result"
    }
   ],
   "source": [
    "Upper_Bound"
   ]
  },
  {
   "cell_type": "code",
   "execution_count": 104,
   "id": "ce922e4c-ec7a-4cf1-8cf7-f2a0ba392796",
   "metadata": {},
   "outputs": [],
   "source": [
    "out7=df[(df[\"TrainingHoursPerYear\"]<Lower_Bound) | (df[\"TrainingHoursPerYear\"]>Upper_Bound)]"
   ]
  },
  {
   "cell_type": "code",
   "execution_count": 105,
   "id": "b2192ebb-5fe0-4882-a45e-d9e8e190125c",
   "metadata": {},
   "outputs": [
    {
     "data": {
      "text/html": [
       "<div>\n",
       "<style scoped>\n",
       "    .dataframe tbody tr th:only-of-type {\n",
       "        vertical-align: middle;\n",
       "    }\n",
       "\n",
       "    .dataframe tbody tr th {\n",
       "        vertical-align: top;\n",
       "    }\n",
       "\n",
       "    .dataframe thead th {\n",
       "        text-align: right;\n",
       "    }\n",
       "</style>\n",
       "<table border=\"1\" class=\"dataframe\">\n",
       "  <thead>\n",
       "    <tr style=\"text-align: right;\">\n",
       "      <th></th>\n",
       "      <th>EmpID</th>\n",
       "      <th>Gender</th>\n",
       "      <th>Age</th>\n",
       "      <th>MaritalStatus</th>\n",
       "      <th>JobLevel</th>\n",
       "      <th>Experience</th>\n",
       "      <th>Dept</th>\n",
       "      <th>EmpType</th>\n",
       "      <th>WLB</th>\n",
       "      <th>WorkEnv</th>\n",
       "      <th>...</th>\n",
       "      <th>SleepHours</th>\n",
       "      <th>CommuteMode</th>\n",
       "      <th>CommuteDistance</th>\n",
       "      <th>NumCompanies</th>\n",
       "      <th>TeamSize</th>\n",
       "      <th>NumReports</th>\n",
       "      <th>EduLevel</th>\n",
       "      <th>haveOT</th>\n",
       "      <th>TrainingHoursPerYear</th>\n",
       "      <th>JobSatisfaction</th>\n",
       "    </tr>\n",
       "  </thead>\n",
       "  <tbody>\n",
       "    <tr>\n",
       "      <th>0</th>\n",
       "      <td>6</td>\n",
       "      <td>Male</td>\n",
       "      <td>32</td>\n",
       "      <td>Married</td>\n",
       "      <td>Mid</td>\n",
       "      <td>7</td>\n",
       "      <td>IT</td>\n",
       "      <td>Full-Time</td>\n",
       "      <td>1</td>\n",
       "      <td>1</td>\n",
       "      <td>...</td>\n",
       "      <td>7.6</td>\n",
       "      <td>Car</td>\n",
       "      <td>20</td>\n",
       "      <td>3</td>\n",
       "      <td>12</td>\n",
       "      <td>0</td>\n",
       "      <td>Bachelor</td>\n",
       "      <td>True</td>\n",
       "      <td>33.5</td>\n",
       "      <td>5</td>\n",
       "    </tr>\n",
       "    <tr>\n",
       "      <th>1</th>\n",
       "      <td>11</td>\n",
       "      <td>Female</td>\n",
       "      <td>34</td>\n",
       "      <td>Married</td>\n",
       "      <td>Mid</td>\n",
       "      <td>12</td>\n",
       "      <td>Finance</td>\n",
       "      <td>Full-Time</td>\n",
       "      <td>1</td>\n",
       "      <td>1</td>\n",
       "      <td>...</td>\n",
       "      <td>7.9</td>\n",
       "      <td>Car</td>\n",
       "      <td>15</td>\n",
       "      <td>4</td>\n",
       "      <td>11</td>\n",
       "      <td>0</td>\n",
       "      <td>Bachelor</td>\n",
       "      <td>False</td>\n",
       "      <td>36.0</td>\n",
       "      <td>5</td>\n",
       "    </tr>\n",
       "    <tr>\n",
       "      <th>3</th>\n",
       "      <td>20</td>\n",
       "      <td>Female</td>\n",
       "      <td>29</td>\n",
       "      <td>Married</td>\n",
       "      <td>Junior</td>\n",
       "      <td>6</td>\n",
       "      <td>IT</td>\n",
       "      <td>Contract</td>\n",
       "      <td>2</td>\n",
       "      <td>2</td>\n",
       "      <td>...</td>\n",
       "      <td>7.5</td>\n",
       "      <td>Public Transport</td>\n",
       "      <td>13</td>\n",
       "      <td>2</td>\n",
       "      <td>9</td>\n",
       "      <td>0</td>\n",
       "      <td>Bachelor</td>\n",
       "      <td>True</td>\n",
       "      <td>23.0</td>\n",
       "      <td>5</td>\n",
       "    </tr>\n",
       "    <tr>\n",
       "      <th>4</th>\n",
       "      <td>28</td>\n",
       "      <td>Other</td>\n",
       "      <td>23</td>\n",
       "      <td>Single</td>\n",
       "      <td>Junior</td>\n",
       "      <td>1</td>\n",
       "      <td>Sales</td>\n",
       "      <td>Part-Time</td>\n",
       "      <td>3</td>\n",
       "      <td>1</td>\n",
       "      <td>...</td>\n",
       "      <td>4.9</td>\n",
       "      <td>Car</td>\n",
       "      <td>20</td>\n",
       "      <td>0</td>\n",
       "      <td>7</td>\n",
       "      <td>0</td>\n",
       "      <td>Bachelor</td>\n",
       "      <td>False</td>\n",
       "      <td>20.5</td>\n",
       "      <td>5</td>\n",
       "    </tr>\n",
       "    <tr>\n",
       "      <th>5</th>\n",
       "      <td>45</td>\n",
       "      <td>Female</td>\n",
       "      <td>33</td>\n",
       "      <td>Married</td>\n",
       "      <td>Mid</td>\n",
       "      <td>10</td>\n",
       "      <td>Operations</td>\n",
       "      <td>Part-Time</td>\n",
       "      <td>2</td>\n",
       "      <td>3</td>\n",
       "      <td>...</td>\n",
       "      <td>6.2</td>\n",
       "      <td>Car</td>\n",
       "      <td>8</td>\n",
       "      <td>3</td>\n",
       "      <td>13</td>\n",
       "      <td>0</td>\n",
       "      <td>Bachelor</td>\n",
       "      <td>False</td>\n",
       "      <td>35.0</td>\n",
       "      <td>5</td>\n",
       "    </tr>\n",
       "    <tr>\n",
       "      <th>...</th>\n",
       "      <td>...</td>\n",
       "      <td>...</td>\n",
       "      <td>...</td>\n",
       "      <td>...</td>\n",
       "      <td>...</td>\n",
       "      <td>...</td>\n",
       "      <td>...</td>\n",
       "      <td>...</td>\n",
       "      <td>...</td>\n",
       "      <td>...</td>\n",
       "      <td>...</td>\n",
       "      <td>...</td>\n",
       "      <td>...</td>\n",
       "      <td>...</td>\n",
       "      <td>...</td>\n",
       "      <td>...</td>\n",
       "      <td>...</td>\n",
       "      <td>...</td>\n",
       "      <td>...</td>\n",
       "      <td>...</td>\n",
       "      <td>...</td>\n",
       "    </tr>\n",
       "    <tr>\n",
       "      <th>3020</th>\n",
       "      <td>2070</td>\n",
       "      <td>Male</td>\n",
       "      <td>47</td>\n",
       "      <td>Married</td>\n",
       "      <td>Lead</td>\n",
       "      <td>16</td>\n",
       "      <td>Marketing</td>\n",
       "      <td>Part-Time</td>\n",
       "      <td>1</td>\n",
       "      <td>3</td>\n",
       "      <td>...</td>\n",
       "      <td>6.8</td>\n",
       "      <td>Public Transport</td>\n",
       "      <td>15</td>\n",
       "      <td>8</td>\n",
       "      <td>28</td>\n",
       "      <td>8</td>\n",
       "      <td>Master</td>\n",
       "      <td>False</td>\n",
       "      <td>58.0</td>\n",
       "      <td>1</td>\n",
       "    </tr>\n",
       "    <tr>\n",
       "      <th>3021</th>\n",
       "      <td>2072</td>\n",
       "      <td>Female</td>\n",
       "      <td>47</td>\n",
       "      <td>Married</td>\n",
       "      <td>Lead</td>\n",
       "      <td>8</td>\n",
       "      <td>IT</td>\n",
       "      <td>Contract</td>\n",
       "      <td>3</td>\n",
       "      <td>1</td>\n",
       "      <td>...</td>\n",
       "      <td>6.9</td>\n",
       "      <td>Car</td>\n",
       "      <td>28</td>\n",
       "      <td>8</td>\n",
       "      <td>21</td>\n",
       "      <td>8</td>\n",
       "      <td>Master</td>\n",
       "      <td>True</td>\n",
       "      <td>54.0</td>\n",
       "      <td>1</td>\n",
       "    </tr>\n",
       "    <tr>\n",
       "      <th>3022</th>\n",
       "      <td>2145</td>\n",
       "      <td>Male</td>\n",
       "      <td>41</td>\n",
       "      <td>Married</td>\n",
       "      <td>Lead</td>\n",
       "      <td>17</td>\n",
       "      <td>IT</td>\n",
       "      <td>Full-Time</td>\n",
       "      <td>1</td>\n",
       "      <td>1</td>\n",
       "      <td>...</td>\n",
       "      <td>6.1</td>\n",
       "      <td>Public Transport</td>\n",
       "      <td>9</td>\n",
       "      <td>6</td>\n",
       "      <td>23</td>\n",
       "      <td>3</td>\n",
       "      <td>Master</td>\n",
       "      <td>True</td>\n",
       "      <td>58.5</td>\n",
       "      <td>1</td>\n",
       "    </tr>\n",
       "    <tr>\n",
       "      <th>3023</th>\n",
       "      <td>2168</td>\n",
       "      <td>Female</td>\n",
       "      <td>54</td>\n",
       "      <td>Married</td>\n",
       "      <td>Lead</td>\n",
       "      <td>16</td>\n",
       "      <td>IT</td>\n",
       "      <td>Full-Time</td>\n",
       "      <td>1</td>\n",
       "      <td>5</td>\n",
       "      <td>...</td>\n",
       "      <td>7.7</td>\n",
       "      <td>Public Transport</td>\n",
       "      <td>18</td>\n",
       "      <td>10</td>\n",
       "      <td>30</td>\n",
       "      <td>7</td>\n",
       "      <td>Master</td>\n",
       "      <td>True</td>\n",
       "      <td>58.0</td>\n",
       "      <td>1</td>\n",
       "    </tr>\n",
       "    <tr>\n",
       "      <th>3024</th>\n",
       "      <td>2183</td>\n",
       "      <td>Female</td>\n",
       "      <td>44</td>\n",
       "      <td>Married</td>\n",
       "      <td>Lead</td>\n",
       "      <td>22</td>\n",
       "      <td>Marketing</td>\n",
       "      <td>Full-Time</td>\n",
       "      <td>3</td>\n",
       "      <td>3</td>\n",
       "      <td>...</td>\n",
       "      <td>6.2</td>\n",
       "      <td>Car</td>\n",
       "      <td>10</td>\n",
       "      <td>7</td>\n",
       "      <td>29</td>\n",
       "      <td>4</td>\n",
       "      <td>PhD</td>\n",
       "      <td>False</td>\n",
       "      <td>61.0</td>\n",
       "      <td>1</td>\n",
       "    </tr>\n",
       "  </tbody>\n",
       "</table>\n",
       "<p>2823 rows × 23 columns</p>\n",
       "</div>"
      ],
      "text/plain": [
       "      EmpID  Gender  Age MaritalStatus JobLevel  Experience        Dept  \\\n",
       "0         6    Male   32       Married      Mid           7          IT   \n",
       "1        11  Female   34       Married      Mid          12     Finance   \n",
       "3        20  Female   29       Married   Junior           6          IT   \n",
       "4        28   Other   23        Single   Junior           1       Sales   \n",
       "5        45  Female   33       Married      Mid          10  Operations   \n",
       "...     ...     ...  ...           ...      ...         ...         ...   \n",
       "3020   2070    Male   47       Married     Lead          16   Marketing   \n",
       "3021   2072  Female   47       Married     Lead           8          IT   \n",
       "3022   2145    Male   41       Married     Lead          17          IT   \n",
       "3023   2168  Female   54       Married     Lead          16          IT   \n",
       "3024   2183  Female   44       Married     Lead          22   Marketing   \n",
       "\n",
       "        EmpType  WLB  WorkEnv  ...  SleepHours       CommuteMode  \\\n",
       "0     Full-Time    1        1  ...         7.6               Car   \n",
       "1     Full-Time    1        1  ...         7.9               Car   \n",
       "3      Contract    2        2  ...         7.5  Public Transport   \n",
       "4     Part-Time    3        1  ...         4.9               Car   \n",
       "5     Part-Time    2        3  ...         6.2               Car   \n",
       "...         ...  ...      ...  ...         ...               ...   \n",
       "3020  Part-Time    1        3  ...         6.8  Public Transport   \n",
       "3021   Contract    3        1  ...         6.9               Car   \n",
       "3022  Full-Time    1        1  ...         6.1  Public Transport   \n",
       "3023  Full-Time    1        5  ...         7.7  Public Transport   \n",
       "3024  Full-Time    3        3  ...         6.2               Car   \n",
       "\n",
       "      CommuteDistance  NumCompanies TeamSize  NumReports  EduLevel  haveOT  \\\n",
       "0                  20             3       12           0  Bachelor    True   \n",
       "1                  15             4       11           0  Bachelor   False   \n",
       "3                  13             2        9           0  Bachelor    True   \n",
       "4                  20             0        7           0  Bachelor   False   \n",
       "5                   8             3       13           0  Bachelor   False   \n",
       "...               ...           ...      ...         ...       ...     ...   \n",
       "3020               15             8       28           8    Master   False   \n",
       "3021               28             8       21           8    Master    True   \n",
       "3022                9             6       23           3    Master    True   \n",
       "3023               18            10       30           7    Master    True   \n",
       "3024               10             7       29           4       PhD   False   \n",
       "\n",
       "      TrainingHoursPerYear JobSatisfaction  \n",
       "0                     33.5               5  \n",
       "1                     36.0               5  \n",
       "3                     23.0               5  \n",
       "4                     20.5               5  \n",
       "5                     35.0               5  \n",
       "...                    ...             ...  \n",
       "3020                  58.0               1  \n",
       "3021                  54.0               1  \n",
       "3022                  58.5               1  \n",
       "3023                  58.0               1  \n",
       "3024                  61.0               1  \n",
       "\n",
       "[2823 rows x 23 columns]"
      ]
     },
     "execution_count": 105,
     "metadata": {},
     "output_type": "execute_result"
    }
   ],
   "source": [
    "out7"
   ]
  },
  {
   "cell_type": "code",
   "execution_count": 106,
   "id": "e5e2cc5b-44ed-461e-b7be-5a5eddc9d284",
   "metadata": {},
   "outputs": [],
   "source": [
    "Q1= df[\"JobSatisfaction\"].quantile(0.25)\n",
    "Q3 = df[\"JobSatisfaction\"].quantile(0.75)\n",
    "IQR  = Q3-Q1\n",
    "\n",
    "Lower_Bound=Q1-1.5*IQR\n",
    "Upper_Bound = Q3-1.5*IQR"
   ]
  },
  {
   "cell_type": "code",
   "execution_count": 107,
   "id": "0013f1ea-64ec-46ce-81d6-54fba7579d27",
   "metadata": {},
   "outputs": [
    {
     "data": {
      "text/plain": [
       "np.float64(1.5)"
      ]
     },
     "execution_count": 107,
     "metadata": {},
     "output_type": "execute_result"
    }
   ],
   "source": [
    "Lower_Bound"
   ]
  },
  {
   "cell_type": "code",
   "execution_count": 108,
   "id": "bded16b5-8fed-4896-8cc6-17688189f85c",
   "metadata": {},
   "outputs": [
    {
     "data": {
      "text/plain": [
       "np.float64(2.5)"
      ]
     },
     "execution_count": 108,
     "metadata": {},
     "output_type": "execute_result"
    }
   ],
   "source": [
    "Upper_Bound"
   ]
  },
  {
   "cell_type": "code",
   "execution_count": 109,
   "id": "63df16e8-f3b9-421a-a867-7b031ec4c7ea",
   "metadata": {},
   "outputs": [],
   "source": [
    "out8=df[(df[\"JobSatisfaction\"]<Lower_Bound) | (df[\"JobSatisfaction\"]>Upper_Bound)]"
   ]
  },
  {
   "cell_type": "code",
   "execution_count": 110,
   "id": "a778a334-cc8b-4eec-8b9c-59d23565aaea",
   "metadata": {},
   "outputs": [
    {
     "data": {
      "text/html": [
       "<div>\n",
       "<style scoped>\n",
       "    .dataframe tbody tr th:only-of-type {\n",
       "        vertical-align: middle;\n",
       "    }\n",
       "\n",
       "    .dataframe tbody tr th {\n",
       "        vertical-align: top;\n",
       "    }\n",
       "\n",
       "    .dataframe thead th {\n",
       "        text-align: right;\n",
       "    }\n",
       "</style>\n",
       "<table border=\"1\" class=\"dataframe\">\n",
       "  <thead>\n",
       "    <tr style=\"text-align: right;\">\n",
       "      <th></th>\n",
       "      <th>EmpID</th>\n",
       "      <th>Gender</th>\n",
       "      <th>Age</th>\n",
       "      <th>MaritalStatus</th>\n",
       "      <th>JobLevel</th>\n",
       "      <th>Experience</th>\n",
       "      <th>Dept</th>\n",
       "      <th>EmpType</th>\n",
       "      <th>WLB</th>\n",
       "      <th>WorkEnv</th>\n",
       "      <th>...</th>\n",
       "      <th>SleepHours</th>\n",
       "      <th>CommuteMode</th>\n",
       "      <th>CommuteDistance</th>\n",
       "      <th>NumCompanies</th>\n",
       "      <th>TeamSize</th>\n",
       "      <th>NumReports</th>\n",
       "      <th>EduLevel</th>\n",
       "      <th>haveOT</th>\n",
       "      <th>TrainingHoursPerYear</th>\n",
       "      <th>JobSatisfaction</th>\n",
       "    </tr>\n",
       "  </thead>\n",
       "  <tbody>\n",
       "    <tr>\n",
       "      <th>0</th>\n",
       "      <td>6</td>\n",
       "      <td>Male</td>\n",
       "      <td>32</td>\n",
       "      <td>Married</td>\n",
       "      <td>Mid</td>\n",
       "      <td>7</td>\n",
       "      <td>IT</td>\n",
       "      <td>Full-Time</td>\n",
       "      <td>1</td>\n",
       "      <td>1</td>\n",
       "      <td>...</td>\n",
       "      <td>7.6</td>\n",
       "      <td>Car</td>\n",
       "      <td>20</td>\n",
       "      <td>3</td>\n",
       "      <td>12</td>\n",
       "      <td>0</td>\n",
       "      <td>Bachelor</td>\n",
       "      <td>True</td>\n",
       "      <td>33.5</td>\n",
       "      <td>5</td>\n",
       "    </tr>\n",
       "    <tr>\n",
       "      <th>1</th>\n",
       "      <td>11</td>\n",
       "      <td>Female</td>\n",
       "      <td>34</td>\n",
       "      <td>Married</td>\n",
       "      <td>Mid</td>\n",
       "      <td>12</td>\n",
       "      <td>Finance</td>\n",
       "      <td>Full-Time</td>\n",
       "      <td>1</td>\n",
       "      <td>1</td>\n",
       "      <td>...</td>\n",
       "      <td>7.9</td>\n",
       "      <td>Car</td>\n",
       "      <td>15</td>\n",
       "      <td>4</td>\n",
       "      <td>11</td>\n",
       "      <td>0</td>\n",
       "      <td>Bachelor</td>\n",
       "      <td>False</td>\n",
       "      <td>36.0</td>\n",
       "      <td>5</td>\n",
       "    </tr>\n",
       "    <tr>\n",
       "      <th>2</th>\n",
       "      <td>33</td>\n",
       "      <td>Female</td>\n",
       "      <td>23</td>\n",
       "      <td>Single</td>\n",
       "      <td>Intern/Fresher</td>\n",
       "      <td>1</td>\n",
       "      <td>Marketing</td>\n",
       "      <td>Full-Time</td>\n",
       "      <td>2</td>\n",
       "      <td>4</td>\n",
       "      <td>...</td>\n",
       "      <td>6.5</td>\n",
       "      <td>Motorbike</td>\n",
       "      <td>17</td>\n",
       "      <td>0</td>\n",
       "      <td>30</td>\n",
       "      <td>0</td>\n",
       "      <td>Bachelor</td>\n",
       "      <td>True</td>\n",
       "      <td>10.5</td>\n",
       "      <td>5</td>\n",
       "    </tr>\n",
       "    <tr>\n",
       "      <th>3</th>\n",
       "      <td>20</td>\n",
       "      <td>Female</td>\n",
       "      <td>29</td>\n",
       "      <td>Married</td>\n",
       "      <td>Junior</td>\n",
       "      <td>6</td>\n",
       "      <td>IT</td>\n",
       "      <td>Contract</td>\n",
       "      <td>2</td>\n",
       "      <td>2</td>\n",
       "      <td>...</td>\n",
       "      <td>7.5</td>\n",
       "      <td>Public Transport</td>\n",
       "      <td>13</td>\n",
       "      <td>2</td>\n",
       "      <td>9</td>\n",
       "      <td>0</td>\n",
       "      <td>Bachelor</td>\n",
       "      <td>True</td>\n",
       "      <td>23.0</td>\n",
       "      <td>5</td>\n",
       "    </tr>\n",
       "    <tr>\n",
       "      <th>4</th>\n",
       "      <td>28</td>\n",
       "      <td>Other</td>\n",
       "      <td>23</td>\n",
       "      <td>Single</td>\n",
       "      <td>Junior</td>\n",
       "      <td>1</td>\n",
       "      <td>Sales</td>\n",
       "      <td>Part-Time</td>\n",
       "      <td>3</td>\n",
       "      <td>1</td>\n",
       "      <td>...</td>\n",
       "      <td>4.9</td>\n",
       "      <td>Car</td>\n",
       "      <td>20</td>\n",
       "      <td>0</td>\n",
       "      <td>7</td>\n",
       "      <td>0</td>\n",
       "      <td>Bachelor</td>\n",
       "      <td>False</td>\n",
       "      <td>20.5</td>\n",
       "      <td>5</td>\n",
       "    </tr>\n",
       "    <tr>\n",
       "      <th>...</th>\n",
       "      <td>...</td>\n",
       "      <td>...</td>\n",
       "      <td>...</td>\n",
       "      <td>...</td>\n",
       "      <td>...</td>\n",
       "      <td>...</td>\n",
       "      <td>...</td>\n",
       "      <td>...</td>\n",
       "      <td>...</td>\n",
       "      <td>...</td>\n",
       "      <td>...</td>\n",
       "      <td>...</td>\n",
       "      <td>...</td>\n",
       "      <td>...</td>\n",
       "      <td>...</td>\n",
       "      <td>...</td>\n",
       "      <td>...</td>\n",
       "      <td>...</td>\n",
       "      <td>...</td>\n",
       "      <td>...</td>\n",
       "      <td>...</td>\n",
       "    </tr>\n",
       "    <tr>\n",
       "      <th>3020</th>\n",
       "      <td>2070</td>\n",
       "      <td>Male</td>\n",
       "      <td>47</td>\n",
       "      <td>Married</td>\n",
       "      <td>Lead</td>\n",
       "      <td>16</td>\n",
       "      <td>Marketing</td>\n",
       "      <td>Part-Time</td>\n",
       "      <td>1</td>\n",
       "      <td>3</td>\n",
       "      <td>...</td>\n",
       "      <td>6.8</td>\n",
       "      <td>Public Transport</td>\n",
       "      <td>15</td>\n",
       "      <td>8</td>\n",
       "      <td>28</td>\n",
       "      <td>8</td>\n",
       "      <td>Master</td>\n",
       "      <td>False</td>\n",
       "      <td>58.0</td>\n",
       "      <td>1</td>\n",
       "    </tr>\n",
       "    <tr>\n",
       "      <th>3021</th>\n",
       "      <td>2072</td>\n",
       "      <td>Female</td>\n",
       "      <td>47</td>\n",
       "      <td>Married</td>\n",
       "      <td>Lead</td>\n",
       "      <td>8</td>\n",
       "      <td>IT</td>\n",
       "      <td>Contract</td>\n",
       "      <td>3</td>\n",
       "      <td>1</td>\n",
       "      <td>...</td>\n",
       "      <td>6.9</td>\n",
       "      <td>Car</td>\n",
       "      <td>28</td>\n",
       "      <td>8</td>\n",
       "      <td>21</td>\n",
       "      <td>8</td>\n",
       "      <td>Master</td>\n",
       "      <td>True</td>\n",
       "      <td>54.0</td>\n",
       "      <td>1</td>\n",
       "    </tr>\n",
       "    <tr>\n",
       "      <th>3022</th>\n",
       "      <td>2145</td>\n",
       "      <td>Male</td>\n",
       "      <td>41</td>\n",
       "      <td>Married</td>\n",
       "      <td>Lead</td>\n",
       "      <td>17</td>\n",
       "      <td>IT</td>\n",
       "      <td>Full-Time</td>\n",
       "      <td>1</td>\n",
       "      <td>1</td>\n",
       "      <td>...</td>\n",
       "      <td>6.1</td>\n",
       "      <td>Public Transport</td>\n",
       "      <td>9</td>\n",
       "      <td>6</td>\n",
       "      <td>23</td>\n",
       "      <td>3</td>\n",
       "      <td>Master</td>\n",
       "      <td>True</td>\n",
       "      <td>58.5</td>\n",
       "      <td>1</td>\n",
       "    </tr>\n",
       "    <tr>\n",
       "      <th>3023</th>\n",
       "      <td>2168</td>\n",
       "      <td>Female</td>\n",
       "      <td>54</td>\n",
       "      <td>Married</td>\n",
       "      <td>Lead</td>\n",
       "      <td>16</td>\n",
       "      <td>IT</td>\n",
       "      <td>Full-Time</td>\n",
       "      <td>1</td>\n",
       "      <td>5</td>\n",
       "      <td>...</td>\n",
       "      <td>7.7</td>\n",
       "      <td>Public Transport</td>\n",
       "      <td>18</td>\n",
       "      <td>10</td>\n",
       "      <td>30</td>\n",
       "      <td>7</td>\n",
       "      <td>Master</td>\n",
       "      <td>True</td>\n",
       "      <td>58.0</td>\n",
       "      <td>1</td>\n",
       "    </tr>\n",
       "    <tr>\n",
       "      <th>3024</th>\n",
       "      <td>2183</td>\n",
       "      <td>Female</td>\n",
       "      <td>44</td>\n",
       "      <td>Married</td>\n",
       "      <td>Lead</td>\n",
       "      <td>22</td>\n",
       "      <td>Marketing</td>\n",
       "      <td>Full-Time</td>\n",
       "      <td>3</td>\n",
       "      <td>3</td>\n",
       "      <td>...</td>\n",
       "      <td>6.2</td>\n",
       "      <td>Car</td>\n",
       "      <td>10</td>\n",
       "      <td>7</td>\n",
       "      <td>29</td>\n",
       "      <td>4</td>\n",
       "      <td>PhD</td>\n",
       "      <td>False</td>\n",
       "      <td>61.0</td>\n",
       "      <td>1</td>\n",
       "    </tr>\n",
       "  </tbody>\n",
       "</table>\n",
       "<p>2748 rows × 23 columns</p>\n",
       "</div>"
      ],
      "text/plain": [
       "      EmpID  Gender  Age MaritalStatus        JobLevel  Experience       Dept  \\\n",
       "0         6    Male   32       Married             Mid           7         IT   \n",
       "1        11  Female   34       Married             Mid          12    Finance   \n",
       "2        33  Female   23        Single  Intern/Fresher           1  Marketing   \n",
       "3        20  Female   29       Married          Junior           6         IT   \n",
       "4        28   Other   23        Single          Junior           1      Sales   \n",
       "...     ...     ...  ...           ...             ...         ...        ...   \n",
       "3020   2070    Male   47       Married            Lead          16  Marketing   \n",
       "3021   2072  Female   47       Married            Lead           8         IT   \n",
       "3022   2145    Male   41       Married            Lead          17         IT   \n",
       "3023   2168  Female   54       Married            Lead          16         IT   \n",
       "3024   2183  Female   44       Married            Lead          22  Marketing   \n",
       "\n",
       "        EmpType  WLB  WorkEnv  ...  SleepHours       CommuteMode  \\\n",
       "0     Full-Time    1        1  ...         7.6               Car   \n",
       "1     Full-Time    1        1  ...         7.9               Car   \n",
       "2     Full-Time    2        4  ...         6.5         Motorbike   \n",
       "3      Contract    2        2  ...         7.5  Public Transport   \n",
       "4     Part-Time    3        1  ...         4.9               Car   \n",
       "...         ...  ...      ...  ...         ...               ...   \n",
       "3020  Part-Time    1        3  ...         6.8  Public Transport   \n",
       "3021   Contract    3        1  ...         6.9               Car   \n",
       "3022  Full-Time    1        1  ...         6.1  Public Transport   \n",
       "3023  Full-Time    1        5  ...         7.7  Public Transport   \n",
       "3024  Full-Time    3        3  ...         6.2               Car   \n",
       "\n",
       "      CommuteDistance  NumCompanies TeamSize  NumReports  EduLevel  haveOT  \\\n",
       "0                  20             3       12           0  Bachelor    True   \n",
       "1                  15             4       11           0  Bachelor   False   \n",
       "2                  17             0       30           0  Bachelor    True   \n",
       "3                  13             2        9           0  Bachelor    True   \n",
       "4                  20             0        7           0  Bachelor   False   \n",
       "...               ...           ...      ...         ...       ...     ...   \n",
       "3020               15             8       28           8    Master   False   \n",
       "3021               28             8       21           8    Master    True   \n",
       "3022                9             6       23           3    Master    True   \n",
       "3023               18            10       30           7    Master    True   \n",
       "3024               10             7       29           4       PhD   False   \n",
       "\n",
       "      TrainingHoursPerYear JobSatisfaction  \n",
       "0                     33.5               5  \n",
       "1                     36.0               5  \n",
       "2                     10.5               5  \n",
       "3                     23.0               5  \n",
       "4                     20.5               5  \n",
       "...                    ...             ...  \n",
       "3020                  58.0               1  \n",
       "3021                  54.0               1  \n",
       "3022                  58.5               1  \n",
       "3023                  58.0               1  \n",
       "3024                  61.0               1  \n",
       "\n",
       "[2748 rows x 23 columns]"
      ]
     },
     "execution_count": 110,
     "metadata": {},
     "output_type": "execute_result"
    }
   ],
   "source": [
    "out8"
   ]
  },
  {
   "cell_type": "code",
   "execution_count": 111,
   "id": "def694b0-ffce-4ba2-aa98-3fecf1357e92",
   "metadata": {},
   "outputs": [
    {
     "data": {
      "text/html": [
       "<div>\n",
       "<style scoped>\n",
       "    .dataframe tbody tr th:only-of-type {\n",
       "        vertical-align: middle;\n",
       "    }\n",
       "\n",
       "    .dataframe tbody tr th {\n",
       "        vertical-align: top;\n",
       "    }\n",
       "\n",
       "    .dataframe thead th {\n",
       "        text-align: right;\n",
       "    }\n",
       "</style>\n",
       "<table border=\"1\" class=\"dataframe\">\n",
       "  <thead>\n",
       "    <tr style=\"text-align: right;\">\n",
       "      <th></th>\n",
       "      <th>EmpID</th>\n",
       "      <th>Gender</th>\n",
       "      <th>Age</th>\n",
       "      <th>MaritalStatus</th>\n",
       "      <th>JobLevel</th>\n",
       "      <th>Experience</th>\n",
       "      <th>Dept</th>\n",
       "      <th>EmpType</th>\n",
       "      <th>WLB</th>\n",
       "      <th>WorkEnv</th>\n",
       "      <th>...</th>\n",
       "      <th>SleepHours</th>\n",
       "      <th>CommuteMode</th>\n",
       "      <th>CommuteDistance</th>\n",
       "      <th>NumCompanies</th>\n",
       "      <th>TeamSize</th>\n",
       "      <th>NumReports</th>\n",
       "      <th>EduLevel</th>\n",
       "      <th>haveOT</th>\n",
       "      <th>TrainingHoursPerYear</th>\n",
       "      <th>JobSatisfaction</th>\n",
       "    </tr>\n",
       "  </thead>\n",
       "  <tbody>\n",
       "    <tr>\n",
       "      <th>0</th>\n",
       "      <td>6</td>\n",
       "      <td>Male</td>\n",
       "      <td>32</td>\n",
       "      <td>Married</td>\n",
       "      <td>Mid</td>\n",
       "      <td>7</td>\n",
       "      <td>IT</td>\n",
       "      <td>Full-Time</td>\n",
       "      <td>1</td>\n",
       "      <td>1</td>\n",
       "      <td>...</td>\n",
       "      <td>7.6</td>\n",
       "      <td>Car</td>\n",
       "      <td>20</td>\n",
       "      <td>3</td>\n",
       "      <td>12</td>\n",
       "      <td>0</td>\n",
       "      <td>Bachelor</td>\n",
       "      <td>True</td>\n",
       "      <td>33.5</td>\n",
       "      <td>5</td>\n",
       "    </tr>\n",
       "    <tr>\n",
       "      <th>1</th>\n",
       "      <td>11</td>\n",
       "      <td>Female</td>\n",
       "      <td>34</td>\n",
       "      <td>Married</td>\n",
       "      <td>Mid</td>\n",
       "      <td>12</td>\n",
       "      <td>Finance</td>\n",
       "      <td>Full-Time</td>\n",
       "      <td>1</td>\n",
       "      <td>1</td>\n",
       "      <td>...</td>\n",
       "      <td>7.9</td>\n",
       "      <td>Car</td>\n",
       "      <td>15</td>\n",
       "      <td>4</td>\n",
       "      <td>11</td>\n",
       "      <td>0</td>\n",
       "      <td>Bachelor</td>\n",
       "      <td>False</td>\n",
       "      <td>36.0</td>\n",
       "      <td>5</td>\n",
       "    </tr>\n",
       "    <tr>\n",
       "      <th>2</th>\n",
       "      <td>33</td>\n",
       "      <td>Female</td>\n",
       "      <td>23</td>\n",
       "      <td>Single</td>\n",
       "      <td>Intern/Fresher</td>\n",
       "      <td>1</td>\n",
       "      <td>Marketing</td>\n",
       "      <td>Full-Time</td>\n",
       "      <td>2</td>\n",
       "      <td>4</td>\n",
       "      <td>...</td>\n",
       "      <td>6.5</td>\n",
       "      <td>Motorbike</td>\n",
       "      <td>17</td>\n",
       "      <td>0</td>\n",
       "      <td>30</td>\n",
       "      <td>0</td>\n",
       "      <td>Bachelor</td>\n",
       "      <td>True</td>\n",
       "      <td>10.5</td>\n",
       "      <td>5</td>\n",
       "    </tr>\n",
       "    <tr>\n",
       "      <th>3</th>\n",
       "      <td>20</td>\n",
       "      <td>Female</td>\n",
       "      <td>29</td>\n",
       "      <td>Married</td>\n",
       "      <td>Junior</td>\n",
       "      <td>6</td>\n",
       "      <td>IT</td>\n",
       "      <td>Contract</td>\n",
       "      <td>2</td>\n",
       "      <td>2</td>\n",
       "      <td>...</td>\n",
       "      <td>7.5</td>\n",
       "      <td>Public Transport</td>\n",
       "      <td>13</td>\n",
       "      <td>2</td>\n",
       "      <td>9</td>\n",
       "      <td>0</td>\n",
       "      <td>Bachelor</td>\n",
       "      <td>True</td>\n",
       "      <td>23.0</td>\n",
       "      <td>5</td>\n",
       "    </tr>\n",
       "    <tr>\n",
       "      <th>4</th>\n",
       "      <td>28</td>\n",
       "      <td>Other</td>\n",
       "      <td>23</td>\n",
       "      <td>Single</td>\n",
       "      <td>Junior</td>\n",
       "      <td>1</td>\n",
       "      <td>Sales</td>\n",
       "      <td>Part-Time</td>\n",
       "      <td>3</td>\n",
       "      <td>1</td>\n",
       "      <td>...</td>\n",
       "      <td>4.9</td>\n",
       "      <td>Car</td>\n",
       "      <td>20</td>\n",
       "      <td>0</td>\n",
       "      <td>7</td>\n",
       "      <td>0</td>\n",
       "      <td>Bachelor</td>\n",
       "      <td>False</td>\n",
       "      <td>20.5</td>\n",
       "      <td>5</td>\n",
       "    </tr>\n",
       "    <tr>\n",
       "      <th>...</th>\n",
       "      <td>...</td>\n",
       "      <td>...</td>\n",
       "      <td>...</td>\n",
       "      <td>...</td>\n",
       "      <td>...</td>\n",
       "      <td>...</td>\n",
       "      <td>...</td>\n",
       "      <td>...</td>\n",
       "      <td>...</td>\n",
       "      <td>...</td>\n",
       "      <td>...</td>\n",
       "      <td>...</td>\n",
       "      <td>...</td>\n",
       "      <td>...</td>\n",
       "      <td>...</td>\n",
       "      <td>...</td>\n",
       "      <td>...</td>\n",
       "      <td>...</td>\n",
       "      <td>...</td>\n",
       "      <td>...</td>\n",
       "      <td>...</td>\n",
       "    </tr>\n",
       "    <tr>\n",
       "      <th>3020</th>\n",
       "      <td>2070</td>\n",
       "      <td>Male</td>\n",
       "      <td>47</td>\n",
       "      <td>Married</td>\n",
       "      <td>Lead</td>\n",
       "      <td>16</td>\n",
       "      <td>Marketing</td>\n",
       "      <td>Part-Time</td>\n",
       "      <td>1</td>\n",
       "      <td>3</td>\n",
       "      <td>...</td>\n",
       "      <td>6.8</td>\n",
       "      <td>Public Transport</td>\n",
       "      <td>15</td>\n",
       "      <td>8</td>\n",
       "      <td>28</td>\n",
       "      <td>8</td>\n",
       "      <td>Master</td>\n",
       "      <td>False</td>\n",
       "      <td>58.0</td>\n",
       "      <td>1</td>\n",
       "    </tr>\n",
       "    <tr>\n",
       "      <th>3021</th>\n",
       "      <td>2072</td>\n",
       "      <td>Female</td>\n",
       "      <td>47</td>\n",
       "      <td>Married</td>\n",
       "      <td>Lead</td>\n",
       "      <td>8</td>\n",
       "      <td>IT</td>\n",
       "      <td>Contract</td>\n",
       "      <td>3</td>\n",
       "      <td>1</td>\n",
       "      <td>...</td>\n",
       "      <td>6.9</td>\n",
       "      <td>Car</td>\n",
       "      <td>28</td>\n",
       "      <td>8</td>\n",
       "      <td>21</td>\n",
       "      <td>8</td>\n",
       "      <td>Master</td>\n",
       "      <td>True</td>\n",
       "      <td>54.0</td>\n",
       "      <td>1</td>\n",
       "    </tr>\n",
       "    <tr>\n",
       "      <th>3022</th>\n",
       "      <td>2145</td>\n",
       "      <td>Male</td>\n",
       "      <td>41</td>\n",
       "      <td>Married</td>\n",
       "      <td>Lead</td>\n",
       "      <td>17</td>\n",
       "      <td>IT</td>\n",
       "      <td>Full-Time</td>\n",
       "      <td>1</td>\n",
       "      <td>1</td>\n",
       "      <td>...</td>\n",
       "      <td>6.1</td>\n",
       "      <td>Public Transport</td>\n",
       "      <td>9</td>\n",
       "      <td>6</td>\n",
       "      <td>23</td>\n",
       "      <td>3</td>\n",
       "      <td>Master</td>\n",
       "      <td>True</td>\n",
       "      <td>58.5</td>\n",
       "      <td>1</td>\n",
       "    </tr>\n",
       "    <tr>\n",
       "      <th>3023</th>\n",
       "      <td>2168</td>\n",
       "      <td>Female</td>\n",
       "      <td>54</td>\n",
       "      <td>Married</td>\n",
       "      <td>Lead</td>\n",
       "      <td>16</td>\n",
       "      <td>IT</td>\n",
       "      <td>Full-Time</td>\n",
       "      <td>1</td>\n",
       "      <td>5</td>\n",
       "      <td>...</td>\n",
       "      <td>7.7</td>\n",
       "      <td>Public Transport</td>\n",
       "      <td>18</td>\n",
       "      <td>10</td>\n",
       "      <td>30</td>\n",
       "      <td>7</td>\n",
       "      <td>Master</td>\n",
       "      <td>True</td>\n",
       "      <td>58.0</td>\n",
       "      <td>1</td>\n",
       "    </tr>\n",
       "    <tr>\n",
       "      <th>3024</th>\n",
       "      <td>2183</td>\n",
       "      <td>Female</td>\n",
       "      <td>44</td>\n",
       "      <td>Married</td>\n",
       "      <td>Lead</td>\n",
       "      <td>22</td>\n",
       "      <td>Marketing</td>\n",
       "      <td>Full-Time</td>\n",
       "      <td>3</td>\n",
       "      <td>3</td>\n",
       "      <td>...</td>\n",
       "      <td>6.2</td>\n",
       "      <td>Car</td>\n",
       "      <td>10</td>\n",
       "      <td>7</td>\n",
       "      <td>29</td>\n",
       "      <td>4</td>\n",
       "      <td>PhD</td>\n",
       "      <td>False</td>\n",
       "      <td>61.0</td>\n",
       "      <td>1</td>\n",
       "    </tr>\n",
       "  </tbody>\n",
       "</table>\n",
       "<p>3025 rows × 23 columns</p>\n",
       "</div>"
      ],
      "text/plain": [
       "      EmpID  Gender  Age MaritalStatus        JobLevel  Experience       Dept  \\\n",
       "0         6    Male   32       Married             Mid           7         IT   \n",
       "1        11  Female   34       Married             Mid          12    Finance   \n",
       "2        33  Female   23        Single  Intern/Fresher           1  Marketing   \n",
       "3        20  Female   29       Married          Junior           6         IT   \n",
       "4        28   Other   23        Single          Junior           1      Sales   \n",
       "...     ...     ...  ...           ...             ...         ...        ...   \n",
       "3020   2070    Male   47       Married            Lead          16  Marketing   \n",
       "3021   2072  Female   47       Married            Lead           8         IT   \n",
       "3022   2145    Male   41       Married            Lead          17         IT   \n",
       "3023   2168  Female   54       Married            Lead          16         IT   \n",
       "3024   2183  Female   44       Married            Lead          22  Marketing   \n",
       "\n",
       "        EmpType  WLB  WorkEnv  ...  SleepHours       CommuteMode  \\\n",
       "0     Full-Time    1        1  ...         7.6               Car   \n",
       "1     Full-Time    1        1  ...         7.9               Car   \n",
       "2     Full-Time    2        4  ...         6.5         Motorbike   \n",
       "3      Contract    2        2  ...         7.5  Public Transport   \n",
       "4     Part-Time    3        1  ...         4.9               Car   \n",
       "...         ...  ...      ...  ...         ...               ...   \n",
       "3020  Part-Time    1        3  ...         6.8  Public Transport   \n",
       "3021   Contract    3        1  ...         6.9               Car   \n",
       "3022  Full-Time    1        1  ...         6.1  Public Transport   \n",
       "3023  Full-Time    1        5  ...         7.7  Public Transport   \n",
       "3024  Full-Time    3        3  ...         6.2               Car   \n",
       "\n",
       "      CommuteDistance  NumCompanies TeamSize  NumReports  EduLevel  haveOT  \\\n",
       "0                  20             3       12           0  Bachelor    True   \n",
       "1                  15             4       11           0  Bachelor   False   \n",
       "2                  17             0       30           0  Bachelor    True   \n",
       "3                  13             2        9           0  Bachelor    True   \n",
       "4                  20             0        7           0  Bachelor   False   \n",
       "...               ...           ...      ...         ...       ...     ...   \n",
       "3020               15             8       28           8    Master   False   \n",
       "3021               28             8       21           8    Master    True   \n",
       "3022                9             6       23           3    Master    True   \n",
       "3023               18            10       30           7    Master    True   \n",
       "3024               10             7       29           4       PhD   False   \n",
       "\n",
       "      TrainingHoursPerYear JobSatisfaction  \n",
       "0                     33.5               5  \n",
       "1                     36.0               5  \n",
       "2                     10.5               5  \n",
       "3                     23.0               5  \n",
       "4                     20.5               5  \n",
       "...                    ...             ...  \n",
       "3020                  58.0               1  \n",
       "3021                  54.0               1  \n",
       "3022                  58.5               1  \n",
       "3023                  58.0               1  \n",
       "3024                  61.0               1  \n",
       "\n",
       "[3025 rows x 23 columns]"
      ]
     },
     "execution_count": 111,
     "metadata": {},
     "output_type": "execute_result"
    }
   ],
   "source": [
    "df"
   ]
  },
  {
   "cell_type": "code",
   "execution_count": 112,
   "id": "27e938bd-2173-45d1-a8a5-1a54c4019acb",
   "metadata": {},
   "outputs": [
    {
     "data": {
      "text/html": [
       "<div>\n",
       "<style scoped>\n",
       "    .dataframe tbody tr th:only-of-type {\n",
       "        vertical-align: middle;\n",
       "    }\n",
       "\n",
       "    .dataframe tbody tr th {\n",
       "        vertical-align: top;\n",
       "    }\n",
       "\n",
       "    .dataframe thead th {\n",
       "        text-align: right;\n",
       "    }\n",
       "</style>\n",
       "<table border=\"1\" class=\"dataframe\">\n",
       "  <thead>\n",
       "    <tr style=\"text-align: right;\">\n",
       "      <th></th>\n",
       "      <th>Age</th>\n",
       "      <th>Experience</th>\n",
       "      <th>PhysicalActivityHours</th>\n",
       "      <th>Workload</th>\n",
       "      <th>Stress</th>\n",
       "      <th>SleepHours</th>\n",
       "      <th>CommuteDistance</th>\n",
       "      <th>TrainingHoursPerYear</th>\n",
       "      <th>JobSatisfaction</th>\n",
       "    </tr>\n",
       "  </thead>\n",
       "  <tbody>\n",
       "    <tr>\n",
       "      <th>count</th>\n",
       "      <td>3025.000000</td>\n",
       "      <td>3025.000000</td>\n",
       "      <td>3025.000000</td>\n",
       "      <td>3025.000000</td>\n",
       "      <td>3025.000000</td>\n",
       "      <td>3025.000000</td>\n",
       "      <td>3025.000000</td>\n",
       "      <td>3025.000000</td>\n",
       "      <td>3025.000000</td>\n",
       "    </tr>\n",
       "    <tr>\n",
       "      <th>mean</th>\n",
       "      <td>35.741818</td>\n",
       "      <td>9.082645</td>\n",
       "      <td>2.029620</td>\n",
       "      <td>2.966612</td>\n",
       "      <td>1.736529</td>\n",
       "      <td>7.005983</td>\n",
       "      <td>13.473719</td>\n",
       "      <td>37.301653</td>\n",
       "      <td>3.386777</td>\n",
       "    </tr>\n",
       "    <tr>\n",
       "      <th>std</th>\n",
       "      <td>10.191833</td>\n",
       "      <td>7.073344</td>\n",
       "      <td>0.966014</td>\n",
       "      <td>1.401486</td>\n",
       "      <td>1.064242</td>\n",
       "      <td>1.002652</td>\n",
       "      <td>8.395249</td>\n",
       "      <td>13.569772</td>\n",
       "      <td>1.260599</td>\n",
       "    </tr>\n",
       "    <tr>\n",
       "      <th>min</th>\n",
       "      <td>22.000000</td>\n",
       "      <td>0.000000</td>\n",
       "      <td>0.000000</td>\n",
       "      <td>1.000000</td>\n",
       "      <td>1.000000</td>\n",
       "      <td>4.000000</td>\n",
       "      <td>1.000000</td>\n",
       "      <td>10.000000</td>\n",
       "      <td>1.000000</td>\n",
       "    </tr>\n",
       "    <tr>\n",
       "      <th>25%</th>\n",
       "      <td>27.000000</td>\n",
       "      <td>3.000000</td>\n",
       "      <td>1.300000</td>\n",
       "      <td>2.000000</td>\n",
       "      <td>1.000000</td>\n",
       "      <td>6.300000</td>\n",
       "      <td>6.000000</td>\n",
       "      <td>23.500000</td>\n",
       "      <td>3.000000</td>\n",
       "    </tr>\n",
       "    <tr>\n",
       "      <th>50%</th>\n",
       "      <td>34.000000</td>\n",
       "      <td>8.000000</td>\n",
       "      <td>2.000000</td>\n",
       "      <td>3.000000</td>\n",
       "      <td>1.000000</td>\n",
       "      <td>7.000000</td>\n",
       "      <td>13.000000</td>\n",
       "      <td>40.000000</td>\n",
       "      <td>4.000000</td>\n",
       "    </tr>\n",
       "    <tr>\n",
       "      <th>75%</th>\n",
       "      <td>43.000000</td>\n",
       "      <td>14.000000</td>\n",
       "      <td>2.700000</td>\n",
       "      <td>4.000000</td>\n",
       "      <td>2.000000</td>\n",
       "      <td>7.700000</td>\n",
       "      <td>21.000000</td>\n",
       "      <td>46.500000</td>\n",
       "      <td>4.000000</td>\n",
       "    </tr>\n",
       "    <tr>\n",
       "      <th>max</th>\n",
       "      <td>60.000000</td>\n",
       "      <td>29.000000</td>\n",
       "      <td>5.000000</td>\n",
       "      <td>5.000000</td>\n",
       "      <td>5.000000</td>\n",
       "      <td>10.000000</td>\n",
       "      <td>29.000000</td>\n",
       "      <td>64.500000</td>\n",
       "      <td>5.000000</td>\n",
       "    </tr>\n",
       "  </tbody>\n",
       "</table>\n",
       "</div>"
      ],
      "text/plain": [
       "               Age   Experience  PhysicalActivityHours     Workload  \\\n",
       "count  3025.000000  3025.000000            3025.000000  3025.000000   \n",
       "mean     35.741818     9.082645               2.029620     2.966612   \n",
       "std      10.191833     7.073344               0.966014     1.401486   \n",
       "min      22.000000     0.000000               0.000000     1.000000   \n",
       "25%      27.000000     3.000000               1.300000     2.000000   \n",
       "50%      34.000000     8.000000               2.000000     3.000000   \n",
       "75%      43.000000    14.000000               2.700000     4.000000   \n",
       "max      60.000000    29.000000               5.000000     5.000000   \n",
       "\n",
       "            Stress   SleepHours  CommuteDistance  TrainingHoursPerYear  \\\n",
       "count  3025.000000  3025.000000      3025.000000           3025.000000   \n",
       "mean      1.736529     7.005983        13.473719             37.301653   \n",
       "std       1.064242     1.002652         8.395249             13.569772   \n",
       "min       1.000000     4.000000         1.000000             10.000000   \n",
       "25%       1.000000     6.300000         6.000000             23.500000   \n",
       "50%       1.000000     7.000000        13.000000             40.000000   \n",
       "75%       2.000000     7.700000        21.000000             46.500000   \n",
       "max       5.000000    10.000000        29.000000             64.500000   \n",
       "\n",
       "       JobSatisfaction  \n",
       "count      3025.000000  \n",
       "mean          3.386777  \n",
       "std           1.260599  \n",
       "min           1.000000  \n",
       "25%           3.000000  \n",
       "50%           4.000000  \n",
       "75%           4.000000  \n",
       "max           5.000000  "
      ]
     },
     "execution_count": 112,
     "metadata": {},
     "output_type": "execute_result"
    }
   ],
   "source": [
    " df[continuous_variables].describe()"
   ]
  },
  {
   "cell_type": "code",
   "execution_count": 113,
   "id": "501d7c4d-c190-4052-bfa5-3ff5944c1aa2",
   "metadata": {},
   "outputs": [
    {
     "data": {
      "text/plain": [
       "Age                      34.0\n",
       "Experience                8.0\n",
       "PhysicalActivityHours     2.0\n",
       "Workload                  3.0\n",
       "Stress                    1.0\n",
       "SleepHours                7.0\n",
       "CommuteDistance          13.0\n",
       "TrainingHoursPerYear     40.0\n",
       "JobSatisfaction           4.0\n",
       "dtype: float64"
      ]
     },
     "execution_count": 113,
     "metadata": {},
     "output_type": "execute_result"
    }
   ],
   "source": [
    "df[continuous_variables].median()"
   ]
  },
  {
   "cell_type": "code",
   "execution_count": 114,
   "id": "886771b4-36ae-45e2-9cec-26a7076d3e21",
   "metadata": {},
   "outputs": [
    {
     "data": {
      "text/html": [
       "<div>\n",
       "<style scoped>\n",
       "    .dataframe tbody tr th:only-of-type {\n",
       "        vertical-align: middle;\n",
       "    }\n",
       "\n",
       "    .dataframe tbody tr th {\n",
       "        vertical-align: top;\n",
       "    }\n",
       "\n",
       "    .dataframe thead th {\n",
       "        text-align: right;\n",
       "    }\n",
       "</style>\n",
       "<table border=\"1\" class=\"dataframe\">\n",
       "  <thead>\n",
       "    <tr style=\"text-align: right;\">\n",
       "      <th></th>\n",
       "      <th>TeamSize</th>\n",
       "      <th>NumReports</th>\n",
       "      <th>TeamSize</th>\n",
       "    </tr>\n",
       "  </thead>\n",
       "  <tbody>\n",
       "    <tr>\n",
       "      <th>count</th>\n",
       "      <td>3025.000000</td>\n",
       "      <td>3025.000000</td>\n",
       "      <td>3025.000000</td>\n",
       "    </tr>\n",
       "    <tr>\n",
       "      <th>mean</th>\n",
       "      <td>16.516033</td>\n",
       "      <td>2.383140</td>\n",
       "      <td>16.516033</td>\n",
       "    </tr>\n",
       "    <tr>\n",
       "      <th>std</th>\n",
       "      <td>6.638419</td>\n",
       "      <td>3.058131</td>\n",
       "      <td>6.638419</td>\n",
       "    </tr>\n",
       "    <tr>\n",
       "      <th>min</th>\n",
       "      <td>5.000000</td>\n",
       "      <td>0.000000</td>\n",
       "      <td>5.000000</td>\n",
       "    </tr>\n",
       "    <tr>\n",
       "      <th>25%</th>\n",
       "      <td>11.000000</td>\n",
       "      <td>0.000000</td>\n",
       "      <td>11.000000</td>\n",
       "    </tr>\n",
       "    <tr>\n",
       "      <th>50%</th>\n",
       "      <td>16.000000</td>\n",
       "      <td>0.000000</td>\n",
       "      <td>16.000000</td>\n",
       "    </tr>\n",
       "    <tr>\n",
       "      <th>75%</th>\n",
       "      <td>22.000000</td>\n",
       "      <td>5.000000</td>\n",
       "      <td>22.000000</td>\n",
       "    </tr>\n",
       "    <tr>\n",
       "      <th>max</th>\n",
       "      <td>30.000000</td>\n",
       "      <td>9.000000</td>\n",
       "      <td>30.000000</td>\n",
       "    </tr>\n",
       "  </tbody>\n",
       "</table>\n",
       "</div>"
      ],
      "text/plain": [
       "          TeamSize   NumReports     TeamSize\n",
       "count  3025.000000  3025.000000  3025.000000\n",
       "mean     16.516033     2.383140    16.516033\n",
       "std       6.638419     3.058131     6.638419\n",
       "min       5.000000     0.000000     5.000000\n",
       "25%      11.000000     0.000000    11.000000\n",
       "50%      16.000000     0.000000    16.000000\n",
       "75%      22.000000     5.000000    22.000000\n",
       "max      30.000000     9.000000    30.000000"
      ]
     },
     "execution_count": 114,
     "metadata": {},
     "output_type": "execute_result"
    }
   ],
   "source": [
    "df[count_variables].describe()"
   ]
  },
  {
   "cell_type": "code",
   "execution_count": 115,
   "id": "d729868a-f3ea-4731-96a1-11f89531b99e",
   "metadata": {},
   "outputs": [
    {
     "data": {
      "text/plain": [
       "TeamSize      16.0\n",
       "NumReports     0.0\n",
       "TeamSize      16.0\n",
       "dtype: float64"
      ]
     },
     "execution_count": 115,
     "metadata": {},
     "output_type": "execute_result"
    }
   ],
   "source": [
    "df[count_variables].median()"
   ]
  },
  {
   "cell_type": "code",
   "execution_count": 116,
   "id": "80d83bdc-2769-485c-bcd2-ed808cb46f66",
   "metadata": {},
   "outputs": [
    {
     "data": {
      "text/html": [
       "<div>\n",
       "<style scoped>\n",
       "    .dataframe tbody tr th:only-of-type {\n",
       "        vertical-align: middle;\n",
       "    }\n",
       "\n",
       "    .dataframe tbody tr th {\n",
       "        vertical-align: top;\n",
       "    }\n",
       "\n",
       "    .dataframe thead th {\n",
       "        text-align: right;\n",
       "    }\n",
       "</style>\n",
       "<table border=\"1\" class=\"dataframe\">\n",
       "  <thead>\n",
       "    <tr style=\"text-align: right;\">\n",
       "      <th></th>\n",
       "      <th>Gender</th>\n",
       "      <th>MaritalStatus</th>\n",
       "      <th>JobLevel</th>\n",
       "      <th>Dept</th>\n",
       "      <th>EmpType</th>\n",
       "      <th>CommuteMode</th>\n",
       "      <th>EduLevel</th>\n",
       "      <th>haveOT</th>\n",
       "    </tr>\n",
       "  </thead>\n",
       "  <tbody>\n",
       "    <tr>\n",
       "      <th>count</th>\n",
       "      <td>3025</td>\n",
       "      <td>3025</td>\n",
       "      <td>3025</td>\n",
       "      <td>3025</td>\n",
       "      <td>3025</td>\n",
       "      <td>3025</td>\n",
       "      <td>3025</td>\n",
       "      <td>3025</td>\n",
       "    </tr>\n",
       "    <tr>\n",
       "      <th>unique</th>\n",
       "      <td>3</td>\n",
       "      <td>4</td>\n",
       "      <td>5</td>\n",
       "      <td>8</td>\n",
       "      <td>3</td>\n",
       "      <td>5</td>\n",
       "      <td>4</td>\n",
       "      <td>2</td>\n",
       "    </tr>\n",
       "    <tr>\n",
       "      <th>top</th>\n",
       "      <td>Male</td>\n",
       "      <td>Single</td>\n",
       "      <td>Senior</td>\n",
       "      <td>IT</td>\n",
       "      <td>Full-Time</td>\n",
       "      <td>Car</td>\n",
       "      <td>Bachelor</td>\n",
       "      <td>False</td>\n",
       "    </tr>\n",
       "    <tr>\n",
       "      <th>freq</th>\n",
       "      <td>1528</td>\n",
       "      <td>1437</td>\n",
       "      <td>1069</td>\n",
       "      <td>774</td>\n",
       "      <td>2077</td>\n",
       "      <td>1087</td>\n",
       "      <td>2300</td>\n",
       "      <td>2089</td>\n",
       "    </tr>\n",
       "  </tbody>\n",
       "</table>\n",
       "</div>"
      ],
      "text/plain": [
       "       Gender MaritalStatus JobLevel  Dept    EmpType CommuteMode  EduLevel  \\\n",
       "count    3025          3025     3025  3025       3025        3025      3025   \n",
       "unique      3             4        5     8          3           5         4   \n",
       "top      Male        Single   Senior    IT  Full-Time         Car  Bachelor   \n",
       "freq     1528          1437     1069   774       2077        1087      2300   \n",
       "\n",
       "       haveOT  \n",
       "count    3025  \n",
       "unique      2  \n",
       "top     False  \n",
       "freq     2089  "
      ]
     },
     "execution_count": 116,
     "metadata": {},
     "output_type": "execute_result"
    }
   ],
   "source": [
    "df[categorical_variables].describe()"
   ]
  },
  {
   "cell_type": "code",
   "execution_count": 117,
   "id": "a8a4a06f-88e6-48be-b03a-3d750613b945",
   "metadata": {},
   "outputs": [
    {
     "data": {
      "text/html": [
       "<div>\n",
       "<style scoped>\n",
       "    .dataframe tbody tr th:only-of-type {\n",
       "        vertical-align: middle;\n",
       "    }\n",
       "\n",
       "    .dataframe tbody tr th {\n",
       "        vertical-align: top;\n",
       "    }\n",
       "\n",
       "    .dataframe thead th {\n",
       "        text-align: right;\n",
       "    }\n",
       "</style>\n",
       "<table border=\"1\" class=\"dataframe\">\n",
       "  <thead>\n",
       "    <tr style=\"text-align: right;\">\n",
       "      <th></th>\n",
       "      <th>EmpID</th>\n",
       "      <th>Gender</th>\n",
       "      <th>Age</th>\n",
       "      <th>MaritalStatus</th>\n",
       "      <th>JobLevel</th>\n",
       "      <th>Experience</th>\n",
       "      <th>Dept</th>\n",
       "      <th>EmpType</th>\n",
       "      <th>WLB</th>\n",
       "      <th>WorkEnv</th>\n",
       "      <th>...</th>\n",
       "      <th>SleepHours</th>\n",
       "      <th>CommuteMode</th>\n",
       "      <th>CommuteDistance</th>\n",
       "      <th>NumCompanies</th>\n",
       "      <th>TeamSize</th>\n",
       "      <th>NumReports</th>\n",
       "      <th>EduLevel</th>\n",
       "      <th>haveOT</th>\n",
       "      <th>TrainingHoursPerYear</th>\n",
       "      <th>JobSatisfaction</th>\n",
       "    </tr>\n",
       "  </thead>\n",
       "  <tbody>\n",
       "    <tr>\n",
       "      <th>0</th>\n",
       "      <td>6</td>\n",
       "      <td>Male</td>\n",
       "      <td>32</td>\n",
       "      <td>Married</td>\n",
       "      <td>Mid</td>\n",
       "      <td>7</td>\n",
       "      <td>IT</td>\n",
       "      <td>Full-Time</td>\n",
       "      <td>1</td>\n",
       "      <td>1</td>\n",
       "      <td>...</td>\n",
       "      <td>7.6</td>\n",
       "      <td>Car</td>\n",
       "      <td>20</td>\n",
       "      <td>3</td>\n",
       "      <td>12</td>\n",
       "      <td>0</td>\n",
       "      <td>Bachelor</td>\n",
       "      <td>True</td>\n",
       "      <td>33.5</td>\n",
       "      <td>5</td>\n",
       "    </tr>\n",
       "    <tr>\n",
       "      <th>1</th>\n",
       "      <td>11</td>\n",
       "      <td>Female</td>\n",
       "      <td>34</td>\n",
       "      <td>Married</td>\n",
       "      <td>Mid</td>\n",
       "      <td>12</td>\n",
       "      <td>Finance</td>\n",
       "      <td>Full-Time</td>\n",
       "      <td>1</td>\n",
       "      <td>1</td>\n",
       "      <td>...</td>\n",
       "      <td>7.9</td>\n",
       "      <td>Car</td>\n",
       "      <td>15</td>\n",
       "      <td>4</td>\n",
       "      <td>11</td>\n",
       "      <td>0</td>\n",
       "      <td>Bachelor</td>\n",
       "      <td>False</td>\n",
       "      <td>36.0</td>\n",
       "      <td>5</td>\n",
       "    </tr>\n",
       "    <tr>\n",
       "      <th>2</th>\n",
       "      <td>33</td>\n",
       "      <td>Female</td>\n",
       "      <td>23</td>\n",
       "      <td>Single</td>\n",
       "      <td>Intern/Fresher</td>\n",
       "      <td>1</td>\n",
       "      <td>Marketing</td>\n",
       "      <td>Full-Time</td>\n",
       "      <td>2</td>\n",
       "      <td>4</td>\n",
       "      <td>...</td>\n",
       "      <td>6.5</td>\n",
       "      <td>Motorbike</td>\n",
       "      <td>17</td>\n",
       "      <td>0</td>\n",
       "      <td>30</td>\n",
       "      <td>0</td>\n",
       "      <td>Bachelor</td>\n",
       "      <td>True</td>\n",
       "      <td>10.5</td>\n",
       "      <td>5</td>\n",
       "    </tr>\n",
       "    <tr>\n",
       "      <th>3</th>\n",
       "      <td>20</td>\n",
       "      <td>Female</td>\n",
       "      <td>29</td>\n",
       "      <td>Married</td>\n",
       "      <td>Junior</td>\n",
       "      <td>6</td>\n",
       "      <td>IT</td>\n",
       "      <td>Contract</td>\n",
       "      <td>2</td>\n",
       "      <td>2</td>\n",
       "      <td>...</td>\n",
       "      <td>7.5</td>\n",
       "      <td>Public Transport</td>\n",
       "      <td>13</td>\n",
       "      <td>2</td>\n",
       "      <td>9</td>\n",
       "      <td>0</td>\n",
       "      <td>Bachelor</td>\n",
       "      <td>True</td>\n",
       "      <td>23.0</td>\n",
       "      <td>5</td>\n",
       "    </tr>\n",
       "    <tr>\n",
       "      <th>4</th>\n",
       "      <td>28</td>\n",
       "      <td>Other</td>\n",
       "      <td>23</td>\n",
       "      <td>Single</td>\n",
       "      <td>Junior</td>\n",
       "      <td>1</td>\n",
       "      <td>Sales</td>\n",
       "      <td>Part-Time</td>\n",
       "      <td>3</td>\n",
       "      <td>1</td>\n",
       "      <td>...</td>\n",
       "      <td>4.9</td>\n",
       "      <td>Car</td>\n",
       "      <td>20</td>\n",
       "      <td>0</td>\n",
       "      <td>7</td>\n",
       "      <td>0</td>\n",
       "      <td>Bachelor</td>\n",
       "      <td>False</td>\n",
       "      <td>20.5</td>\n",
       "      <td>5</td>\n",
       "    </tr>\n",
       "    <tr>\n",
       "      <th>...</th>\n",
       "      <td>...</td>\n",
       "      <td>...</td>\n",
       "      <td>...</td>\n",
       "      <td>...</td>\n",
       "      <td>...</td>\n",
       "      <td>...</td>\n",
       "      <td>...</td>\n",
       "      <td>...</td>\n",
       "      <td>...</td>\n",
       "      <td>...</td>\n",
       "      <td>...</td>\n",
       "      <td>...</td>\n",
       "      <td>...</td>\n",
       "      <td>...</td>\n",
       "      <td>...</td>\n",
       "      <td>...</td>\n",
       "      <td>...</td>\n",
       "      <td>...</td>\n",
       "      <td>...</td>\n",
       "      <td>...</td>\n",
       "      <td>...</td>\n",
       "    </tr>\n",
       "    <tr>\n",
       "      <th>3020</th>\n",
       "      <td>2070</td>\n",
       "      <td>Male</td>\n",
       "      <td>47</td>\n",
       "      <td>Married</td>\n",
       "      <td>Lead</td>\n",
       "      <td>16</td>\n",
       "      <td>Marketing</td>\n",
       "      <td>Part-Time</td>\n",
       "      <td>1</td>\n",
       "      <td>3</td>\n",
       "      <td>...</td>\n",
       "      <td>6.8</td>\n",
       "      <td>Public Transport</td>\n",
       "      <td>15</td>\n",
       "      <td>8</td>\n",
       "      <td>28</td>\n",
       "      <td>8</td>\n",
       "      <td>Master</td>\n",
       "      <td>False</td>\n",
       "      <td>58.0</td>\n",
       "      <td>1</td>\n",
       "    </tr>\n",
       "    <tr>\n",
       "      <th>3021</th>\n",
       "      <td>2072</td>\n",
       "      <td>Female</td>\n",
       "      <td>47</td>\n",
       "      <td>Married</td>\n",
       "      <td>Lead</td>\n",
       "      <td>8</td>\n",
       "      <td>IT</td>\n",
       "      <td>Contract</td>\n",
       "      <td>3</td>\n",
       "      <td>1</td>\n",
       "      <td>...</td>\n",
       "      <td>6.9</td>\n",
       "      <td>Car</td>\n",
       "      <td>28</td>\n",
       "      <td>8</td>\n",
       "      <td>21</td>\n",
       "      <td>8</td>\n",
       "      <td>Master</td>\n",
       "      <td>True</td>\n",
       "      <td>54.0</td>\n",
       "      <td>1</td>\n",
       "    </tr>\n",
       "    <tr>\n",
       "      <th>3022</th>\n",
       "      <td>2145</td>\n",
       "      <td>Male</td>\n",
       "      <td>41</td>\n",
       "      <td>Married</td>\n",
       "      <td>Lead</td>\n",
       "      <td>17</td>\n",
       "      <td>IT</td>\n",
       "      <td>Full-Time</td>\n",
       "      <td>1</td>\n",
       "      <td>1</td>\n",
       "      <td>...</td>\n",
       "      <td>6.1</td>\n",
       "      <td>Public Transport</td>\n",
       "      <td>9</td>\n",
       "      <td>6</td>\n",
       "      <td>23</td>\n",
       "      <td>3</td>\n",
       "      <td>Master</td>\n",
       "      <td>True</td>\n",
       "      <td>58.5</td>\n",
       "      <td>1</td>\n",
       "    </tr>\n",
       "    <tr>\n",
       "      <th>3023</th>\n",
       "      <td>2168</td>\n",
       "      <td>Female</td>\n",
       "      <td>54</td>\n",
       "      <td>Married</td>\n",
       "      <td>Lead</td>\n",
       "      <td>16</td>\n",
       "      <td>IT</td>\n",
       "      <td>Full-Time</td>\n",
       "      <td>1</td>\n",
       "      <td>5</td>\n",
       "      <td>...</td>\n",
       "      <td>7.7</td>\n",
       "      <td>Public Transport</td>\n",
       "      <td>18</td>\n",
       "      <td>10</td>\n",
       "      <td>30</td>\n",
       "      <td>7</td>\n",
       "      <td>Master</td>\n",
       "      <td>True</td>\n",
       "      <td>58.0</td>\n",
       "      <td>1</td>\n",
       "    </tr>\n",
       "    <tr>\n",
       "      <th>3024</th>\n",
       "      <td>2183</td>\n",
       "      <td>Female</td>\n",
       "      <td>44</td>\n",
       "      <td>Married</td>\n",
       "      <td>Lead</td>\n",
       "      <td>22</td>\n",
       "      <td>Marketing</td>\n",
       "      <td>Full-Time</td>\n",
       "      <td>3</td>\n",
       "      <td>3</td>\n",
       "      <td>...</td>\n",
       "      <td>6.2</td>\n",
       "      <td>Car</td>\n",
       "      <td>10</td>\n",
       "      <td>7</td>\n",
       "      <td>29</td>\n",
       "      <td>4</td>\n",
       "      <td>PhD</td>\n",
       "      <td>False</td>\n",
       "      <td>61.0</td>\n",
       "      <td>1</td>\n",
       "    </tr>\n",
       "  </tbody>\n",
       "</table>\n",
       "<p>3025 rows × 23 columns</p>\n",
       "</div>"
      ],
      "text/plain": [
       "      EmpID  Gender  Age MaritalStatus        JobLevel  Experience       Dept  \\\n",
       "0         6    Male   32       Married             Mid           7         IT   \n",
       "1        11  Female   34       Married             Mid          12    Finance   \n",
       "2        33  Female   23        Single  Intern/Fresher           1  Marketing   \n",
       "3        20  Female   29       Married          Junior           6         IT   \n",
       "4        28   Other   23        Single          Junior           1      Sales   \n",
       "...     ...     ...  ...           ...             ...         ...        ...   \n",
       "3020   2070    Male   47       Married            Lead          16  Marketing   \n",
       "3021   2072  Female   47       Married            Lead           8         IT   \n",
       "3022   2145    Male   41       Married            Lead          17         IT   \n",
       "3023   2168  Female   54       Married            Lead          16         IT   \n",
       "3024   2183  Female   44       Married            Lead          22  Marketing   \n",
       "\n",
       "        EmpType  WLB  WorkEnv  ...  SleepHours       CommuteMode  \\\n",
       "0     Full-Time    1        1  ...         7.6               Car   \n",
       "1     Full-Time    1        1  ...         7.9               Car   \n",
       "2     Full-Time    2        4  ...         6.5         Motorbike   \n",
       "3      Contract    2        2  ...         7.5  Public Transport   \n",
       "4     Part-Time    3        1  ...         4.9               Car   \n",
       "...         ...  ...      ...  ...         ...               ...   \n",
       "3020  Part-Time    1        3  ...         6.8  Public Transport   \n",
       "3021   Contract    3        1  ...         6.9               Car   \n",
       "3022  Full-Time    1        1  ...         6.1  Public Transport   \n",
       "3023  Full-Time    1        5  ...         7.7  Public Transport   \n",
       "3024  Full-Time    3        3  ...         6.2               Car   \n",
       "\n",
       "      CommuteDistance  NumCompanies TeamSize  NumReports  EduLevel  haveOT  \\\n",
       "0                  20             3       12           0  Bachelor    True   \n",
       "1                  15             4       11           0  Bachelor   False   \n",
       "2                  17             0       30           0  Bachelor    True   \n",
       "3                  13             2        9           0  Bachelor    True   \n",
       "4                  20             0        7           0  Bachelor   False   \n",
       "...               ...           ...      ...         ...       ...     ...   \n",
       "3020               15             8       28           8    Master   False   \n",
       "3021               28             8       21           8    Master    True   \n",
       "3022                9             6       23           3    Master    True   \n",
       "3023               18            10       30           7    Master    True   \n",
       "3024               10             7       29           4       PhD   False   \n",
       "\n",
       "      TrainingHoursPerYear JobSatisfaction  \n",
       "0                     33.5               5  \n",
       "1                     36.0               5  \n",
       "2                     10.5               5  \n",
       "3                     23.0               5  \n",
       "4                     20.5               5  \n",
       "...                    ...             ...  \n",
       "3020                  58.0               1  \n",
       "3021                  54.0               1  \n",
       "3022                  58.5               1  \n",
       "3023                  58.0               1  \n",
       "3024                  61.0               1  \n",
       "\n",
       "[3025 rows x 23 columns]"
      ]
     },
     "execution_count": 117,
     "metadata": {},
     "output_type": "execute_result"
    }
   ],
   "source": [
    "df\n"
   ]
  },
  {
   "cell_type": "code",
   "execution_count": 118,
   "id": "37c730f5-2a61-4b97-bd23-32f2d1b5fed0",
   "metadata": {},
   "outputs": [
    {
     "data": {
      "text/plain": [
       "array(['IT', 'Finance', 'Marketing', 'Sales', 'Operations',\n",
       "       'Customer Service', 'Legal', 'HR'], dtype=object)"
      ]
     },
     "execution_count": 118,
     "metadata": {},
     "output_type": "execute_result"
    }
   ],
   "source": [
    "df[\"Dept\"].unique()"
   ]
  },
  {
   "cell_type": "code",
   "execution_count": 119,
   "id": "82f0b75c-71f2-4bf0-8ed0-bf6b390885fb",
   "metadata": {},
   "outputs": [
    {
     "data": {
      "text/plain": [
       "EmpID                    0\n",
       "Gender                   0\n",
       "Age                      0\n",
       "MaritalStatus            0\n",
       "JobLevel                 0\n",
       "Experience               0\n",
       "Dept                     0\n",
       "EmpType                  0\n",
       "WLB                      0\n",
       "WorkEnv                  0\n",
       "PhysicalActivityHours    0\n",
       "Workload                 0\n",
       "Stress                   0\n",
       "SleepHours               0\n",
       "CommuteMode              0\n",
       "CommuteDistance          0\n",
       "NumCompanies             0\n",
       "TeamSize                 0\n",
       "NumReports               0\n",
       "EduLevel                 0\n",
       "haveOT                   0\n",
       "TrainingHoursPerYear     0\n",
       "JobSatisfaction          0\n",
       "dtype: int64"
      ]
     },
     "execution_count": 119,
     "metadata": {},
     "output_type": "execute_result"
    }
   ],
   "source": [
    "df.isnull().sum()"
   ]
  },
  {
   "cell_type": "code",
   "execution_count": 120,
   "id": "7dccbb24-e2f5-43f7-a394-94152ea6ab0e",
   "metadata": {},
   "outputs": [
    {
     "data": {
      "text/plain": [
       "np.int64(0)"
      ]
     },
     "execution_count": 120,
     "metadata": {},
     "output_type": "execute_result"
    }
   ],
   "source": [
    "df.duplicated().sum()"
   ]
  },
  {
   "cell_type": "markdown",
   "id": "12a57389-8bd7-446e-8bed-469fd36cfe4d",
   "metadata": {},
   "source": [
    "**Data Cleaning**"
   ]
  },
  {
   "cell_type": "markdown",
   "id": "1bcddbc5-2597-45d8-8590-70c990565b45",
   "metadata": {},
   "source": [
    "**Droping columns**"
   ]
  },
  {
   "cell_type": "code",
   "execution_count": 121,
   "id": "2626d4b2-2f7a-40ae-8b1c-582a05068f80",
   "metadata": {},
   "outputs": [],
   "source": [
    "df=df.drop([\"EmpID\",\"Gender\",\"Age\",\"MaritalStatus\",\"EduLevel\",\"EmpType\",\"WLB\",\"CommuteMode\",\"CommuteDistance\"], axis=1)"
   ]
  },
  {
   "cell_type": "code",
   "execution_count": 122,
   "id": "116f1b7a-e9c5-4c65-8410-e0b0178e78f5",
   "metadata": {},
   "outputs": [
    {
     "data": {
      "text/html": [
       "<div>\n",
       "<style scoped>\n",
       "    .dataframe tbody tr th:only-of-type {\n",
       "        vertical-align: middle;\n",
       "    }\n",
       "\n",
       "    .dataframe tbody tr th {\n",
       "        vertical-align: top;\n",
       "    }\n",
       "\n",
       "    .dataframe thead th {\n",
       "        text-align: right;\n",
       "    }\n",
       "</style>\n",
       "<table border=\"1\" class=\"dataframe\">\n",
       "  <thead>\n",
       "    <tr style=\"text-align: right;\">\n",
       "      <th></th>\n",
       "      <th>JobLevel</th>\n",
       "      <th>Experience</th>\n",
       "      <th>Dept</th>\n",
       "      <th>WorkEnv</th>\n",
       "      <th>PhysicalActivityHours</th>\n",
       "      <th>Workload</th>\n",
       "      <th>Stress</th>\n",
       "      <th>SleepHours</th>\n",
       "      <th>NumCompanies</th>\n",
       "      <th>TeamSize</th>\n",
       "      <th>NumReports</th>\n",
       "      <th>haveOT</th>\n",
       "      <th>TrainingHoursPerYear</th>\n",
       "      <th>JobSatisfaction</th>\n",
       "    </tr>\n",
       "  </thead>\n",
       "  <tbody>\n",
       "    <tr>\n",
       "      <th>0</th>\n",
       "      <td>Mid</td>\n",
       "      <td>7</td>\n",
       "      <td>IT</td>\n",
       "      <td>1</td>\n",
       "      <td>2.5</td>\n",
       "      <td>2</td>\n",
       "      <td>1</td>\n",
       "      <td>7.6</td>\n",
       "      <td>3</td>\n",
       "      <td>12</td>\n",
       "      <td>0</td>\n",
       "      <td>True</td>\n",
       "      <td>33.5</td>\n",
       "      <td>5</td>\n",
       "    </tr>\n",
       "    <tr>\n",
       "      <th>1</th>\n",
       "      <td>Mid</td>\n",
       "      <td>12</td>\n",
       "      <td>Finance</td>\n",
       "      <td>1</td>\n",
       "      <td>1.8</td>\n",
       "      <td>2</td>\n",
       "      <td>2</td>\n",
       "      <td>7.9</td>\n",
       "      <td>4</td>\n",
       "      <td>11</td>\n",
       "      <td>0</td>\n",
       "      <td>False</td>\n",
       "      <td>36.0</td>\n",
       "      <td>5</td>\n",
       "    </tr>\n",
       "    <tr>\n",
       "      <th>2</th>\n",
       "      <td>Intern/Fresher</td>\n",
       "      <td>1</td>\n",
       "      <td>Marketing</td>\n",
       "      <td>4</td>\n",
       "      <td>2.1</td>\n",
       "      <td>5</td>\n",
       "      <td>4</td>\n",
       "      <td>6.5</td>\n",
       "      <td>0</td>\n",
       "      <td>30</td>\n",
       "      <td>0</td>\n",
       "      <td>True</td>\n",
       "      <td>10.5</td>\n",
       "      <td>5</td>\n",
       "    </tr>\n",
       "    <tr>\n",
       "      <th>3</th>\n",
       "      <td>Junior</td>\n",
       "      <td>6</td>\n",
       "      <td>IT</td>\n",
       "      <td>2</td>\n",
       "      <td>1.9</td>\n",
       "      <td>3</td>\n",
       "      <td>1</td>\n",
       "      <td>7.5</td>\n",
       "      <td>2</td>\n",
       "      <td>9</td>\n",
       "      <td>0</td>\n",
       "      <td>True</td>\n",
       "      <td>23.0</td>\n",
       "      <td>5</td>\n",
       "    </tr>\n",
       "    <tr>\n",
       "      <th>4</th>\n",
       "      <td>Junior</td>\n",
       "      <td>1</td>\n",
       "      <td>Sales</td>\n",
       "      <td>1</td>\n",
       "      <td>3.7</td>\n",
       "      <td>2</td>\n",
       "      <td>1</td>\n",
       "      <td>4.9</td>\n",
       "      <td>0</td>\n",
       "      <td>7</td>\n",
       "      <td>0</td>\n",
       "      <td>False</td>\n",
       "      <td>20.5</td>\n",
       "      <td>5</td>\n",
       "    </tr>\n",
       "    <tr>\n",
       "      <th>...</th>\n",
       "      <td>...</td>\n",
       "      <td>...</td>\n",
       "      <td>...</td>\n",
       "      <td>...</td>\n",
       "      <td>...</td>\n",
       "      <td>...</td>\n",
       "      <td>...</td>\n",
       "      <td>...</td>\n",
       "      <td>...</td>\n",
       "      <td>...</td>\n",
       "      <td>...</td>\n",
       "      <td>...</td>\n",
       "      <td>...</td>\n",
       "      <td>...</td>\n",
       "    </tr>\n",
       "    <tr>\n",
       "      <th>3020</th>\n",
       "      <td>Lead</td>\n",
       "      <td>16</td>\n",
       "      <td>Marketing</td>\n",
       "      <td>3</td>\n",
       "      <td>1.9</td>\n",
       "      <td>4</td>\n",
       "      <td>3</td>\n",
       "      <td>6.8</td>\n",
       "      <td>8</td>\n",
       "      <td>28</td>\n",
       "      <td>8</td>\n",
       "      <td>False</td>\n",
       "      <td>58.0</td>\n",
       "      <td>1</td>\n",
       "    </tr>\n",
       "    <tr>\n",
       "      <th>3021</th>\n",
       "      <td>Lead</td>\n",
       "      <td>8</td>\n",
       "      <td>IT</td>\n",
       "      <td>1</td>\n",
       "      <td>1.5</td>\n",
       "      <td>2</td>\n",
       "      <td>1</td>\n",
       "      <td>6.9</td>\n",
       "      <td>8</td>\n",
       "      <td>21</td>\n",
       "      <td>8</td>\n",
       "      <td>True</td>\n",
       "      <td>54.0</td>\n",
       "      <td>1</td>\n",
       "    </tr>\n",
       "    <tr>\n",
       "      <th>3022</th>\n",
       "      <td>Lead</td>\n",
       "      <td>17</td>\n",
       "      <td>IT</td>\n",
       "      <td>1</td>\n",
       "      <td>1.3</td>\n",
       "      <td>1</td>\n",
       "      <td>1</td>\n",
       "      <td>6.1</td>\n",
       "      <td>6</td>\n",
       "      <td>23</td>\n",
       "      <td>3</td>\n",
       "      <td>True</td>\n",
       "      <td>58.5</td>\n",
       "      <td>1</td>\n",
       "    </tr>\n",
       "    <tr>\n",
       "      <th>3023</th>\n",
       "      <td>Lead</td>\n",
       "      <td>16</td>\n",
       "      <td>IT</td>\n",
       "      <td>5</td>\n",
       "      <td>2.5</td>\n",
       "      <td>3</td>\n",
       "      <td>3</td>\n",
       "      <td>7.7</td>\n",
       "      <td>10</td>\n",
       "      <td>30</td>\n",
       "      <td>7</td>\n",
       "      <td>True</td>\n",
       "      <td>58.0</td>\n",
       "      <td>1</td>\n",
       "    </tr>\n",
       "    <tr>\n",
       "      <th>3024</th>\n",
       "      <td>Lead</td>\n",
       "      <td>22</td>\n",
       "      <td>Marketing</td>\n",
       "      <td>3</td>\n",
       "      <td>1.1</td>\n",
       "      <td>3</td>\n",
       "      <td>5</td>\n",
       "      <td>6.2</td>\n",
       "      <td>7</td>\n",
       "      <td>29</td>\n",
       "      <td>4</td>\n",
       "      <td>False</td>\n",
       "      <td>61.0</td>\n",
       "      <td>1</td>\n",
       "    </tr>\n",
       "  </tbody>\n",
       "</table>\n",
       "<p>3025 rows × 14 columns</p>\n",
       "</div>"
      ],
      "text/plain": [
       "            JobLevel  Experience       Dept  WorkEnv  PhysicalActivityHours  \\\n",
       "0                Mid           7         IT        1                    2.5   \n",
       "1                Mid          12    Finance        1                    1.8   \n",
       "2     Intern/Fresher           1  Marketing        4                    2.1   \n",
       "3             Junior           6         IT        2                    1.9   \n",
       "4             Junior           1      Sales        1                    3.7   \n",
       "...              ...         ...        ...      ...                    ...   \n",
       "3020            Lead          16  Marketing        3                    1.9   \n",
       "3021            Lead           8         IT        1                    1.5   \n",
       "3022            Lead          17         IT        1                    1.3   \n",
       "3023            Lead          16         IT        5                    2.5   \n",
       "3024            Lead          22  Marketing        3                    1.1   \n",
       "\n",
       "      Workload  Stress  SleepHours  NumCompanies  TeamSize  NumReports  \\\n",
       "0            2       1         7.6             3        12           0   \n",
       "1            2       2         7.9             4        11           0   \n",
       "2            5       4         6.5             0        30           0   \n",
       "3            3       1         7.5             2         9           0   \n",
       "4            2       1         4.9             0         7           0   \n",
       "...        ...     ...         ...           ...       ...         ...   \n",
       "3020         4       3         6.8             8        28           8   \n",
       "3021         2       1         6.9             8        21           8   \n",
       "3022         1       1         6.1             6        23           3   \n",
       "3023         3       3         7.7            10        30           7   \n",
       "3024         3       5         6.2             7        29           4   \n",
       "\n",
       "      haveOT  TrainingHoursPerYear  JobSatisfaction  \n",
       "0       True                  33.5                5  \n",
       "1      False                  36.0                5  \n",
       "2       True                  10.5                5  \n",
       "3       True                  23.0                5  \n",
       "4      False                  20.5                5  \n",
       "...      ...                   ...              ...  \n",
       "3020   False                  58.0                1  \n",
       "3021    True                  54.0                1  \n",
       "3022    True                  58.5                1  \n",
       "3023    True                  58.0                1  \n",
       "3024   False                  61.0                1  \n",
       "\n",
       "[3025 rows x 14 columns]"
      ]
     },
     "execution_count": 122,
     "metadata": {},
     "output_type": "execute_result"
    }
   ],
   "source": [
    "df"
   ]
  },
  {
   "cell_type": "code",
   "execution_count": 123,
   "id": "43aaaabd-037f-4199-8ba0-4fbbe3d9feb9",
   "metadata": {},
   "outputs": [
    {
     "data": {
      "image/png": "[encoded data removed]",
      "text/plain": [
       "<Figure size 640x480 with 1 Axes>"
      ]
     },
     "metadata": {},
     "output_type": "display_data"
    }
   ],
   "source": [
    "sns.countplot(x=\"Dept\", data=df)\n",
    "plt.title(\"Count Of Categorical\")\n",
    "plt.xticks(rotation=45)\n",
    "plt.show()"
   ]
  },
  {
   "cell_type": "code",
   "execution_count": 124,
   "id": "a0203cb4-333d-4281-94df-98dbe3894f96",
   "metadata": {},
   "outputs": [
    {
     "data": {
      "text/plain": [
       "<Axes: xlabel='JobLevel', ylabel='count'>"
      ]
     },
     "execution_count": 124,
     "metadata": {},
     "output_type": "execute_result"
    },
    {
     "data": {
      "image/png": "[encoded data removed]",
      "text/plain": [
       "<Figure size 640x480 with 1 Axes>"
      ]
     },
     "metadata": {},
     "output_type": "display_data"
    }
   ],
   "source": [
    "sns.countplot(x=\"JobLevel\",data=df)"
   ]
  },
  {
   "cell_type": "code",
   "execution_count": 125,
   "id": "27f81aa0-3ee6-445c-afcc-79fab54b62d3",
   "metadata": {},
   "outputs": [
    {
     "data": {
      "text/plain": [
       "([0, 1, 2, 3, 4, 5, 6, 7],\n",
       " [Text(0, 0, 'IT'),\n",
       "  Text(1, 0, 'Finance'),\n",
       "  Text(2, 0, 'Marketing'),\n",
       "  Text(3, 0, 'Sales'),\n",
       "  Text(4, 0, 'Operations'),\n",
       "  Text(5, 0, 'Customer Service'),\n",
       "  Text(6, 0, 'Legal'),\n",
       "  Text(7, 0, 'HR')])"
      ]
     },
     "execution_count": 125,
     "metadata": {},
     "output_type": "execute_result"
    },
    {
     "data": {
      "image/png": "[encoded data removed]",
      "text/plain": [
       "<Figure size 640x480 with 1 Axes>"
      ]
     },
     "metadata": {},
     "output_type": "display_data"
    }
   ],
   "source": [
    "sns.countplot(x=\"Dept\",hue=\"JobLevel\",data=df)\n",
    "plt.xticks(rotation=45)"
   ]
  },
  {
   "cell_type": "code",
   "execution_count": 126,
   "id": "4f96586e-f1a2-4abe-b118-a2e1f8f6285a",
   "metadata": {},
   "outputs": [
    {
     "data": {
      "image/png": "[encoded data removed]",
      "text/plain": [
       "<Figure size 640x480 with 1 Axes>"
      ]
     },
     "metadata": {},
     "output_type": "display_data"
    }
   ],
   "source": [
    "ax=sns.barplot(x=\"JobLevel\",y=\"Experience\",data=df)\n",
    "for container in ax.containers:\n",
    "    ax.bar_label(container,label_type=\"edge\",padding=10)"
   ]
  },
  {
   "cell_type": "markdown",
   "id": "1008a363-8620-4dc3-aa81-933de29f8ded",
   "metadata": {},
   "source": [
    "**finding coreration between two columns** "
   ]
  },
  {
   "cell_type": "code",
   "execution_count": 131,
   "id": "e7a37a7c-f11b-41b3-a3e3-d2720bf0e6e2",
   "metadata": {},
   "outputs": [
    {
     "name": "stdout",
     "output_type": "stream",
     "text": [
      "correlation: -0.011802598172823503\n"
     ]
    }
   ],
   "source": [
    "corr=df[\"PhysicalActivityHours\"].corr(df[\"Stress\"])\n",
    "print(\"correlation:\",corr)"
   ]
  },
  {
   "cell_type": "code",
   "execution_count": 135,
   "id": "f0de8aca-5b05-4e1d-9964-f5e51ef1c79b",
   "metadata": {},
   "outputs": [
    {
     "data": {
      "text/plain": [
       "<Axes: xlabel='PhysicalActivityHours', ylabel='Stress'>"
      ]
     },
     "execution_count": 135,
     "metadata": {},
     "output_type": "execute_result"
    },
    {
     "data": {
      "image/png": "[encoded data removed]",
      "text/plain": [
       "<Figure size 640x480 with 1 Axes>"
      ]
     },
     "metadata": {},
     "output_type": "display_data"
    }
   ],
   "source": [
    "sns.scatterplot(x=\"PhysicalActivityHours\",y=\"Stress\",data=df)"
   ]
  },
  {
   "cell_type": "code",
   "execution_count": 138,
   "id": "d594a2c0-af92-4799-8b87-304aef5cbccc",
   "metadata": {},
   "outputs": [
    {
     "data": {
      "text/plain": [
       "<Axes: xlabel='PhysicalActivityHours', ylabel='Stress'>"
      ]
     },
     "execution_count": 138,
     "metadata": {},
     "output_type": "execute_result"
    },
    {
     "data": {
      "image/png": "[encoded data removed]",
      "text/plain": [
       "<Figure size 640x480 with 1 Axes>"
      ]
     },
     "metadata": {},
     "output_type": "display_data"
    }
   ],
   "source": [
    "sns.regplot(x=\"PhysicalActivityHours\",y=\"Stress\",data=df,scatter=\"Flase\",color=\"red\")"
   ]
  },
  {
   "cell_type": "code",
   "execution_count": 132,
   "id": "90f5ce09-3d06-4131-8db4-a9369a5d4eac",
   "metadata": {},
   "outputs": [
    {
     "name": "stdout",
     "output_type": "stream",
     "text": [
      "correlation: 0.009619956273341723\n"
     ]
    }
   ],
   "source": [
    "corr=df[\"Workload\"].corr(df[\"Stress\"])\n",
    "print(\"correlation:\",corr)"
   ]
  },
  {
   "cell_type": "code",
   "execution_count": 145,
   "id": "ff8c8289-b3c6-45bf-9672-04087c4a1697",
   "metadata": {},
   "outputs": [
    {
     "data": {
      "text/plain": [
       "<Axes: xlabel='Workload', ylabel='Stress'>"
      ]
     },
     "execution_count": 145,
     "metadata": {},
     "output_type": "execute_result"
    },
    {
     "data": {
      "image/png": "[encoded data removed]",
      "text/plain": [
       "<Figure size 640x480 with 1 Axes>"
      ]
     },
     "metadata": {},
     "output_type": "display_data"
    }
   ],
   "source": [
    "sns.regplot(x=\"Workload\",y=\"Stress\",data=df,color=\"black\")"
   ]
  },
  {
   "cell_type": "code",
   "execution_count": 133,
   "id": "422d00af-d7a8-4bf8-b37b-4347b61f9b81",
   "metadata": {},
   "outputs": [
    {
     "name": "stdout",
     "output_type": "stream",
     "text": [
      "corerelatiob: -0.005604895706623586\n"
     ]
    }
   ],
   "source": [
    "corr=df[\"TrainingHoursPerYear\"].corr(df[\"JobSatisfaction\"])\n",
    "print(\"corerelatiob:\",corr)"
   ]
  },
  {
   "cell_type": "code",
   "execution_count": 147,
   "id": "492aae39-a5a2-4730-90da-9a76d6cfac59",
   "metadata": {},
   "outputs": [
    {
     "data": {
      "text/plain": [
       "<Axes: xlabel='JobSatisfaction', ylabel='TrainingHoursPerYear'>"
      ]
     },
     "execution_count": 147,
     "metadata": {},
     "output_type": "execute_result"
    },
    {
     "data": {
      "image/png": "[encoded data removed]",
      "text/plain": [
       "<Figure size 640x480 with 1 Axes>"
      ]
     },
     "metadata": {},
     "output_type": "display_data"
    }
   ],
   "source": [
    "sns.scatterplot(x=\"JobSatisfaction\",y=\"TrainingHoursPerYear\",data=df)"
   ]
  },
  {
   "cell_type": "code",
   "execution_count": 149,
   "id": "1ead1601-54be-4114-a045-ee56aa8cf6ea",
   "metadata": {},
   "outputs": [
    {
     "data": {
      "text/plain": [
       "<Axes: xlabel='JobSatisfaction', ylabel='TrainingHoursPerYear'>"
      ]
     },
     "execution_count": 149,
     "metadata": {},
     "output_type": "execute_result"
    },
    {
     "data": {
      "image/png": "[encoded data removed]",
      "text/plain": [
       "<Figure size 640x480 with 1 Axes>"
      ]
     },
     "metadata": {},
     "output_type": "display_data"
    }
   ],
   "source": [
    "sns.regplot(x=\"JobSatisfaction\",y=\"TrainingHoursPerYear\",data=df,color=\"orange\")"
   ]
  },
  {
   "cell_type": "code",
   "execution_count": 153,
   "id": "22363311-b5b7-4c53-825f-367cea77673e",
   "metadata": {},
   "outputs": [
    {
     "data": {
      "text/plain": [
       "<Axes: xlabel='JobSatisfaction', ylabel='Workload'>"
      ]
     },
     "execution_count": 153,
     "metadata": {},
     "output_type": "execute_result"
    },
    {
     "data": {
      "image/png": "[encoded data removed]",
      "text/plain": [
       "<Figure size 640x480 with 1 Axes>"
      ]
     },
     "metadata": {},
     "output_type": "display_data"
    }
   ],
   "source": [
    "sns.boxplot(data=df,x=\"JobSatisfaction\",y=\"Workload\",hue=\"Dept\")"
   ]
  },
  {
   "cell_type": "code",
   "execution_count": 154,
   "id": "54aa1daa-f88b-488f-b030-8f8028bf7890",
   "metadata": {},
   "outputs": [
    {
     "data": {
      "text/plain": [
       "<Axes: xlabel='Dept', ylabel='Workload'>"
      ]
     },
     "execution_count": 154,
     "metadata": {},
     "output_type": "execute_result"
    },
    {
     "data": {
      "image/png": "[encoded data removed]",
      "text/plain": [
       "<Figure size 640x480 with 1 Axes>"
      ]
     },
     "metadata": {},
     "output_type": "display_data"
    }
   ],
   "source": [
    "sns.boxplot(data=df,x=\"Dept\",y=\"Workload\",hue=\"JobSatisfaction\")"
   ]
  },
  {
   "cell_type": "code",
   "execution_count": 156,
   "id": "b197aeb9-1dca-436d-b2e4-f2fb9f891e6e",
   "metadata": {},
   "outputs": [
    {
     "name": "stdout",
     "output_type": "stream",
     "text": [
      "<class 'pandas.core.frame.DataFrame'>\n",
      "RangeIndex: 3025 entries, 0 to 3024\n",
      "Data columns (total 14 columns):\n",
      " #   Column                 Non-Null Count  Dtype  \n",
      "---  ------                 --------------  -----  \n",
      " 0   JobLevel               3025 non-null   object \n",
      " 1   Experience             3025 non-null   int64  \n",
      " 2   Dept                   3025 non-null   object \n",
      " 3   WorkEnv                3025 non-null   int64  \n",
      " 4   PhysicalActivityHours  3025 non-null   float64\n",
      " 5   Workload               3025 non-null   int64  \n",
      " 6   Stress                 3025 non-null   int64  \n",
      " 7   SleepHours             3025 non-null   float64\n",
      " 8   NumCompanies           3025 non-null   int64  \n",
      " 9   TeamSize               3025 non-null   int64  \n",
      " 10  NumReports             3025 non-null   int64  \n",
      " 11  haveOT                 3025 non-null   bool   \n",
      " 12  TrainingHoursPerYear   3025 non-null   float64\n",
      " 13  JobSatisfaction        3025 non-null   int64  \n",
      "dtypes: bool(1), float64(3), int64(8), object(2)\n",
      "memory usage: 310.3+ KB\n"
     ]
    }
   ],
   "source": [
    "df.info()"
   ]
  },
  {
   "cell_type": "code",
   "execution_count": 159,
   "id": "2acc0a14-5335-4d50-8ecf-34e14f0bf70f",
   "metadata": {},
   "outputs": [
    {
     "data": {
      "text/plain": [
       "<Axes: xlabel='Experience', ylabel='JobSatisfaction'>"
      ]
     },
     "execution_count": 159,
     "metadata": {},
     "output_type": "execute_result"
    },
    {
     "data": {
      "image/png": "[encoded data removed]",
      "text/plain": [
       "<Figure size 640x480 with 1 Axes>"
      ]
     },
     "metadata": {},
     "output_type": "display_data"
    }
   ],
   "source": [
    "sns.barplot(x=\"Experience\",y=\"JobSatisfaction\",data=df)"
   ]
  },
  {
   "cell_type": "code",
   "execution_count": 160,
   "id": "53d5b120-723e-4083-9dcb-8c7a343bc4f6",
   "metadata": {},
   "outputs": [
    {
     "data": {
      "text/plain": [
       "<Axes: xlabel='TeamSize', ylabel='JobSatisfaction'>"
      ]
     },
     "execution_count": 160,
     "metadata": {},
     "output_type": "execute_result"
    },
    {
     "data": {
      "image/png": "[encoded data removed]",
      "text/plain": [
       "<Figure size 640x480 with 1 Axes>"
      ]
     },
     "metadata": {},
     "output_type": "display_data"
    }
   ],
   "source": [
    "sns.barplot(x=\"TeamSize\",y=\"JobSatisfaction\",data=df)"
   ]
  },
  {
   "cell_type": "code",
   "execution_count": 166,
   "id": "bef0524a-8a23-46bc-830e-4f1d42d3c86e",
   "metadata": {},
   "outputs": [
    {
     "data": {
      "text/plain": [
       "array([12, 11, 30,  9,  7, 13,  8, 10, 18, 21, 14, 16, 15, 24, 26, 23,  5,\n",
       "       19, 17,  6, 25, 22, 28, 20, 29, 27])"
      ]
     },
     "execution_count": 166,
     "metadata": {},
     "output_type": "execute_result"
    }
   ],
   "source": [
    "df[\"TeamSize\"].unique()"
   ]
  },
  {
   "cell_type": "code",
   "execution_count": 167,
   "id": "99b60ff5-bef3-4182-91a0-3c4cbe21db13",
   "metadata": {},
   "outputs": [
    {
     "name": "stdout",
     "output_type": "stream",
     "text": [
      "correlation: 0.0023409988339486197\n"
     ]
    }
   ],
   "source": [
    "corr=df[\"TeamSize\"].corr(df[\"JobSatisfaction\"])\n",
    "print(\"correlation:\",corr)"
   ]
  },
  {
   "cell_type": "code",
   "execution_count": 168,
   "id": "ccb94e02-75fb-4620-b0a2-2181bd2506b3",
   "metadata": {},
   "outputs": [
    {
     "data": {
      "text/plain": [
       "<Axes: xlabel='TeamSize', ylabel='JobSatisfaction'>"
      ]
     },
     "execution_count": 168,
     "metadata": {},
     "output_type": "execute_result"
    },
    {
     "data": {
      "image/png": "[encoded data removed]",
      "text/plain": [
       "<Figure size 640x480 with 1 Axes>"
      ]
     },
     "metadata": {},
     "output_type": "display_data"
    }
   ],
   "source": [
    "sns.regplot(x=\"TeamSize\",y=\"JobSatisfaction\",data=df,color=\"red\")"
   ]
  },
  {
   "cell_type": "code",
   "execution_count": 169,
   "id": "77e33475-6782-465d-9d08-763b06533434",
   "metadata": {},
   "outputs": [
    {
     "name": "stdout",
     "output_type": "stream",
     "text": [
      "correlation: 0.24873001927225777\n"
     ]
    }
   ],
   "source": [
    "corr=df[\"WorkEnv\"].corr(df[\"JobSatisfaction\"])\n",
    "print(\"correlation:\",corr)"
   ]
  },
  {
   "cell_type": "code",
   "execution_count": 170,
   "id": "c5bb99d4-8ad4-46e4-8eea-0f3075493182",
   "metadata": {},
   "outputs": [
    {
     "data": {
      "text/plain": [
       "<Axes: xlabel='WorkEnv', ylabel='JobSatisfaction'>"
      ]
     },
     "execution_count": 170,
     "metadata": {},
     "output_type": "execute_result"
    },
    {
     "data": {
      "image/png": "[encoded data removed]",
      "text/plain": [
       "<Figure size 640x480 with 1 Axes>"
      ]
     },
     "metadata": {},
     "output_type": "display_data"
    }
   ],
   "source": [
    "sns.regplot(x=\"WorkEnv\",y=\"JobSatisfaction\",data=df,color=\"red\")"
   ]
  },
  {
   "cell_type": "code",
   "execution_count": 171,
   "id": "8c5f33fa-6bd2-4bf6-bd1b-3ba44014c9d1",
   "metadata": {},
   "outputs": [
    {
     "data": {
      "text/plain": [
       "<Axes: xlabel='WorkEnv', ylabel='JobSatisfaction'>"
      ]
     },
     "execution_count": 171,
     "metadata": {},
     "output_type": "execute_result"
    },
    {
     "data": {
      "image/png": "[encoded data removed]",
      "text/plain": [
       "<Figure size 640x480 with 1 Axes>"
      ]
     },
     "metadata": {},
     "output_type": "display_data"
    }
   ],
   "source": [
    "sns.barplot(x=\"WorkEnv\",y=\"JobSatisfaction\",data=df)"
   ]
  },
  {
   "cell_type": "code",
   "execution_count": null,
   "id": "b71aac09-a318-4e4d-8c55-c274815635e7",
   "metadata": {},
   "outputs": [],
   "source": []
  }
 ],
 "metadata": {
  "kernelspec": {
   "display_name": "Python 3 (ipykernel)",
   "language": "python",
   "name": "python3"
  },
  "language_info": {
   "codemirror_mode": {
    "name": "ipython",
    "version": 3
   },
   "file_extension": ".py",
   "mimetype": "text/x-python",
   "name": "python",
   "nbconvert_exporter": "python",
   "pygments_lexer": "ipython3",
   "version": "3.10.11"
  }
 },
 "nbformat": 4,
 "nbformat_minor": 5
}
